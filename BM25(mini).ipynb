{
  "nbformat": 4,
  "nbformat_minor": 0,
  "metadata": {
    "colab": {
      "provenance": [],
      "authorship_tag": "ABX9TyPAKAjf7B6MqFM4ufBt/4hp",
      "include_colab_link": true
    },
    "kernelspec": {
      "name": "python3",
      "display_name": "Python 3"
    },
    "language_info": {
      "name": "python"
    }
  },
  "cells": [
    {
      "cell_type": "markdown",
      "metadata": {
        "id": "view-in-github",
        "colab_type": "text"
      },
      "source": [
        "<a href=\"https://colab.research.google.com/github/siting1206/NLP_HW2/blob/main/BM25(mini).ipynb\" target=\"_parent\"><img src=\"https://colab.research.google.com/assets/colab-badge.svg\" alt=\"Open In Colab\"/></a>"
      ]
    },
    {
      "cell_type": "code",
      "execution_count": 250,
      "metadata": {
        "id": "T3wMscmNomZB"
      },
      "outputs": [],
      "source": [
        "from gensim import corpora\n",
        "from gensim.summarization import bm25\n",
        "from nltk.stem.porter import PorterStemmer  \n",
        "from collections import namedtuple\n",
        "import regex as re\n",
        "import heapq\n",
        "p_stemmer = PorterStemmer()"
      ]
    },
    {
      "cell_type": "code",
      "source": [
        "from google.colab import drive\n",
        "drive.mount('/content/drive')"
      ],
      "metadata": {
        "colab": {
          "base_uri": "https://localhost:8080/"
        },
        "id": "JERs6ZFLphnG",
        "outputId": "9e0a5570-bbd0-422e-d709-efe5404bc797"
      },
      "execution_count": 251,
      "outputs": [
        {
          "output_type": "stream",
          "name": "stdout",
          "text": [
            "Drive already mounted at /content/drive; to attempt to forcibly remount, call drive.mount(\"/content/drive\", force_remount=True).\n"
          ]
        }
      ]
    },
    {
      "cell_type": "code",
      "source": [
        "Tag = namedtuple(\"Tag\", [\"snippets\", \"question\", \"answer\"])\n",
        "\n",
        "# Load train/validation dataset definition\n",
        "def load_sequences(filename, sep=\"\\t\", notypes=False, test_data=False):\n",
        "    sequences = []\n",
        "    with open(filename) as fp:\n",
        "        seq = []\n",
        "        for line in fp:\n",
        "            line = line.strip()\n",
        "            if line:\n",
        "                line = line.replace(\" ||| \", \"\\t\")\n",
        "                line = line.split(sep)\n",
        "                seq.append(Tag(*line))\n",
        "            else:\n",
        "                sequences.append(seq)\n",
        "                seq = []\n",
        "        if seq:\n",
        "            sequences.append(seq)\n",
        "    return sequences"
      ],
      "metadata": {
        "id": "YlEWP6arqO7-"
      },
      "execution_count": 252,
      "outputs": []
    },
    {
      "cell_type": "code",
      "source": [
        "train_sequences = load_sequences(\"drive/MyDrive/NLP_assignment2/Dataset/mini.txt\", sep=\"\\t\", notypes=True)"
      ],
      "metadata": {
        "id": "Mu-cQsi0poBu"
      },
      "execution_count": 262,
      "outputs": []
    },
    {
      "cell_type": "code",
      "source": [
        "train_snippets = [[t[0] for t in seq] for seq in (train_sequences)] # length = 99820\n",
        "train_question = [[t[1] for t in seq] for seq in (train_sequences)]\n",
        "train_answer = [[t[2] for t in seq] for seq in (train_sequences)]"
      ],
      "metadata": {
        "id": "u5BhGDUzDPCB"
      },
      "execution_count": 272,
      "outputs": []
    },
    {
      "cell_type": "code",
      "source": [
        "def sort_index(lst, rev=True):\n",
        "    index = range(len(lst))\n",
        "    s = sorted(index, reverse=rev, key=lambda i: lst[i])\n",
        "    return s"
      ],
      "metadata": {
        "id": "_fr9VOwzPgqK"
      },
      "execution_count": 268,
      "outputs": []
    },
    {
      "cell_type": "code",
      "source": [
        "def snippets_filter(snippets, question, trn_s = []):\n",
        "  \n",
        "  for i in range(0, len(snippets)):\n",
        "    snippets[i] = re.findall('<s> (.*?) </s>', snippets[i])\n",
        "    question[i] = question[i].split()\n",
        "    snippets_list =[]\n",
        "    \n",
        "    for a in snippets[i]:\n",
        "      a_split = a.replace('?',' ').replace('(',' ').replace(')',' ').split(' ')\n",
        "      # 詞干提取(e.g. assignment->assign, words->word)\n",
        "      stemmed_tokens = [p_stemmer.stem(i) for i in a_split] \n",
        "      snippets_list.append(stemmed_tokens)\n",
        "    query =[question[i]]\n",
        "    query_stemmed = [p_stemmer.stem(i) for i in query[0]]\n",
        "    # bm25模型\n",
        "    bm25Model = bm25.BM25(snippets_list)\n",
        "    # 計算各個snippets與answer相關性\n",
        "    average_idf = sum(map(lambda k: float(bm25Model.idf[k]), bm25Model.idf.keys())) / len(bm25Model.idf.keys())\n",
        "    scores = bm25Model.get_scores(query_stemmed,average_idf)\n",
        "    max_index = sort_index(scores)[:3]\n",
        "    s = []\n",
        "    for m in range(0, 3):\n",
        "      n = max_index[m]\n",
        "      s.append(snippets[i][n])\n",
        "    trn_s.append(s)\n",
        "  return trn_s, question"
      ],
      "metadata": {
        "id": "IW_Sel_1DaHR"
      },
      "execution_count": 271,
      "outputs": []
    },
    {
      "cell_type": "code",
      "source": [
        "trn_s, trn_q = snippets_filter(train_snippets[0], train_question[0], trn_s = [])"
      ],
      "metadata": {
        "id": "fC_MpuDbXY76"
      },
      "execution_count": 273,
      "outputs": []
    },
    {
      "cell_type": "code",
      "source": [
        "f = open(\"/content/drive/MyDrive/NLP_assignment2/Dataset/mini_ext.txt\", \"w\")\n",
        "for i in range(0, len(trn_s)):\n",
        "  for j in range(0, len(trn_s[i])):\n",
        "    f.write(\" <s> \" + trn_s[i][j] + \" </s> \")\n",
        "  f.write(\" |||\")\n",
        "  for k in range(0, len(trn_q[i])):\n",
        "    f.write(\" \" + trn_q[i][k])\n",
        "  f.write(\" ||| \"+ train_answer[0][i])\n",
        "  f.write(\"\\n\")\n",
        "f.close()"
      ],
      "metadata": {
        "id": "TgnQWKSErasu"
      },
      "execution_count": 278,
      "outputs": []
    }
  ]
}