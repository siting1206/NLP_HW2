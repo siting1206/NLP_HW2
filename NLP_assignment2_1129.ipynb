{
  "nbformat": 4,
  "nbformat_minor": 0,
  "metadata": {
    "colab": {
      "provenance": [],
      "include_colab_link": true
    },
    "kernelspec": {
      "name": "python3",
      "display_name": "Python 3"
    },
    "language_info": {
      "name": "python"
    },
    "gpuClass": "standard",
    "accelerator": "GPU",
    "widgets": {
      "application/vnd.jupyter.widget-state+json": {
        "1624449caee34b86a20e090b25d8af1b": {
          "model_module": "@jupyter-widgets/controls",
          "model_name": "HBoxModel",
          "model_module_version": "1.5.0",
          "state": {
            "_dom_classes": [],
            "_model_module": "@jupyter-widgets/controls",
            "_model_module_version": "1.5.0",
            "_model_name": "HBoxModel",
            "_view_count": null,
            "_view_module": "@jupyter-widgets/controls",
            "_view_module_version": "1.5.0",
            "_view_name": "HBoxView",
            "box_style": "",
            "children": [
              "IPY_MODEL_07eb849954d246c0a0909d881f05b334",
              "IPY_MODEL_934fd7f9fc4641cfaf6dca9c7f43da13",
              "IPY_MODEL_f315cda72a8249d18be1f9867f9d0139"
            ],
            "layout": "IPY_MODEL_7b0b40454d1c4067ac9b5dcf5b952016"
          }
        },
        "07eb849954d246c0a0909d881f05b334": {
          "model_module": "@jupyter-widgets/controls",
          "model_name": "HTMLModel",
          "model_module_version": "1.5.0",
          "state": {
            "_dom_classes": [],
            "_model_module": "@jupyter-widgets/controls",
            "_model_module_version": "1.5.0",
            "_model_name": "HTMLModel",
            "_view_count": null,
            "_view_module": "@jupyter-widgets/controls",
            "_view_module_version": "1.5.0",
            "_view_name": "HTMLView",
            "description": "",
            "description_tooltip": null,
            "layout": "IPY_MODEL_b8af96d679e4486ab4e4279f2cbef5b1",
            "placeholder": "​",
            "style": "IPY_MODEL_52f170eb7059438496edddf31af757bd",
            "value": "Downloading: 100%"
          }
        },
        "934fd7f9fc4641cfaf6dca9c7f43da13": {
          "model_module": "@jupyter-widgets/controls",
          "model_name": "FloatProgressModel",
          "model_module_version": "1.5.0",
          "state": {
            "_dom_classes": [],
            "_model_module": "@jupyter-widgets/controls",
            "_model_module_version": "1.5.0",
            "_model_name": "FloatProgressModel",
            "_view_count": null,
            "_view_module": "@jupyter-widgets/controls",
            "_view_module_version": "1.5.0",
            "_view_name": "ProgressView",
            "bar_style": "success",
            "description": "",
            "description_tooltip": null,
            "layout": "IPY_MODEL_492651ba3f2544fb9a536ff03a778f61",
            "max": 29,
            "min": 0,
            "orientation": "horizontal",
            "style": "IPY_MODEL_a7acc07bc2244c84a9dc37eb46daf5d4",
            "value": 29
          }
        },
        "f315cda72a8249d18be1f9867f9d0139": {
          "model_module": "@jupyter-widgets/controls",
          "model_name": "HTMLModel",
          "model_module_version": "1.5.0",
          "state": {
            "_dom_classes": [],
            "_model_module": "@jupyter-widgets/controls",
            "_model_module_version": "1.5.0",
            "_model_name": "HTMLModel",
            "_view_count": null,
            "_view_module": "@jupyter-widgets/controls",
            "_view_module_version": "1.5.0",
            "_view_name": "HTMLView",
            "description": "",
            "description_tooltip": null,
            "layout": "IPY_MODEL_6a580b09d2bc40b9b835c2834820d870",
            "placeholder": "​",
            "style": "IPY_MODEL_319a4a51d178464f871a21637fe3961a",
            "value": " 29.0/29.0 [00:00&lt;00:00, 391B/s]"
          }
        },
        "7b0b40454d1c4067ac9b5dcf5b952016": {
          "model_module": "@jupyter-widgets/base",
          "model_name": "LayoutModel",
          "model_module_version": "1.2.0",
          "state": {
            "_model_module": "@jupyter-widgets/base",
            "_model_module_version": "1.2.0",
            "_model_name": "LayoutModel",
            "_view_count": null,
            "_view_module": "@jupyter-widgets/base",
            "_view_module_version": "1.2.0",
            "_view_name": "LayoutView",
            "align_content": null,
            "align_items": null,
            "align_self": null,
            "border": null,
            "bottom": null,
            "display": null,
            "flex": null,
            "flex_flow": null,
            "grid_area": null,
            "grid_auto_columns": null,
            "grid_auto_flow": null,
            "grid_auto_rows": null,
            "grid_column": null,
            "grid_gap": null,
            "grid_row": null,
            "grid_template_areas": null,
            "grid_template_columns": null,
            "grid_template_rows": null,
            "height": null,
            "justify_content": null,
            "justify_items": null,
            "left": null,
            "margin": null,
            "max_height": null,
            "max_width": null,
            "min_height": null,
            "min_width": null,
            "object_fit": null,
            "object_position": null,
            "order": null,
            "overflow": null,
            "overflow_x": null,
            "overflow_y": null,
            "padding": null,
            "right": null,
            "top": null,
            "visibility": null,
            "width": null
          }
        },
        "b8af96d679e4486ab4e4279f2cbef5b1": {
          "model_module": "@jupyter-widgets/base",
          "model_name": "LayoutModel",
          "model_module_version": "1.2.0",
          "state": {
            "_model_module": "@jupyter-widgets/base",
            "_model_module_version": "1.2.0",
            "_model_name": "LayoutModel",
            "_view_count": null,
            "_view_module": "@jupyter-widgets/base",
            "_view_module_version": "1.2.0",
            "_view_name": "LayoutView",
            "align_content": null,
            "align_items": null,
            "align_self": null,
            "border": null,
            "bottom": null,
            "display": null,
            "flex": null,
            "flex_flow": null,
            "grid_area": null,
            "grid_auto_columns": null,
            "grid_auto_flow": null,
            "grid_auto_rows": null,
            "grid_column": null,
            "grid_gap": null,
            "grid_row": null,
            "grid_template_areas": null,
            "grid_template_columns": null,
            "grid_template_rows": null,
            "height": null,
            "justify_content": null,
            "justify_items": null,
            "left": null,
            "margin": null,
            "max_height": null,
            "max_width": null,
            "min_height": null,
            "min_width": null,
            "object_fit": null,
            "object_position": null,
            "order": null,
            "overflow": null,
            "overflow_x": null,
            "overflow_y": null,
            "padding": null,
            "right": null,
            "top": null,
            "visibility": null,
            "width": null
          }
        },
        "52f170eb7059438496edddf31af757bd": {
          "model_module": "@jupyter-widgets/controls",
          "model_name": "DescriptionStyleModel",
          "model_module_version": "1.5.0",
          "state": {
            "_model_module": "@jupyter-widgets/controls",
            "_model_module_version": "1.5.0",
            "_model_name": "DescriptionStyleModel",
            "_view_count": null,
            "_view_module": "@jupyter-widgets/base",
            "_view_module_version": "1.2.0",
            "_view_name": "StyleView",
            "description_width": ""
          }
        },
        "492651ba3f2544fb9a536ff03a778f61": {
          "model_module": "@jupyter-widgets/base",
          "model_name": "LayoutModel",
          "model_module_version": "1.2.0",
          "state": {
            "_model_module": "@jupyter-widgets/base",
            "_model_module_version": "1.2.0",
            "_model_name": "LayoutModel",
            "_view_count": null,
            "_view_module": "@jupyter-widgets/base",
            "_view_module_version": "1.2.0",
            "_view_name": "LayoutView",
            "align_content": null,
            "align_items": null,
            "align_self": null,
            "border": null,
            "bottom": null,
            "display": null,
            "flex": null,
            "flex_flow": null,
            "grid_area": null,
            "grid_auto_columns": null,
            "grid_auto_flow": null,
            "grid_auto_rows": null,
            "grid_column": null,
            "grid_gap": null,
            "grid_row": null,
            "grid_template_areas": null,
            "grid_template_columns": null,
            "grid_template_rows": null,
            "height": null,
            "justify_content": null,
            "justify_items": null,
            "left": null,
            "margin": null,
            "max_height": null,
            "max_width": null,
            "min_height": null,
            "min_width": null,
            "object_fit": null,
            "object_position": null,
            "order": null,
            "overflow": null,
            "overflow_x": null,
            "overflow_y": null,
            "padding": null,
            "right": null,
            "top": null,
            "visibility": null,
            "width": null
          }
        },
        "a7acc07bc2244c84a9dc37eb46daf5d4": {
          "model_module": "@jupyter-widgets/controls",
          "model_name": "ProgressStyleModel",
          "model_module_version": "1.5.0",
          "state": {
            "_model_module": "@jupyter-widgets/controls",
            "_model_module_version": "1.5.0",
            "_model_name": "ProgressStyleModel",
            "_view_count": null,
            "_view_module": "@jupyter-widgets/base",
            "_view_module_version": "1.2.0",
            "_view_name": "StyleView",
            "bar_color": null,
            "description_width": ""
          }
        },
        "6a580b09d2bc40b9b835c2834820d870": {
          "model_module": "@jupyter-widgets/base",
          "model_name": "LayoutModel",
          "model_module_version": "1.2.0",
          "state": {
            "_model_module": "@jupyter-widgets/base",
            "_model_module_version": "1.2.0",
            "_model_name": "LayoutModel",
            "_view_count": null,
            "_view_module": "@jupyter-widgets/base",
            "_view_module_version": "1.2.0",
            "_view_name": "LayoutView",
            "align_content": null,
            "align_items": null,
            "align_self": null,
            "border": null,
            "bottom": null,
            "display": null,
            "flex": null,
            "flex_flow": null,
            "grid_area": null,
            "grid_auto_columns": null,
            "grid_auto_flow": null,
            "grid_auto_rows": null,
            "grid_column": null,
            "grid_gap": null,
            "grid_row": null,
            "grid_template_areas": null,
            "grid_template_columns": null,
            "grid_template_rows": null,
            "height": null,
            "justify_content": null,
            "justify_items": null,
            "left": null,
            "margin": null,
            "max_height": null,
            "max_width": null,
            "min_height": null,
            "min_width": null,
            "object_fit": null,
            "object_position": null,
            "order": null,
            "overflow": null,
            "overflow_x": null,
            "overflow_y": null,
            "padding": null,
            "right": null,
            "top": null,
            "visibility": null,
            "width": null
          }
        },
        "319a4a51d178464f871a21637fe3961a": {
          "model_module": "@jupyter-widgets/controls",
          "model_name": "DescriptionStyleModel",
          "model_module_version": "1.5.0",
          "state": {
            "_model_module": "@jupyter-widgets/controls",
            "_model_module_version": "1.5.0",
            "_model_name": "DescriptionStyleModel",
            "_view_count": null,
            "_view_module": "@jupyter-widgets/base",
            "_view_module_version": "1.2.0",
            "_view_name": "StyleView",
            "description_width": ""
          }
        },
        "2d1fee0aae4144ccaaac3137632fe8ad": {
          "model_module": "@jupyter-widgets/controls",
          "model_name": "HBoxModel",
          "model_module_version": "1.5.0",
          "state": {
            "_dom_classes": [],
            "_model_module": "@jupyter-widgets/controls",
            "_model_module_version": "1.5.0",
            "_model_name": "HBoxModel",
            "_view_count": null,
            "_view_module": "@jupyter-widgets/controls",
            "_view_module_version": "1.5.0",
            "_view_name": "HBoxView",
            "box_style": "",
            "children": [
              "IPY_MODEL_8e91cc709c3c4b53816908f1c9841bc3",
              "IPY_MODEL_0b76437c4a86491a96daad50f1187476",
              "IPY_MODEL_949cb2e0cd0346d5b2cbf7969e77ec82"
            ],
            "layout": "IPY_MODEL_0c8eb40af5474b93a653c1a0a7180977"
          }
        },
        "8e91cc709c3c4b53816908f1c9841bc3": {
          "model_module": "@jupyter-widgets/controls",
          "model_name": "HTMLModel",
          "model_module_version": "1.5.0",
          "state": {
            "_dom_classes": [],
            "_model_module": "@jupyter-widgets/controls",
            "_model_module_version": "1.5.0",
            "_model_name": "HTMLModel",
            "_view_count": null,
            "_view_module": "@jupyter-widgets/controls",
            "_view_module_version": "1.5.0",
            "_view_name": "HTMLView",
            "description": "",
            "description_tooltip": null,
            "layout": "IPY_MODEL_94b6c17c1ef64bfd96b96cfcf987143a",
            "placeholder": "​",
            "style": "IPY_MODEL_a103c98b54654bd5b5406aa68f96ab64",
            "value": "Downloading: 100%"
          }
        },
        "0b76437c4a86491a96daad50f1187476": {
          "model_module": "@jupyter-widgets/controls",
          "model_name": "FloatProgressModel",
          "model_module_version": "1.5.0",
          "state": {
            "_dom_classes": [],
            "_model_module": "@jupyter-widgets/controls",
            "_model_module_version": "1.5.0",
            "_model_name": "FloatProgressModel",
            "_view_count": null,
            "_view_module": "@jupyter-widgets/controls",
            "_view_module_version": "1.5.0",
            "_view_name": "ProgressView",
            "bar_style": "success",
            "description": "",
            "description_tooltip": null,
            "layout": "IPY_MODEL_e28693b0f97a4365880348990dd834f9",
            "max": 570,
            "min": 0,
            "orientation": "horizontal",
            "style": "IPY_MODEL_67816ec55323489a8031607dfd935cec",
            "value": 570
          }
        },
        "949cb2e0cd0346d5b2cbf7969e77ec82": {
          "model_module": "@jupyter-widgets/controls",
          "model_name": "HTMLModel",
          "model_module_version": "1.5.0",
          "state": {
            "_dom_classes": [],
            "_model_module": "@jupyter-widgets/controls",
            "_model_module_version": "1.5.0",
            "_model_name": "HTMLModel",
            "_view_count": null,
            "_view_module": "@jupyter-widgets/controls",
            "_view_module_version": "1.5.0",
            "_view_name": "HTMLView",
            "description": "",
            "description_tooltip": null,
            "layout": "IPY_MODEL_48e1d3d77fe9445c8e984a3366f43261",
            "placeholder": "​",
            "style": "IPY_MODEL_6a86c382bcb34d66bce0662333939185",
            "value": " 570/570 [00:00&lt;00:00, 6.07kB/s]"
          }
        },
        "0c8eb40af5474b93a653c1a0a7180977": {
          "model_module": "@jupyter-widgets/base",
          "model_name": "LayoutModel",
          "model_module_version": "1.2.0",
          "state": {
            "_model_module": "@jupyter-widgets/base",
            "_model_module_version": "1.2.0",
            "_model_name": "LayoutModel",
            "_view_count": null,
            "_view_module": "@jupyter-widgets/base",
            "_view_module_version": "1.2.0",
            "_view_name": "LayoutView",
            "align_content": null,
            "align_items": null,
            "align_self": null,
            "border": null,
            "bottom": null,
            "display": null,
            "flex": null,
            "flex_flow": null,
            "grid_area": null,
            "grid_auto_columns": null,
            "grid_auto_flow": null,
            "grid_auto_rows": null,
            "grid_column": null,
            "grid_gap": null,
            "grid_row": null,
            "grid_template_areas": null,
            "grid_template_columns": null,
            "grid_template_rows": null,
            "height": null,
            "justify_content": null,
            "justify_items": null,
            "left": null,
            "margin": null,
            "max_height": null,
            "max_width": null,
            "min_height": null,
            "min_width": null,
            "object_fit": null,
            "object_position": null,
            "order": null,
            "overflow": null,
            "overflow_x": null,
            "overflow_y": null,
            "padding": null,
            "right": null,
            "top": null,
            "visibility": null,
            "width": null
          }
        },
        "94b6c17c1ef64bfd96b96cfcf987143a": {
          "model_module": "@jupyter-widgets/base",
          "model_name": "LayoutModel",
          "model_module_version": "1.2.0",
          "state": {
            "_model_module": "@jupyter-widgets/base",
            "_model_module_version": "1.2.0",
            "_model_name": "LayoutModel",
            "_view_count": null,
            "_view_module": "@jupyter-widgets/base",
            "_view_module_version": "1.2.0",
            "_view_name": "LayoutView",
            "align_content": null,
            "align_items": null,
            "align_self": null,
            "border": null,
            "bottom": null,
            "display": null,
            "flex": null,
            "flex_flow": null,
            "grid_area": null,
            "grid_auto_columns": null,
            "grid_auto_flow": null,
            "grid_auto_rows": null,
            "grid_column": null,
            "grid_gap": null,
            "grid_row": null,
            "grid_template_areas": null,
            "grid_template_columns": null,
            "grid_template_rows": null,
            "height": null,
            "justify_content": null,
            "justify_items": null,
            "left": null,
            "margin": null,
            "max_height": null,
            "max_width": null,
            "min_height": null,
            "min_width": null,
            "object_fit": null,
            "object_position": null,
            "order": null,
            "overflow": null,
            "overflow_x": null,
            "overflow_y": null,
            "padding": null,
            "right": null,
            "top": null,
            "visibility": null,
            "width": null
          }
        },
        "a103c98b54654bd5b5406aa68f96ab64": {
          "model_module": "@jupyter-widgets/controls",
          "model_name": "DescriptionStyleModel",
          "model_module_version": "1.5.0",
          "state": {
            "_model_module": "@jupyter-widgets/controls",
            "_model_module_version": "1.5.0",
            "_model_name": "DescriptionStyleModel",
            "_view_count": null,
            "_view_module": "@jupyter-widgets/base",
            "_view_module_version": "1.2.0",
            "_view_name": "StyleView",
            "description_width": ""
          }
        },
        "e28693b0f97a4365880348990dd834f9": {
          "model_module": "@jupyter-widgets/base",
          "model_name": "LayoutModel",
          "model_module_version": "1.2.0",
          "state": {
            "_model_module": "@jupyter-widgets/base",
            "_model_module_version": "1.2.0",
            "_model_name": "LayoutModel",
            "_view_count": null,
            "_view_module": "@jupyter-widgets/base",
            "_view_module_version": "1.2.0",
            "_view_name": "LayoutView",
            "align_content": null,
            "align_items": null,
            "align_self": null,
            "border": null,
            "bottom": null,
            "display": null,
            "flex": null,
            "flex_flow": null,
            "grid_area": null,
            "grid_auto_columns": null,
            "grid_auto_flow": null,
            "grid_auto_rows": null,
            "grid_column": null,
            "grid_gap": null,
            "grid_row": null,
            "grid_template_areas": null,
            "grid_template_columns": null,
            "grid_template_rows": null,
            "height": null,
            "justify_content": null,
            "justify_items": null,
            "left": null,
            "margin": null,
            "max_height": null,
            "max_width": null,
            "min_height": null,
            "min_width": null,
            "object_fit": null,
            "object_position": null,
            "order": null,
            "overflow": null,
            "overflow_x": null,
            "overflow_y": null,
            "padding": null,
            "right": null,
            "top": null,
            "visibility": null,
            "width": null
          }
        },
        "67816ec55323489a8031607dfd935cec": {
          "model_module": "@jupyter-widgets/controls",
          "model_name": "ProgressStyleModel",
          "model_module_version": "1.5.0",
          "state": {
            "_model_module": "@jupyter-widgets/controls",
            "_model_module_version": "1.5.0",
            "_model_name": "ProgressStyleModel",
            "_view_count": null,
            "_view_module": "@jupyter-widgets/base",
            "_view_module_version": "1.2.0",
            "_view_name": "StyleView",
            "bar_color": null,
            "description_width": ""
          }
        },
        "48e1d3d77fe9445c8e984a3366f43261": {
          "model_module": "@jupyter-widgets/base",
          "model_name": "LayoutModel",
          "model_module_version": "1.2.0",
          "state": {
            "_model_module": "@jupyter-widgets/base",
            "_model_module_version": "1.2.0",
            "_model_name": "LayoutModel",
            "_view_count": null,
            "_view_module": "@jupyter-widgets/base",
            "_view_module_version": "1.2.0",
            "_view_name": "LayoutView",
            "align_content": null,
            "align_items": null,
            "align_self": null,
            "border": null,
            "bottom": null,
            "display": null,
            "flex": null,
            "flex_flow": null,
            "grid_area": null,
            "grid_auto_columns": null,
            "grid_auto_flow": null,
            "grid_auto_rows": null,
            "grid_column": null,
            "grid_gap": null,
            "grid_row": null,
            "grid_template_areas": null,
            "grid_template_columns": null,
            "grid_template_rows": null,
            "height": null,
            "justify_content": null,
            "justify_items": null,
            "left": null,
            "margin": null,
            "max_height": null,
            "max_width": null,
            "min_height": null,
            "min_width": null,
            "object_fit": null,
            "object_position": null,
            "order": null,
            "overflow": null,
            "overflow_x": null,
            "overflow_y": null,
            "padding": null,
            "right": null,
            "top": null,
            "visibility": null,
            "width": null
          }
        },
        "6a86c382bcb34d66bce0662333939185": {
          "model_module": "@jupyter-widgets/controls",
          "model_name": "DescriptionStyleModel",
          "model_module_version": "1.5.0",
          "state": {
            "_model_module": "@jupyter-widgets/controls",
            "_model_module_version": "1.5.0",
            "_model_name": "DescriptionStyleModel",
            "_view_count": null,
            "_view_module": "@jupyter-widgets/base",
            "_view_module_version": "1.2.0",
            "_view_name": "StyleView",
            "description_width": ""
          }
        },
        "6dfcb5e924cc4517bee8be0b3c97597c": {
          "model_module": "@jupyter-widgets/controls",
          "model_name": "HBoxModel",
          "model_module_version": "1.5.0",
          "state": {
            "_dom_classes": [],
            "_model_module": "@jupyter-widgets/controls",
            "_model_module_version": "1.5.0",
            "_model_name": "HBoxModel",
            "_view_count": null,
            "_view_module": "@jupyter-widgets/controls",
            "_view_module_version": "1.5.0",
            "_view_name": "HBoxView",
            "box_style": "",
            "children": [
              "IPY_MODEL_2d1859b8291640c89ec4ace681417bcf",
              "IPY_MODEL_7739cd7162664b498193f4d010987d7f",
              "IPY_MODEL_867f458a8f7a4f1d8cadb9446ace3e41"
            ],
            "layout": "IPY_MODEL_d7d3317129824930af6d990903cebef0"
          }
        },
        "2d1859b8291640c89ec4ace681417bcf": {
          "model_module": "@jupyter-widgets/controls",
          "model_name": "HTMLModel",
          "model_module_version": "1.5.0",
          "state": {
            "_dom_classes": [],
            "_model_module": "@jupyter-widgets/controls",
            "_model_module_version": "1.5.0",
            "_model_name": "HTMLModel",
            "_view_count": null,
            "_view_module": "@jupyter-widgets/controls",
            "_view_module_version": "1.5.0",
            "_view_name": "HTMLView",
            "description": "",
            "description_tooltip": null,
            "layout": "IPY_MODEL_b2ae9a166fba4527814d29506197bb50",
            "placeholder": "​",
            "style": "IPY_MODEL_80078e2289c3453ea0fd12cd873c5489",
            "value": "Downloading: 100%"
          }
        },
        "7739cd7162664b498193f4d010987d7f": {
          "model_module": "@jupyter-widgets/controls",
          "model_name": "FloatProgressModel",
          "model_module_version": "1.5.0",
          "state": {
            "_dom_classes": [],
            "_model_module": "@jupyter-widgets/controls",
            "_model_module_version": "1.5.0",
            "_model_name": "FloatProgressModel",
            "_view_count": null,
            "_view_module": "@jupyter-widgets/controls",
            "_view_module_version": "1.5.0",
            "_view_name": "ProgressView",
            "bar_style": "success",
            "description": "",
            "description_tooltip": null,
            "layout": "IPY_MODEL_1338225382ae47f4bfaa77a1524299df",
            "max": 213450,
            "min": 0,
            "orientation": "horizontal",
            "style": "IPY_MODEL_d062e4504b6f43308d78b21ff8fd61b5",
            "value": 213450
          }
        },
        "867f458a8f7a4f1d8cadb9446ace3e41": {
          "model_module": "@jupyter-widgets/controls",
          "model_name": "HTMLModel",
          "model_module_version": "1.5.0",
          "state": {
            "_dom_classes": [],
            "_model_module": "@jupyter-widgets/controls",
            "_model_module_version": "1.5.0",
            "_model_name": "HTMLModel",
            "_view_count": null,
            "_view_module": "@jupyter-widgets/controls",
            "_view_module_version": "1.5.0",
            "_view_name": "HTMLView",
            "description": "",
            "description_tooltip": null,
            "layout": "IPY_MODEL_12043ba61a264df1b1a5554e9d927fe2",
            "placeholder": "​",
            "style": "IPY_MODEL_c0041875691646a5a83aaca607a58084",
            "value": " 213k/213k [00:00&lt;00:00, 259kB/s]"
          }
        },
        "d7d3317129824930af6d990903cebef0": {
          "model_module": "@jupyter-widgets/base",
          "model_name": "LayoutModel",
          "model_module_version": "1.2.0",
          "state": {
            "_model_module": "@jupyter-widgets/base",
            "_model_module_version": "1.2.0",
            "_model_name": "LayoutModel",
            "_view_count": null,
            "_view_module": "@jupyter-widgets/base",
            "_view_module_version": "1.2.0",
            "_view_name": "LayoutView",
            "align_content": null,
            "align_items": null,
            "align_self": null,
            "border": null,
            "bottom": null,
            "display": null,
            "flex": null,
            "flex_flow": null,
            "grid_area": null,
            "grid_auto_columns": null,
            "grid_auto_flow": null,
            "grid_auto_rows": null,
            "grid_column": null,
            "grid_gap": null,
            "grid_row": null,
            "grid_template_areas": null,
            "grid_template_columns": null,
            "grid_template_rows": null,
            "height": null,
            "justify_content": null,
            "justify_items": null,
            "left": null,
            "margin": null,
            "max_height": null,
            "max_width": null,
            "min_height": null,
            "min_width": null,
            "object_fit": null,
            "object_position": null,
            "order": null,
            "overflow": null,
            "overflow_x": null,
            "overflow_y": null,
            "padding": null,
            "right": null,
            "top": null,
            "visibility": null,
            "width": null
          }
        },
        "b2ae9a166fba4527814d29506197bb50": {
          "model_module": "@jupyter-widgets/base",
          "model_name": "LayoutModel",
          "model_module_version": "1.2.0",
          "state": {
            "_model_module": "@jupyter-widgets/base",
            "_model_module_version": "1.2.0",
            "_model_name": "LayoutModel",
            "_view_count": null,
            "_view_module": "@jupyter-widgets/base",
            "_view_module_version": "1.2.0",
            "_view_name": "LayoutView",
            "align_content": null,
            "align_items": null,
            "align_self": null,
            "border": null,
            "bottom": null,
            "display": null,
            "flex": null,
            "flex_flow": null,
            "grid_area": null,
            "grid_auto_columns": null,
            "grid_auto_flow": null,
            "grid_auto_rows": null,
            "grid_column": null,
            "grid_gap": null,
            "grid_row": null,
            "grid_template_areas": null,
            "grid_template_columns": null,
            "grid_template_rows": null,
            "height": null,
            "justify_content": null,
            "justify_items": null,
            "left": null,
            "margin": null,
            "max_height": null,
            "max_width": null,
            "min_height": null,
            "min_width": null,
            "object_fit": null,
            "object_position": null,
            "order": null,
            "overflow": null,
            "overflow_x": null,
            "overflow_y": null,
            "padding": null,
            "right": null,
            "top": null,
            "visibility": null,
            "width": null
          }
        },
        "80078e2289c3453ea0fd12cd873c5489": {
          "model_module": "@jupyter-widgets/controls",
          "model_name": "DescriptionStyleModel",
          "model_module_version": "1.5.0",
          "state": {
            "_model_module": "@jupyter-widgets/controls",
            "_model_module_version": "1.5.0",
            "_model_name": "DescriptionStyleModel",
            "_view_count": null,
            "_view_module": "@jupyter-widgets/base",
            "_view_module_version": "1.2.0",
            "_view_name": "StyleView",
            "description_width": ""
          }
        },
        "1338225382ae47f4bfaa77a1524299df": {
          "model_module": "@jupyter-widgets/base",
          "model_name": "LayoutModel",
          "model_module_version": "1.2.0",
          "state": {
            "_model_module": "@jupyter-widgets/base",
            "_model_module_version": "1.2.0",
            "_model_name": "LayoutModel",
            "_view_count": null,
            "_view_module": "@jupyter-widgets/base",
            "_view_module_version": "1.2.0",
            "_view_name": "LayoutView",
            "align_content": null,
            "align_items": null,
            "align_self": null,
            "border": null,
            "bottom": null,
            "display": null,
            "flex": null,
            "flex_flow": null,
            "grid_area": null,
            "grid_auto_columns": null,
            "grid_auto_flow": null,
            "grid_auto_rows": null,
            "grid_column": null,
            "grid_gap": null,
            "grid_row": null,
            "grid_template_areas": null,
            "grid_template_columns": null,
            "grid_template_rows": null,
            "height": null,
            "justify_content": null,
            "justify_items": null,
            "left": null,
            "margin": null,
            "max_height": null,
            "max_width": null,
            "min_height": null,
            "min_width": null,
            "object_fit": null,
            "object_position": null,
            "order": null,
            "overflow": null,
            "overflow_x": null,
            "overflow_y": null,
            "padding": null,
            "right": null,
            "top": null,
            "visibility": null,
            "width": null
          }
        },
        "d062e4504b6f43308d78b21ff8fd61b5": {
          "model_module": "@jupyter-widgets/controls",
          "model_name": "ProgressStyleModel",
          "model_module_version": "1.5.0",
          "state": {
            "_model_module": "@jupyter-widgets/controls",
            "_model_module_version": "1.5.0",
            "_model_name": "ProgressStyleModel",
            "_view_count": null,
            "_view_module": "@jupyter-widgets/base",
            "_view_module_version": "1.2.0",
            "_view_name": "StyleView",
            "bar_color": null,
            "description_width": ""
          }
        },
        "12043ba61a264df1b1a5554e9d927fe2": {
          "model_module": "@jupyter-widgets/base",
          "model_name": "LayoutModel",
          "model_module_version": "1.2.0",
          "state": {
            "_model_module": "@jupyter-widgets/base",
            "_model_module_version": "1.2.0",
            "_model_name": "LayoutModel",
            "_view_count": null,
            "_view_module": "@jupyter-widgets/base",
            "_view_module_version": "1.2.0",
            "_view_name": "LayoutView",
            "align_content": null,
            "align_items": null,
            "align_self": null,
            "border": null,
            "bottom": null,
            "display": null,
            "flex": null,
            "flex_flow": null,
            "grid_area": null,
            "grid_auto_columns": null,
            "grid_auto_flow": null,
            "grid_auto_rows": null,
            "grid_column": null,
            "grid_gap": null,
            "grid_row": null,
            "grid_template_areas": null,
            "grid_template_columns": null,
            "grid_template_rows": null,
            "height": null,
            "justify_content": null,
            "justify_items": null,
            "left": null,
            "margin": null,
            "max_height": null,
            "max_width": null,
            "min_height": null,
            "min_width": null,
            "object_fit": null,
            "object_position": null,
            "order": null,
            "overflow": null,
            "overflow_x": null,
            "overflow_y": null,
            "padding": null,
            "right": null,
            "top": null,
            "visibility": null,
            "width": null
          }
        },
        "c0041875691646a5a83aaca607a58084": {
          "model_module": "@jupyter-widgets/controls",
          "model_name": "DescriptionStyleModel",
          "model_module_version": "1.5.0",
          "state": {
            "_model_module": "@jupyter-widgets/controls",
            "_model_module_version": "1.5.0",
            "_model_name": "DescriptionStyleModel",
            "_view_count": null,
            "_view_module": "@jupyter-widgets/base",
            "_view_module_version": "1.2.0",
            "_view_name": "StyleView",
            "description_width": ""
          }
        },
        "85834ae9310e433088a2a700c1e959ef": {
          "model_module": "@jupyter-widgets/controls",
          "model_name": "HBoxModel",
          "model_module_version": "1.5.0",
          "state": {
            "_dom_classes": [],
            "_model_module": "@jupyter-widgets/controls",
            "_model_module_version": "1.5.0",
            "_model_name": "HBoxModel",
            "_view_count": null,
            "_view_module": "@jupyter-widgets/controls",
            "_view_module_version": "1.5.0",
            "_view_name": "HBoxView",
            "box_style": "",
            "children": [
              "IPY_MODEL_afdea1e88ef846a5b38bb56af085e5e7",
              "IPY_MODEL_4f2a65e7f7ae49ea94c48bcc9dc4d944",
              "IPY_MODEL_8de24034c72f4cf3bfaa6c8af6284619"
            ],
            "layout": "IPY_MODEL_40fd50e1246c445a858b2d374231811b"
          }
        },
        "afdea1e88ef846a5b38bb56af085e5e7": {
          "model_module": "@jupyter-widgets/controls",
          "model_name": "HTMLModel",
          "model_module_version": "1.5.0",
          "state": {
            "_dom_classes": [],
            "_model_module": "@jupyter-widgets/controls",
            "_model_module_version": "1.5.0",
            "_model_name": "HTMLModel",
            "_view_count": null,
            "_view_module": "@jupyter-widgets/controls",
            "_view_module_version": "1.5.0",
            "_view_name": "HTMLView",
            "description": "",
            "description_tooltip": null,
            "layout": "IPY_MODEL_cff7d33691e64c16bc49b95a23d399c2",
            "placeholder": "​",
            "style": "IPY_MODEL_704db9daae4c46bab021cc6e69a7e5c6",
            "value": "Downloading: 100%"
          }
        },
        "4f2a65e7f7ae49ea94c48bcc9dc4d944": {
          "model_module": "@jupyter-widgets/controls",
          "model_name": "FloatProgressModel",
          "model_module_version": "1.5.0",
          "state": {
            "_dom_classes": [],
            "_model_module": "@jupyter-widgets/controls",
            "_model_module_version": "1.5.0",
            "_model_name": "FloatProgressModel",
            "_view_count": null,
            "_view_module": "@jupyter-widgets/controls",
            "_view_module_version": "1.5.0",
            "_view_name": "ProgressView",
            "bar_style": "success",
            "description": "",
            "description_tooltip": null,
            "layout": "IPY_MODEL_b8680fec4716453784fcba06a2c8f49f",
            "max": 435797,
            "min": 0,
            "orientation": "horizontal",
            "style": "IPY_MODEL_833d61af524444eb88e91b1422696728",
            "value": 435797
          }
        },
        "8de24034c72f4cf3bfaa6c8af6284619": {
          "model_module": "@jupyter-widgets/controls",
          "model_name": "HTMLModel",
          "model_module_version": "1.5.0",
          "state": {
            "_dom_classes": [],
            "_model_module": "@jupyter-widgets/controls",
            "_model_module_version": "1.5.0",
            "_model_name": "HTMLModel",
            "_view_count": null,
            "_view_module": "@jupyter-widgets/controls",
            "_view_module_version": "1.5.0",
            "_view_name": "HTMLView",
            "description": "",
            "description_tooltip": null,
            "layout": "IPY_MODEL_becc4296378447e7abccf46bab1385e6",
            "placeholder": "​",
            "style": "IPY_MODEL_3993fd2f0ca4447ba520979745b09ccf",
            "value": " 436k/436k [00:01&lt;00:00, 436kB/s]"
          }
        },
        "40fd50e1246c445a858b2d374231811b": {
          "model_module": "@jupyter-widgets/base",
          "model_name": "LayoutModel",
          "model_module_version": "1.2.0",
          "state": {
            "_model_module": "@jupyter-widgets/base",
            "_model_module_version": "1.2.0",
            "_model_name": "LayoutModel",
            "_view_count": null,
            "_view_module": "@jupyter-widgets/base",
            "_view_module_version": "1.2.0",
            "_view_name": "LayoutView",
            "align_content": null,
            "align_items": null,
            "align_self": null,
            "border": null,
            "bottom": null,
            "display": null,
            "flex": null,
            "flex_flow": null,
            "grid_area": null,
            "grid_auto_columns": null,
            "grid_auto_flow": null,
            "grid_auto_rows": null,
            "grid_column": null,
            "grid_gap": null,
            "grid_row": null,
            "grid_template_areas": null,
            "grid_template_columns": null,
            "grid_template_rows": null,
            "height": null,
            "justify_content": null,
            "justify_items": null,
            "left": null,
            "margin": null,
            "max_height": null,
            "max_width": null,
            "min_height": null,
            "min_width": null,
            "object_fit": null,
            "object_position": null,
            "order": null,
            "overflow": null,
            "overflow_x": null,
            "overflow_y": null,
            "padding": null,
            "right": null,
            "top": null,
            "visibility": null,
            "width": null
          }
        },
        "cff7d33691e64c16bc49b95a23d399c2": {
          "model_module": "@jupyter-widgets/base",
          "model_name": "LayoutModel",
          "model_module_version": "1.2.0",
          "state": {
            "_model_module": "@jupyter-widgets/base",
            "_model_module_version": "1.2.0",
            "_model_name": "LayoutModel",
            "_view_count": null,
            "_view_module": "@jupyter-widgets/base",
            "_view_module_version": "1.2.0",
            "_view_name": "LayoutView",
            "align_content": null,
            "align_items": null,
            "align_self": null,
            "border": null,
            "bottom": null,
            "display": null,
            "flex": null,
            "flex_flow": null,
            "grid_area": null,
            "grid_auto_columns": null,
            "grid_auto_flow": null,
            "grid_auto_rows": null,
            "grid_column": null,
            "grid_gap": null,
            "grid_row": null,
            "grid_template_areas": null,
            "grid_template_columns": null,
            "grid_template_rows": null,
            "height": null,
            "justify_content": null,
            "justify_items": null,
            "left": null,
            "margin": null,
            "max_height": null,
            "max_width": null,
            "min_height": null,
            "min_width": null,
            "object_fit": null,
            "object_position": null,
            "order": null,
            "overflow": null,
            "overflow_x": null,
            "overflow_y": null,
            "padding": null,
            "right": null,
            "top": null,
            "visibility": null,
            "width": null
          }
        },
        "704db9daae4c46bab021cc6e69a7e5c6": {
          "model_module": "@jupyter-widgets/controls",
          "model_name": "DescriptionStyleModel",
          "model_module_version": "1.5.0",
          "state": {
            "_model_module": "@jupyter-widgets/controls",
            "_model_module_version": "1.5.0",
            "_model_name": "DescriptionStyleModel",
            "_view_count": null,
            "_view_module": "@jupyter-widgets/base",
            "_view_module_version": "1.2.0",
            "_view_name": "StyleView",
            "description_width": ""
          }
        },
        "b8680fec4716453784fcba06a2c8f49f": {
          "model_module": "@jupyter-widgets/base",
          "model_name": "LayoutModel",
          "model_module_version": "1.2.0",
          "state": {
            "_model_module": "@jupyter-widgets/base",
            "_model_module_version": "1.2.0",
            "_model_name": "LayoutModel",
            "_view_count": null,
            "_view_module": "@jupyter-widgets/base",
            "_view_module_version": "1.2.0",
            "_view_name": "LayoutView",
            "align_content": null,
            "align_items": null,
            "align_self": null,
            "border": null,
            "bottom": null,
            "display": null,
            "flex": null,
            "flex_flow": null,
            "grid_area": null,
            "grid_auto_columns": null,
            "grid_auto_flow": null,
            "grid_auto_rows": null,
            "grid_column": null,
            "grid_gap": null,
            "grid_row": null,
            "grid_template_areas": null,
            "grid_template_columns": null,
            "grid_template_rows": null,
            "height": null,
            "justify_content": null,
            "justify_items": null,
            "left": null,
            "margin": null,
            "max_height": null,
            "max_width": null,
            "min_height": null,
            "min_width": null,
            "object_fit": null,
            "object_position": null,
            "order": null,
            "overflow": null,
            "overflow_x": null,
            "overflow_y": null,
            "padding": null,
            "right": null,
            "top": null,
            "visibility": null,
            "width": null
          }
        },
        "833d61af524444eb88e91b1422696728": {
          "model_module": "@jupyter-widgets/controls",
          "model_name": "ProgressStyleModel",
          "model_module_version": "1.5.0",
          "state": {
            "_model_module": "@jupyter-widgets/controls",
            "_model_module_version": "1.5.0",
            "_model_name": "ProgressStyleModel",
            "_view_count": null,
            "_view_module": "@jupyter-widgets/base",
            "_view_module_version": "1.2.0",
            "_view_name": "StyleView",
            "bar_color": null,
            "description_width": ""
          }
        },
        "becc4296378447e7abccf46bab1385e6": {
          "model_module": "@jupyter-widgets/base",
          "model_name": "LayoutModel",
          "model_module_version": "1.2.0",
          "state": {
            "_model_module": "@jupyter-widgets/base",
            "_model_module_version": "1.2.0",
            "_model_name": "LayoutModel",
            "_view_count": null,
            "_view_module": "@jupyter-widgets/base",
            "_view_module_version": "1.2.0",
            "_view_name": "LayoutView",
            "align_content": null,
            "align_items": null,
            "align_self": null,
            "border": null,
            "bottom": null,
            "display": null,
            "flex": null,
            "flex_flow": null,
            "grid_area": null,
            "grid_auto_columns": null,
            "grid_auto_flow": null,
            "grid_auto_rows": null,
            "grid_column": null,
            "grid_gap": null,
            "grid_row": null,
            "grid_template_areas": null,
            "grid_template_columns": null,
            "grid_template_rows": null,
            "height": null,
            "justify_content": null,
            "justify_items": null,
            "left": null,
            "margin": null,
            "max_height": null,
            "max_width": null,
            "min_height": null,
            "min_width": null,
            "object_fit": null,
            "object_position": null,
            "order": null,
            "overflow": null,
            "overflow_x": null,
            "overflow_y": null,
            "padding": null,
            "right": null,
            "top": null,
            "visibility": null,
            "width": null
          }
        },
        "3993fd2f0ca4447ba520979745b09ccf": {
          "model_module": "@jupyter-widgets/controls",
          "model_name": "DescriptionStyleModel",
          "model_module_version": "1.5.0",
          "state": {
            "_model_module": "@jupyter-widgets/controls",
            "_model_module_version": "1.5.0",
            "_model_name": "DescriptionStyleModel",
            "_view_count": null,
            "_view_module": "@jupyter-widgets/base",
            "_view_module_version": "1.2.0",
            "_view_name": "StyleView",
            "description_width": ""
          }
        },
        "a3de4e59163447e99fedc55af3f416b6": {
          "model_module": "@jupyter-widgets/controls",
          "model_name": "HBoxModel",
          "model_module_version": "1.5.0",
          "state": {
            "_dom_classes": [],
            "_model_module": "@jupyter-widgets/controls",
            "_model_module_version": "1.5.0",
            "_model_name": "HBoxModel",
            "_view_count": null,
            "_view_module": "@jupyter-widgets/controls",
            "_view_module_version": "1.5.0",
            "_view_name": "HBoxView",
            "box_style": "",
            "children": [
              "IPY_MODEL_b428aa9171c949a48080f3d9db851c74",
              "IPY_MODEL_5bc005c42ad24ea999986cd64dcff0e9",
              "IPY_MODEL_0fc8efb208fa4eb8a3dd23780518c2f4"
            ],
            "layout": "IPY_MODEL_8c9610da068f45bcb612b25fa8d47c5a"
          }
        },
        "b428aa9171c949a48080f3d9db851c74": {
          "model_module": "@jupyter-widgets/controls",
          "model_name": "HTMLModel",
          "model_module_version": "1.5.0",
          "state": {
            "_dom_classes": [],
            "_model_module": "@jupyter-widgets/controls",
            "_model_module_version": "1.5.0",
            "_model_name": "HTMLModel",
            "_view_count": null,
            "_view_module": "@jupyter-widgets/controls",
            "_view_module_version": "1.5.0",
            "_view_name": "HTMLView",
            "description": "",
            "description_tooltip": null,
            "layout": "IPY_MODEL_56cad9ccc7c0473bb845467b2c17c1b3",
            "placeholder": "​",
            "style": "IPY_MODEL_76152ae1d68648468df60c61e87dc22a",
            "value": "Downloading: 100%"
          }
        },
        "5bc005c42ad24ea999986cd64dcff0e9": {
          "model_module": "@jupyter-widgets/controls",
          "model_name": "FloatProgressModel",
          "model_module_version": "1.5.0",
          "state": {
            "_dom_classes": [],
            "_model_module": "@jupyter-widgets/controls",
            "_model_module_version": "1.5.0",
            "_model_name": "FloatProgressModel",
            "_view_count": null,
            "_view_module": "@jupyter-widgets/controls",
            "_view_module_version": "1.5.0",
            "_view_name": "ProgressView",
            "bar_style": "success",
            "description": "",
            "description_tooltip": null,
            "layout": "IPY_MODEL_b9e7b79b8aab458b8b543cb06fce7f66",
            "max": 435779157,
            "min": 0,
            "orientation": "horizontal",
            "style": "IPY_MODEL_70f4be56f842447c87f0839d376f6a41",
            "value": 435779157
          }
        },
        "0fc8efb208fa4eb8a3dd23780518c2f4": {
          "model_module": "@jupyter-widgets/controls",
          "model_name": "HTMLModel",
          "model_module_version": "1.5.0",
          "state": {
            "_dom_classes": [],
            "_model_module": "@jupyter-widgets/controls",
            "_model_module_version": "1.5.0",
            "_model_name": "HTMLModel",
            "_view_count": null,
            "_view_module": "@jupyter-widgets/controls",
            "_view_module_version": "1.5.0",
            "_view_name": "HTMLView",
            "description": "",
            "description_tooltip": null,
            "layout": "IPY_MODEL_0b8fcf13b7744e618247a2b4d59917b6",
            "placeholder": "​",
            "style": "IPY_MODEL_7f9973fe2b5240229775f97d1419c53d",
            "value": " 436M/436M [00:07&lt;00:00, 62.2MB/s]"
          }
        },
        "8c9610da068f45bcb612b25fa8d47c5a": {
          "model_module": "@jupyter-widgets/base",
          "model_name": "LayoutModel",
          "model_module_version": "1.2.0",
          "state": {
            "_model_module": "@jupyter-widgets/base",
            "_model_module_version": "1.2.0",
            "_model_name": "LayoutModel",
            "_view_count": null,
            "_view_module": "@jupyter-widgets/base",
            "_view_module_version": "1.2.0",
            "_view_name": "LayoutView",
            "align_content": null,
            "align_items": null,
            "align_self": null,
            "border": null,
            "bottom": null,
            "display": null,
            "flex": null,
            "flex_flow": null,
            "grid_area": null,
            "grid_auto_columns": null,
            "grid_auto_flow": null,
            "grid_auto_rows": null,
            "grid_column": null,
            "grid_gap": null,
            "grid_row": null,
            "grid_template_areas": null,
            "grid_template_columns": null,
            "grid_template_rows": null,
            "height": null,
            "justify_content": null,
            "justify_items": null,
            "left": null,
            "margin": null,
            "max_height": null,
            "max_width": null,
            "min_height": null,
            "min_width": null,
            "object_fit": null,
            "object_position": null,
            "order": null,
            "overflow": null,
            "overflow_x": null,
            "overflow_y": null,
            "padding": null,
            "right": null,
            "top": null,
            "visibility": null,
            "width": null
          }
        },
        "56cad9ccc7c0473bb845467b2c17c1b3": {
          "model_module": "@jupyter-widgets/base",
          "model_name": "LayoutModel",
          "model_module_version": "1.2.0",
          "state": {
            "_model_module": "@jupyter-widgets/base",
            "_model_module_version": "1.2.0",
            "_model_name": "LayoutModel",
            "_view_count": null,
            "_view_module": "@jupyter-widgets/base",
            "_view_module_version": "1.2.0",
            "_view_name": "LayoutView",
            "align_content": null,
            "align_items": null,
            "align_self": null,
            "border": null,
            "bottom": null,
            "display": null,
            "flex": null,
            "flex_flow": null,
            "grid_area": null,
            "grid_auto_columns": null,
            "grid_auto_flow": null,
            "grid_auto_rows": null,
            "grid_column": null,
            "grid_gap": null,
            "grid_row": null,
            "grid_template_areas": null,
            "grid_template_columns": null,
            "grid_template_rows": null,
            "height": null,
            "justify_content": null,
            "justify_items": null,
            "left": null,
            "margin": null,
            "max_height": null,
            "max_width": null,
            "min_height": null,
            "min_width": null,
            "object_fit": null,
            "object_position": null,
            "order": null,
            "overflow": null,
            "overflow_x": null,
            "overflow_y": null,
            "padding": null,
            "right": null,
            "top": null,
            "visibility": null,
            "width": null
          }
        },
        "76152ae1d68648468df60c61e87dc22a": {
          "model_module": "@jupyter-widgets/controls",
          "model_name": "DescriptionStyleModel",
          "model_module_version": "1.5.0",
          "state": {
            "_model_module": "@jupyter-widgets/controls",
            "_model_module_version": "1.5.0",
            "_model_name": "DescriptionStyleModel",
            "_view_count": null,
            "_view_module": "@jupyter-widgets/base",
            "_view_module_version": "1.2.0",
            "_view_name": "StyleView",
            "description_width": ""
          }
        },
        "b9e7b79b8aab458b8b543cb06fce7f66": {
          "model_module": "@jupyter-widgets/base",
          "model_name": "LayoutModel",
          "model_module_version": "1.2.0",
          "state": {
            "_model_module": "@jupyter-widgets/base",
            "_model_module_version": "1.2.0",
            "_model_name": "LayoutModel",
            "_view_count": null,
            "_view_module": "@jupyter-widgets/base",
            "_view_module_version": "1.2.0",
            "_view_name": "LayoutView",
            "align_content": null,
            "align_items": null,
            "align_self": null,
            "border": null,
            "bottom": null,
            "display": null,
            "flex": null,
            "flex_flow": null,
            "grid_area": null,
            "grid_auto_columns": null,
            "grid_auto_flow": null,
            "grid_auto_rows": null,
            "grid_column": null,
            "grid_gap": null,
            "grid_row": null,
            "grid_template_areas": null,
            "grid_template_columns": null,
            "grid_template_rows": null,
            "height": null,
            "justify_content": null,
            "justify_items": null,
            "left": null,
            "margin": null,
            "max_height": null,
            "max_width": null,
            "min_height": null,
            "min_width": null,
            "object_fit": null,
            "object_position": null,
            "order": null,
            "overflow": null,
            "overflow_x": null,
            "overflow_y": null,
            "padding": null,
            "right": null,
            "top": null,
            "visibility": null,
            "width": null
          }
        },
        "70f4be56f842447c87f0839d376f6a41": {
          "model_module": "@jupyter-widgets/controls",
          "model_name": "ProgressStyleModel",
          "model_module_version": "1.5.0",
          "state": {
            "_model_module": "@jupyter-widgets/controls",
            "_model_module_version": "1.5.0",
            "_model_name": "ProgressStyleModel",
            "_view_count": null,
            "_view_module": "@jupyter-widgets/base",
            "_view_module_version": "1.2.0",
            "_view_name": "StyleView",
            "bar_color": null,
            "description_width": ""
          }
        },
        "0b8fcf13b7744e618247a2b4d59917b6": {
          "model_module": "@jupyter-widgets/base",
          "model_name": "LayoutModel",
          "model_module_version": "1.2.0",
          "state": {
            "_model_module": "@jupyter-widgets/base",
            "_model_module_version": "1.2.0",
            "_model_name": "LayoutModel",
            "_view_count": null,
            "_view_module": "@jupyter-widgets/base",
            "_view_module_version": "1.2.0",
            "_view_name": "LayoutView",
            "align_content": null,
            "align_items": null,
            "align_self": null,
            "border": null,
            "bottom": null,
            "display": null,
            "flex": null,
            "flex_flow": null,
            "grid_area": null,
            "grid_auto_columns": null,
            "grid_auto_flow": null,
            "grid_auto_rows": null,
            "grid_column": null,
            "grid_gap": null,
            "grid_row": null,
            "grid_template_areas": null,
            "grid_template_columns": null,
            "grid_template_rows": null,
            "height": null,
            "justify_content": null,
            "justify_items": null,
            "left": null,
            "margin": null,
            "max_height": null,
            "max_width": null,
            "min_height": null,
            "min_width": null,
            "object_fit": null,
            "object_position": null,
            "order": null,
            "overflow": null,
            "overflow_x": null,
            "overflow_y": null,
            "padding": null,
            "right": null,
            "top": null,
            "visibility": null,
            "width": null
          }
        },
        "7f9973fe2b5240229775f97d1419c53d": {
          "model_module": "@jupyter-widgets/controls",
          "model_name": "DescriptionStyleModel",
          "model_module_version": "1.5.0",
          "state": {
            "_model_module": "@jupyter-widgets/controls",
            "_model_module_version": "1.5.0",
            "_model_name": "DescriptionStyleModel",
            "_view_count": null,
            "_view_module": "@jupyter-widgets/base",
            "_view_module_version": "1.2.0",
            "_view_name": "StyleView",
            "description_width": ""
          }
        }
      }
    }
  },
  "cells": [
    {
      "cell_type": "markdown",
      "metadata": {
        "id": "view-in-github",
        "colab_type": "text"
      },
      "source": [
        "<a href=\"https://colab.research.google.com/github/siting1206/NLP_HW2/blob/main/NLP_assignment2_1129.ipynb\" target=\"_parent\"><img src=\"https://colab.research.google.com/assets/colab-badge.svg\" alt=\"Open In Colab\"/></a>"
      ]
    },
    {
      "cell_type": "code",
      "execution_count": 1,
      "metadata": {
        "colab": {
          "base_uri": "https://localhost:8080/"
        },
        "id": "2_9oqrzs3Hlr",
        "outputId": "26772179-b65a-4228-e1a2-4f88ca65b53a"
      },
      "outputs": [
        {
          "output_type": "stream",
          "name": "stdout",
          "text": [
            "Looking in indexes: https://pypi.org/simple, https://us-python.pkg.dev/colab-wheels/public/simple/\n",
            "Requirement already satisfied: torch in /usr/local/lib/python3.7/dist-packages (1.12.1+cu113)\n",
            "Requirement already satisfied: typing-extensions in /usr/local/lib/python3.7/dist-packages (from torch) (4.1.1)\n",
            "Looking in indexes: https://pypi.org/simple, https://us-python.pkg.dev/colab-wheels/public/simple/\n",
            "Requirement already satisfied: pandas in /usr/local/lib/python3.7/dist-packages (1.3.5)\n",
            "Requirement already satisfied: nltk in /usr/local/lib/python3.7/dist-packages (3.7)\n",
            "Requirement already satisfied: numpy>=1.17.3 in /usr/local/lib/python3.7/dist-packages (from pandas) (1.21.6)\n",
            "Requirement already satisfied: pytz>=2017.3 in /usr/local/lib/python3.7/dist-packages (from pandas) (2022.6)\n",
            "Requirement already satisfied: python-dateutil>=2.7.3 in /usr/local/lib/python3.7/dist-packages (from pandas) (2.8.2)\n",
            "Requirement already satisfied: six>=1.5 in /usr/local/lib/python3.7/dist-packages (from python-dateutil>=2.7.3->pandas) (1.15.0)\n",
            "Requirement already satisfied: joblib in /usr/local/lib/python3.7/dist-packages (from nltk) (1.2.0)\n",
            "Requirement already satisfied: regex>=2021.8.3 in /usr/local/lib/python3.7/dist-packages (from nltk) (2022.6.2)\n",
            "Requirement already satisfied: click in /usr/local/lib/python3.7/dist-packages (from nltk) (7.1.2)\n",
            "Requirement already satisfied: tqdm in /usr/local/lib/python3.7/dist-packages (from nltk) (4.64.1)\n",
            "Looking in indexes: https://pypi.org/simple, https://us-python.pkg.dev/colab-wheels/public/simple/\n",
            "Collecting transformers\n",
            "  Downloading transformers-4.24.0-py3-none-any.whl (5.5 MB)\n",
            "\u001b[K     |████████████████████████████████| 5.5 MB 7.5 MB/s \n",
            "\u001b[?25hCollecting huggingface-hub<1.0,>=0.10.0\n",
            "  Downloading huggingface_hub-0.11.1-py3-none-any.whl (182 kB)\n",
            "\u001b[K     |████████████████████████████████| 182 kB 58.3 MB/s \n",
            "\u001b[?25hRequirement already satisfied: importlib-metadata in /usr/local/lib/python3.7/dist-packages (from transformers) (4.13.0)\n",
            "Requirement already satisfied: filelock in /usr/local/lib/python3.7/dist-packages (from transformers) (3.8.0)\n",
            "Requirement already satisfied: numpy>=1.17 in /usr/local/lib/python3.7/dist-packages (from transformers) (1.21.6)\n",
            "Requirement already satisfied: tqdm>=4.27 in /usr/local/lib/python3.7/dist-packages (from transformers) (4.64.1)\n",
            "Requirement already satisfied: pyyaml>=5.1 in /usr/local/lib/python3.7/dist-packages (from transformers) (6.0)\n",
            "Requirement already satisfied: requests in /usr/local/lib/python3.7/dist-packages (from transformers) (2.23.0)\n",
            "Requirement already satisfied: regex!=2019.12.17 in /usr/local/lib/python3.7/dist-packages (from transformers) (2022.6.2)\n",
            "Requirement already satisfied: packaging>=20.0 in /usr/local/lib/python3.7/dist-packages (from transformers) (21.3)\n",
            "Collecting tokenizers!=0.11.3,<0.14,>=0.11.1\n",
            "  Downloading tokenizers-0.13.2-cp37-cp37m-manylinux_2_17_x86_64.manylinux2014_x86_64.whl (7.6 MB)\n",
            "\u001b[K     |████████████████████████████████| 7.6 MB 49.4 MB/s \n",
            "\u001b[?25hRequirement already satisfied: typing-extensions>=3.7.4.3 in /usr/local/lib/python3.7/dist-packages (from huggingface-hub<1.0,>=0.10.0->transformers) (4.1.1)\n",
            "Requirement already satisfied: pyparsing!=3.0.5,>=2.0.2 in /usr/local/lib/python3.7/dist-packages (from packaging>=20.0->transformers) (3.0.9)\n",
            "Requirement already satisfied: zipp>=0.5 in /usr/local/lib/python3.7/dist-packages (from importlib-metadata->transformers) (3.10.0)\n",
            "Requirement already satisfied: urllib3!=1.25.0,!=1.25.1,<1.26,>=1.21.1 in /usr/local/lib/python3.7/dist-packages (from requests->transformers) (1.24.3)\n",
            "Requirement already satisfied: certifi>=2017.4.17 in /usr/local/lib/python3.7/dist-packages (from requests->transformers) (2022.9.24)\n",
            "Requirement already satisfied: idna<3,>=2.5 in /usr/local/lib/python3.7/dist-packages (from requests->transformers) (2.10)\n",
            "Requirement already satisfied: chardet<4,>=3.0.2 in /usr/local/lib/python3.7/dist-packages (from requests->transformers) (3.0.4)\n",
            "Installing collected packages: tokenizers, huggingface-hub, transformers\n",
            "Successfully installed huggingface-hub-0.11.1 tokenizers-0.13.2 transformers-4.24.0\n"
          ]
        }
      ],
      "source": [
        "!pip install torch\n",
        "!pip install pandas nltk\n",
        "!pip install transformers"
      ]
    },
    {
      "cell_type": "code",
      "source": [
        "from google.colab import drive\n",
        "drive.mount('/content/drive')"
      ],
      "metadata": {
        "colab": {
          "base_uri": "https://localhost:8080/"
        },
        "id": "5Grxmas85VFt",
        "outputId": "0e73feb0-b959-4ebf-b4cb-de6ae733fd54"
      },
      "execution_count": 2,
      "outputs": [
        {
          "output_type": "stream",
          "name": "stdout",
          "text": [
            "Mounted at /content/drive\n"
          ]
        }
      ]
    },
    {
      "cell_type": "code",
      "source": [
        "import torch\n",
        "import torch.nn as nn\n",
        "from torch.utils.data.dataset import Dataset\n",
        "from torch.utils.data import DataLoader\n",
        "import torch.nn.functional as F\n",
        "from torch.nn import CrossEntropyLoss\n",
        "import math\n",
        "import numpy as np\n",
        "import time\n",
        "import torch, pandas as pd\n",
        "import nltk\n",
        "import re\n",
        "nltk.download('punkt')\n",
        "\n",
        "from transformers import set_seed\n",
        "set_seed(123)\n",
        "\n",
        "device = torch.device(\"cuda:0\" if torch.cuda.is_available() else \"cpu\")\n",
        "print(device)"
      ],
      "metadata": {
        "colab": {
          "base_uri": "https://localhost:8080/"
        },
        "id": "FPuLzpYl3pd8",
        "outputId": "cb088a7e-49fc-4893-a48a-2edd97a67671"
      },
      "execution_count": 3,
      "outputs": [
        {
          "output_type": "stream",
          "name": "stderr",
          "text": [
            "[nltk_data] Downloading package punkt to /root/nltk_data...\n",
            "[nltk_data]   Unzipping tokenizers/punkt.zip.\n"
          ]
        },
        {
          "output_type": "stream",
          "name": "stdout",
          "text": [
            "cuda:0\n"
          ]
        }
      ]
    },
    {
      "cell_type": "code",
      "source": [
        "train_df = pd.read_csv('/content/drive/MyDrive/NLP_assignment2/Dataset/train_ret2.txt', sep='\\t')\n",
        "valid_df = pd.read_csv('/content/drive/MyDrive/NLP_assignment2/Dataset/valid_ret2.txt', sep='\\t')\n",
        "train_df[['snippet','question','answer']] = train_df[['snippet','question','answer']].apply(lambda x: x.str.strip('\\\"'))\n",
        "valid_df[['snippet','question','answer']] = valid_df[['snippet','question','answer']].apply(lambda x: x.str.strip('\\\"'))"
      ],
      "metadata": {
        "id": "06Awlvrx3rsk"
      },
      "execution_count": 4,
      "outputs": []
    },
    {
      "cell_type": "code",
      "source": [
        "train_df.head()"
      ],
      "metadata": {
        "colab": {
          "base_uri": "https://localhost:8080/",
          "height": 206
        },
        "id": "8LPc-cg_3ttc",
        "outputId": "9c1e5e09-9659-4bb3-f402-43bbcfe166d1"
      },
      "execution_count": 5,
      "outputs": [
        {
          "output_type": "execute_result",
          "data": {
            "text/plain": [
              "                                             snippet  \\\n",
              "0  pdf arxiv org may 20 , 2016 last 8 years life ...   \n",
              "1  lebowski sweater replica jun 17 , 2013 history...   \n",
              "2  assignment 13 nov 30 , 2014 2 1912 olympian fo...   \n",
              "3  amazon web services put records accepts keywor...   \n",
              "4  weather world records average , yuma receives ...   \n",
              "\n",
              "                                            question       answer  \n",
              "0  last 8 years life , galileo house arrest espou...  copernicus   \n",
              "1  last 8 years life , galileo house arrest espou...  copernicus   \n",
              "2  2 1912 olympian football star carlisle indian ...  jim thorpe   \n",
              "3  2 1912 olympian football star carlisle indian ...  jim thorpe   \n",
              "4  city yuma state record average 4 , 055 hours s...     arizona   "
            ],
            "text/html": [
              "\n",
              "  <div id=\"df-2ea9361b-d01f-465d-ad94-5110a605035b\">\n",
              "    <div class=\"colab-df-container\">\n",
              "      <div>\n",
              "<style scoped>\n",
              "    .dataframe tbody tr th:only-of-type {\n",
              "        vertical-align: middle;\n",
              "    }\n",
              "\n",
              "    .dataframe tbody tr th {\n",
              "        vertical-align: top;\n",
              "    }\n",
              "\n",
              "    .dataframe thead th {\n",
              "        text-align: right;\n",
              "    }\n",
              "</style>\n",
              "<table border=\"1\" class=\"dataframe\">\n",
              "  <thead>\n",
              "    <tr style=\"text-align: right;\">\n",
              "      <th></th>\n",
              "      <th>snippet</th>\n",
              "      <th>question</th>\n",
              "      <th>answer</th>\n",
              "    </tr>\n",
              "  </thead>\n",
              "  <tbody>\n",
              "    <tr>\n",
              "      <th>0</th>\n",
              "      <td>pdf arxiv org may 20 , 2016 last 8 years life ...</td>\n",
              "      <td>last 8 years life , galileo house arrest espou...</td>\n",
              "      <td>copernicus</td>\n",
              "    </tr>\n",
              "    <tr>\n",
              "      <th>1</th>\n",
              "      <td>lebowski sweater replica jun 17 , 2013 history...</td>\n",
              "      <td>last 8 years life , galileo house arrest espou...</td>\n",
              "      <td>copernicus</td>\n",
              "    </tr>\n",
              "    <tr>\n",
              "      <th>2</th>\n",
              "      <td>assignment 13 nov 30 , 2014 2 1912 olympian fo...</td>\n",
              "      <td>2 1912 olympian football star carlisle indian ...</td>\n",
              "      <td>jim thorpe</td>\n",
              "    </tr>\n",
              "    <tr>\n",
              "      <th>3</th>\n",
              "      <td>amazon web services put records accepts keywor...</td>\n",
              "      <td>2 1912 olympian football star carlisle indian ...</td>\n",
              "      <td>jim thorpe</td>\n",
              "    </tr>\n",
              "    <tr>\n",
              "      <th>4</th>\n",
              "      <td>weather world records average , yuma receives ...</td>\n",
              "      <td>city yuma state record average 4 , 055 hours s...</td>\n",
              "      <td>arizona</td>\n",
              "    </tr>\n",
              "  </tbody>\n",
              "</table>\n",
              "</div>\n",
              "      <button class=\"colab-df-convert\" onclick=\"convertToInteractive('df-2ea9361b-d01f-465d-ad94-5110a605035b')\"\n",
              "              title=\"Convert this dataframe to an interactive table.\"\n",
              "              style=\"display:none;\">\n",
              "        \n",
              "  <svg xmlns=\"http://www.w3.org/2000/svg\" height=\"24px\"viewBox=\"0 0 24 24\"\n",
              "       width=\"24px\">\n",
              "    <path d=\"M0 0h24v24H0V0z\" fill=\"none\"/>\n",
              "    <path d=\"M18.56 5.44l.94 2.06.94-2.06 2.06-.94-2.06-.94-.94-2.06-.94 2.06-2.06.94zm-11 1L8.5 8.5l.94-2.06 2.06-.94-2.06-.94L8.5 2.5l-.94 2.06-2.06.94zm10 10l.94 2.06.94-2.06 2.06-.94-2.06-.94-.94-2.06-.94 2.06-2.06.94z\"/><path d=\"M17.41 7.96l-1.37-1.37c-.4-.4-.92-.59-1.43-.59-.52 0-1.04.2-1.43.59L10.3 9.45l-7.72 7.72c-.78.78-.78 2.05 0 2.83L4 21.41c.39.39.9.59 1.41.59.51 0 1.02-.2 1.41-.59l7.78-7.78 2.81-2.81c.8-.78.8-2.07 0-2.86zM5.41 20L4 18.59l7.72-7.72 1.47 1.35L5.41 20z\"/>\n",
              "  </svg>\n",
              "      </button>\n",
              "      \n",
              "  <style>\n",
              "    .colab-df-container {\n",
              "      display:flex;\n",
              "      flex-wrap:wrap;\n",
              "      gap: 12px;\n",
              "    }\n",
              "\n",
              "    .colab-df-convert {\n",
              "      background-color: #E8F0FE;\n",
              "      border: none;\n",
              "      border-radius: 50%;\n",
              "      cursor: pointer;\n",
              "      display: none;\n",
              "      fill: #1967D2;\n",
              "      height: 32px;\n",
              "      padding: 0 0 0 0;\n",
              "      width: 32px;\n",
              "    }\n",
              "\n",
              "    .colab-df-convert:hover {\n",
              "      background-color: #E2EBFA;\n",
              "      box-shadow: 0px 1px 2px rgba(60, 64, 67, 0.3), 0px 1px 3px 1px rgba(60, 64, 67, 0.15);\n",
              "      fill: #174EA6;\n",
              "    }\n",
              "\n",
              "    [theme=dark] .colab-df-convert {\n",
              "      background-color: #3B4455;\n",
              "      fill: #D2E3FC;\n",
              "    }\n",
              "\n",
              "    [theme=dark] .colab-df-convert:hover {\n",
              "      background-color: #434B5C;\n",
              "      box-shadow: 0px 1px 3px 1px rgba(0, 0, 0, 0.15);\n",
              "      filter: drop-shadow(0px 1px 2px rgba(0, 0, 0, 0.3));\n",
              "      fill: #FFFFFF;\n",
              "    }\n",
              "  </style>\n",
              "\n",
              "      <script>\n",
              "        const buttonEl =\n",
              "          document.querySelector('#df-2ea9361b-d01f-465d-ad94-5110a605035b button.colab-df-convert');\n",
              "        buttonEl.style.display =\n",
              "          google.colab.kernel.accessAllowed ? 'block' : 'none';\n",
              "\n",
              "        async function convertToInteractive(key) {\n",
              "          const element = document.querySelector('#df-2ea9361b-d01f-465d-ad94-5110a605035b');\n",
              "          const dataTable =\n",
              "            await google.colab.kernel.invokeFunction('convertToInteractive',\n",
              "                                                     [key], {});\n",
              "          if (!dataTable) return;\n",
              "\n",
              "          const docLinkHtml = 'Like what you see? Visit the ' +\n",
              "            '<a target=\"_blank\" href=https://colab.research.google.com/notebooks/data_table.ipynb>data table notebook</a>'\n",
              "            + ' to learn more about interactive tables.';\n",
              "          element.innerHTML = '';\n",
              "          dataTable['output_type'] = 'display_data';\n",
              "          await google.colab.output.renderOutput(dataTable, element);\n",
              "          const docLink = document.createElement('div');\n",
              "          docLink.innerHTML = docLinkHtml;\n",
              "          element.appendChild(docLink);\n",
              "        }\n",
              "      </script>\n",
              "    </div>\n",
              "  </div>\n",
              "  "
            ]
          },
          "metadata": {},
          "execution_count": 5
        }
      ]
    },
    {
      "cell_type": "code",
      "source": [
        "valid_df.head()"
      ],
      "metadata": {
        "colab": {
          "base_uri": "https://localhost:8080/",
          "height": 206
        },
        "id": "af_g8nAx3uC9",
        "outputId": "175cfa8c-820e-4a24-bbf7-0e9821586a39"
      },
      "execution_count": 6,
      "outputs": [
        {
          "output_type": "execute_result",
          "data": {
            "text/plain": [
              "                                             snippet  \\\n",
              "0  free flashcards authors studystack spain 1959 ...   \n",
              "1  november 14 , 2008 called altitude american au...   \n",
              "2  lowest highest death valley mt whitney walk ba...   \n",
              "3  california facts , map state symbols enchanted...   \n",
              "4  kids net au encyclopedia cash dispenser many a...   \n",
              "\n",
              "                                            question       answer  \n",
              "0  spain 1959 , wrote dangerous summer , story ri...   hemingway   \n",
              "1  spain 1959 , wrote dangerous summer , story ri...   hemingway   \n",
              "2  valley 282 feet sea level state lowest point w...  california   \n",
              "3  valley 282 feet sea level state lowest point w...  california   \n",
              "4  like banks , many grocery stores dispensing ca...        atms   "
            ],
            "text/html": [
              "\n",
              "  <div id=\"df-b045d09f-2085-499a-b112-a932548cae5c\">\n",
              "    <div class=\"colab-df-container\">\n",
              "      <div>\n",
              "<style scoped>\n",
              "    .dataframe tbody tr th:only-of-type {\n",
              "        vertical-align: middle;\n",
              "    }\n",
              "\n",
              "    .dataframe tbody tr th {\n",
              "        vertical-align: top;\n",
              "    }\n",
              "\n",
              "    .dataframe thead th {\n",
              "        text-align: right;\n",
              "    }\n",
              "</style>\n",
              "<table border=\"1\" class=\"dataframe\">\n",
              "  <thead>\n",
              "    <tr style=\"text-align: right;\">\n",
              "      <th></th>\n",
              "      <th>snippet</th>\n",
              "      <th>question</th>\n",
              "      <th>answer</th>\n",
              "    </tr>\n",
              "  </thead>\n",
              "  <tbody>\n",
              "    <tr>\n",
              "      <th>0</th>\n",
              "      <td>free flashcards authors studystack spain 1959 ...</td>\n",
              "      <td>spain 1959 , wrote dangerous summer , story ri...</td>\n",
              "      <td>hemingway</td>\n",
              "    </tr>\n",
              "    <tr>\n",
              "      <th>1</th>\n",
              "      <td>november 14 , 2008 called altitude american au...</td>\n",
              "      <td>spain 1959 , wrote dangerous summer , story ri...</td>\n",
              "      <td>hemingway</td>\n",
              "    </tr>\n",
              "    <tr>\n",
              "      <th>2</th>\n",
              "      <td>lowest highest death valley mt whitney walk ba...</td>\n",
              "      <td>valley 282 feet sea level state lowest point w...</td>\n",
              "      <td>california</td>\n",
              "    </tr>\n",
              "    <tr>\n",
              "      <th>3</th>\n",
              "      <td>california facts , map state symbols enchanted...</td>\n",
              "      <td>valley 282 feet sea level state lowest point w...</td>\n",
              "      <td>california</td>\n",
              "    </tr>\n",
              "    <tr>\n",
              "      <th>4</th>\n",
              "      <td>kids net au encyclopedia cash dispenser many a...</td>\n",
              "      <td>like banks , many grocery stores dispensing ca...</td>\n",
              "      <td>atms</td>\n",
              "    </tr>\n",
              "  </tbody>\n",
              "</table>\n",
              "</div>\n",
              "      <button class=\"colab-df-convert\" onclick=\"convertToInteractive('df-b045d09f-2085-499a-b112-a932548cae5c')\"\n",
              "              title=\"Convert this dataframe to an interactive table.\"\n",
              "              style=\"display:none;\">\n",
              "        \n",
              "  <svg xmlns=\"http://www.w3.org/2000/svg\" height=\"24px\"viewBox=\"0 0 24 24\"\n",
              "       width=\"24px\">\n",
              "    <path d=\"M0 0h24v24H0V0z\" fill=\"none\"/>\n",
              "    <path d=\"M18.56 5.44l.94 2.06.94-2.06 2.06-.94-2.06-.94-.94-2.06-.94 2.06-2.06.94zm-11 1L8.5 8.5l.94-2.06 2.06-.94-2.06-.94L8.5 2.5l-.94 2.06-2.06.94zm10 10l.94 2.06.94-2.06 2.06-.94-2.06-.94-.94-2.06-.94 2.06-2.06.94z\"/><path d=\"M17.41 7.96l-1.37-1.37c-.4-.4-.92-.59-1.43-.59-.52 0-1.04.2-1.43.59L10.3 9.45l-7.72 7.72c-.78.78-.78 2.05 0 2.83L4 21.41c.39.39.9.59 1.41.59.51 0 1.02-.2 1.41-.59l7.78-7.78 2.81-2.81c.8-.78.8-2.07 0-2.86zM5.41 20L4 18.59l7.72-7.72 1.47 1.35L5.41 20z\"/>\n",
              "  </svg>\n",
              "      </button>\n",
              "      \n",
              "  <style>\n",
              "    .colab-df-container {\n",
              "      display:flex;\n",
              "      flex-wrap:wrap;\n",
              "      gap: 12px;\n",
              "    }\n",
              "\n",
              "    .colab-df-convert {\n",
              "      background-color: #E8F0FE;\n",
              "      border: none;\n",
              "      border-radius: 50%;\n",
              "      cursor: pointer;\n",
              "      display: none;\n",
              "      fill: #1967D2;\n",
              "      height: 32px;\n",
              "      padding: 0 0 0 0;\n",
              "      width: 32px;\n",
              "    }\n",
              "\n",
              "    .colab-df-convert:hover {\n",
              "      background-color: #E2EBFA;\n",
              "      box-shadow: 0px 1px 2px rgba(60, 64, 67, 0.3), 0px 1px 3px 1px rgba(60, 64, 67, 0.15);\n",
              "      fill: #174EA6;\n",
              "    }\n",
              "\n",
              "    [theme=dark] .colab-df-convert {\n",
              "      background-color: #3B4455;\n",
              "      fill: #D2E3FC;\n",
              "    }\n",
              "\n",
              "    [theme=dark] .colab-df-convert:hover {\n",
              "      background-color: #434B5C;\n",
              "      box-shadow: 0px 1px 3px 1px rgba(0, 0, 0, 0.15);\n",
              "      filter: drop-shadow(0px 1px 2px rgba(0, 0, 0, 0.3));\n",
              "      fill: #FFFFFF;\n",
              "    }\n",
              "  </style>\n",
              "\n",
              "      <script>\n",
              "        const buttonEl =\n",
              "          document.querySelector('#df-b045d09f-2085-499a-b112-a932548cae5c button.colab-df-convert');\n",
              "        buttonEl.style.display =\n",
              "          google.colab.kernel.accessAllowed ? 'block' : 'none';\n",
              "\n",
              "        async function convertToInteractive(key) {\n",
              "          const element = document.querySelector('#df-b045d09f-2085-499a-b112-a932548cae5c');\n",
              "          const dataTable =\n",
              "            await google.colab.kernel.invokeFunction('convertToInteractive',\n",
              "                                                     [key], {});\n",
              "          if (!dataTable) return;\n",
              "\n",
              "          const docLinkHtml = 'Like what you see? Visit the ' +\n",
              "            '<a target=\"_blank\" href=https://colab.research.google.com/notebooks/data_table.ipynb>data table notebook</a>'\n",
              "            + ' to learn more about interactive tables.';\n",
              "          element.innerHTML = '';\n",
              "          dataTable['output_type'] = 'display_data';\n",
              "          await google.colab.output.renderOutput(dataTable, element);\n",
              "          const docLink = document.createElement('div');\n",
              "          docLink.innerHTML = docLinkHtml;\n",
              "          element.appendChild(docLink);\n",
              "        }\n",
              "      </script>\n",
              "    </div>\n",
              "  </div>\n",
              "  "
            ]
          },
          "metadata": {},
          "execution_count": 6
        }
      ]
    },
    {
      "cell_type": "code",
      "source": [
        "train_df['ans_start'] = [y.index(x) if str(x) in y else -1 for x,y in zip(train_df[\"answer\"], train_df[\"snippet\"])]\n",
        "train_df['ans_end'] = [x+len(y)-1 if str(y) in z else -1 for x,y,z in zip(train_df[\"ans_start\"], train_df[\"answer\"], train_df[\"snippet\"])]"
      ],
      "metadata": {
        "id": "EGDNpQyf3v3r"
      },
      "execution_count": 7,
      "outputs": []
    },
    {
      "cell_type": "code",
      "source": [
        "valid_df['ans_start'] = [y.index(x) if str(x) in y else -1 for x,y in zip(valid_df[\"answer\"], valid_df[\"snippet\"])]\n",
        "valid_df['ans_end'] = [x+len(y)-1 if str(y) in z else -1 for x,y,z in zip(valid_df[\"ans_start\"], valid_df[\"answer\"], valid_df[\"snippet\"])]"
      ],
      "metadata": {
        "id": "k_InN7hZ3w2f"
      },
      "execution_count": 8,
      "outputs": []
    },
    {
      "cell_type": "code",
      "source": [
        "train_df.head()"
      ],
      "metadata": {
        "colab": {
          "base_uri": "https://localhost:8080/",
          "height": 250
        },
        "id": "tgyQBi3-3x_L",
        "outputId": "346cd1c2-6f16-4eda-9143-ee695e0a6a6a"
      },
      "execution_count": 9,
      "outputs": [
        {
          "output_type": "execute_result",
          "data": {
            "text/plain": [
              "                                             snippet  \\\n",
              "0  pdf arxiv org may 20 , 2016 last 8 years life ...   \n",
              "1  lebowski sweater replica jun 17 , 2013 history...   \n",
              "2  assignment 13 nov 30 , 2014 2 1912 olympian fo...   \n",
              "3  amazon web services put records accepts keywor...   \n",
              "4  weather world records average , yuma receives ...   \n",
              "\n",
              "                                            question       answer  ans_start  \\\n",
              "0  last 8 years life , galileo house arrest espou...  copernicus          56   \n",
              "1  last 8 years life , galileo house arrest espou...  copernicus         112   \n",
              "2  2 1912 olympian football star carlisle indian ...  jim thorpe          -1   \n",
              "3  2 1912 olympian football star carlisle indian ...  jim thorpe          -1   \n",
              "4  city yuma state record average 4 , 055 hours s...     arizona          -1   \n",
              "\n",
              "   ans_end  \n",
              "0       66  \n",
              "1      122  \n",
              "2       -1  \n",
              "3       -1  \n",
              "4       -1  "
            ],
            "text/html": [
              "\n",
              "  <div id=\"df-ed47afda-2ee0-4f37-a408-3f3e0526c3ba\">\n",
              "    <div class=\"colab-df-container\">\n",
              "      <div>\n",
              "<style scoped>\n",
              "    .dataframe tbody tr th:only-of-type {\n",
              "        vertical-align: middle;\n",
              "    }\n",
              "\n",
              "    .dataframe tbody tr th {\n",
              "        vertical-align: top;\n",
              "    }\n",
              "\n",
              "    .dataframe thead th {\n",
              "        text-align: right;\n",
              "    }\n",
              "</style>\n",
              "<table border=\"1\" class=\"dataframe\">\n",
              "  <thead>\n",
              "    <tr style=\"text-align: right;\">\n",
              "      <th></th>\n",
              "      <th>snippet</th>\n",
              "      <th>question</th>\n",
              "      <th>answer</th>\n",
              "      <th>ans_start</th>\n",
              "      <th>ans_end</th>\n",
              "    </tr>\n",
              "  </thead>\n",
              "  <tbody>\n",
              "    <tr>\n",
              "      <th>0</th>\n",
              "      <td>pdf arxiv org may 20 , 2016 last 8 years life ...</td>\n",
              "      <td>last 8 years life , galileo house arrest espou...</td>\n",
              "      <td>copernicus</td>\n",
              "      <td>56</td>\n",
              "      <td>66</td>\n",
              "    </tr>\n",
              "    <tr>\n",
              "      <th>1</th>\n",
              "      <td>lebowski sweater replica jun 17 , 2013 history...</td>\n",
              "      <td>last 8 years life , galileo house arrest espou...</td>\n",
              "      <td>copernicus</td>\n",
              "      <td>112</td>\n",
              "      <td>122</td>\n",
              "    </tr>\n",
              "    <tr>\n",
              "      <th>2</th>\n",
              "      <td>assignment 13 nov 30 , 2014 2 1912 olympian fo...</td>\n",
              "      <td>2 1912 olympian football star carlisle indian ...</td>\n",
              "      <td>jim thorpe</td>\n",
              "      <td>-1</td>\n",
              "      <td>-1</td>\n",
              "    </tr>\n",
              "    <tr>\n",
              "      <th>3</th>\n",
              "      <td>amazon web services put records accepts keywor...</td>\n",
              "      <td>2 1912 olympian football star carlisle indian ...</td>\n",
              "      <td>jim thorpe</td>\n",
              "      <td>-1</td>\n",
              "      <td>-1</td>\n",
              "    </tr>\n",
              "    <tr>\n",
              "      <th>4</th>\n",
              "      <td>weather world records average , yuma receives ...</td>\n",
              "      <td>city yuma state record average 4 , 055 hours s...</td>\n",
              "      <td>arizona</td>\n",
              "      <td>-1</td>\n",
              "      <td>-1</td>\n",
              "    </tr>\n",
              "  </tbody>\n",
              "</table>\n",
              "</div>\n",
              "      <button class=\"colab-df-convert\" onclick=\"convertToInteractive('df-ed47afda-2ee0-4f37-a408-3f3e0526c3ba')\"\n",
              "              title=\"Convert this dataframe to an interactive table.\"\n",
              "              style=\"display:none;\">\n",
              "        \n",
              "  <svg xmlns=\"http://www.w3.org/2000/svg\" height=\"24px\"viewBox=\"0 0 24 24\"\n",
              "       width=\"24px\">\n",
              "    <path d=\"M0 0h24v24H0V0z\" fill=\"none\"/>\n",
              "    <path d=\"M18.56 5.44l.94 2.06.94-2.06 2.06-.94-2.06-.94-.94-2.06-.94 2.06-2.06.94zm-11 1L8.5 8.5l.94-2.06 2.06-.94-2.06-.94L8.5 2.5l-.94 2.06-2.06.94zm10 10l.94 2.06.94-2.06 2.06-.94-2.06-.94-.94-2.06-.94 2.06-2.06.94z\"/><path d=\"M17.41 7.96l-1.37-1.37c-.4-.4-.92-.59-1.43-.59-.52 0-1.04.2-1.43.59L10.3 9.45l-7.72 7.72c-.78.78-.78 2.05 0 2.83L4 21.41c.39.39.9.59 1.41.59.51 0 1.02-.2 1.41-.59l7.78-7.78 2.81-2.81c.8-.78.8-2.07 0-2.86zM5.41 20L4 18.59l7.72-7.72 1.47 1.35L5.41 20z\"/>\n",
              "  </svg>\n",
              "      </button>\n",
              "      \n",
              "  <style>\n",
              "    .colab-df-container {\n",
              "      display:flex;\n",
              "      flex-wrap:wrap;\n",
              "      gap: 12px;\n",
              "    }\n",
              "\n",
              "    .colab-df-convert {\n",
              "      background-color: #E8F0FE;\n",
              "      border: none;\n",
              "      border-radius: 50%;\n",
              "      cursor: pointer;\n",
              "      display: none;\n",
              "      fill: #1967D2;\n",
              "      height: 32px;\n",
              "      padding: 0 0 0 0;\n",
              "      width: 32px;\n",
              "    }\n",
              "\n",
              "    .colab-df-convert:hover {\n",
              "      background-color: #E2EBFA;\n",
              "      box-shadow: 0px 1px 2px rgba(60, 64, 67, 0.3), 0px 1px 3px 1px rgba(60, 64, 67, 0.15);\n",
              "      fill: #174EA6;\n",
              "    }\n",
              "\n",
              "    [theme=dark] .colab-df-convert {\n",
              "      background-color: #3B4455;\n",
              "      fill: #D2E3FC;\n",
              "    }\n",
              "\n",
              "    [theme=dark] .colab-df-convert:hover {\n",
              "      background-color: #434B5C;\n",
              "      box-shadow: 0px 1px 3px 1px rgba(0, 0, 0, 0.15);\n",
              "      filter: drop-shadow(0px 1px 2px rgba(0, 0, 0, 0.3));\n",
              "      fill: #FFFFFF;\n",
              "    }\n",
              "  </style>\n",
              "\n",
              "      <script>\n",
              "        const buttonEl =\n",
              "          document.querySelector('#df-ed47afda-2ee0-4f37-a408-3f3e0526c3ba button.colab-df-convert');\n",
              "        buttonEl.style.display =\n",
              "          google.colab.kernel.accessAllowed ? 'block' : 'none';\n",
              "\n",
              "        async function convertToInteractive(key) {\n",
              "          const element = document.querySelector('#df-ed47afda-2ee0-4f37-a408-3f3e0526c3ba');\n",
              "          const dataTable =\n",
              "            await google.colab.kernel.invokeFunction('convertToInteractive',\n",
              "                                                     [key], {});\n",
              "          if (!dataTable) return;\n",
              "\n",
              "          const docLinkHtml = 'Like what you see? Visit the ' +\n",
              "            '<a target=\"_blank\" href=https://colab.research.google.com/notebooks/data_table.ipynb>data table notebook</a>'\n",
              "            + ' to learn more about interactive tables.';\n",
              "          element.innerHTML = '';\n",
              "          dataTable['output_type'] = 'display_data';\n",
              "          await google.colab.output.renderOutput(dataTable, element);\n",
              "          const docLink = document.createElement('div');\n",
              "          docLink.innerHTML = docLinkHtml;\n",
              "          element.appendChild(docLink);\n",
              "        }\n",
              "      </script>\n",
              "    </div>\n",
              "  </div>\n",
              "  "
            ]
          },
          "metadata": {},
          "execution_count": 9
        }
      ]
    },
    {
      "cell_type": "code",
      "source": [
        "valid_df.head()"
      ],
      "metadata": {
        "colab": {
          "base_uri": "https://localhost:8080/",
          "height": 250
        },
        "id": "Jq1rbt4l3z1K",
        "outputId": "ec0cf67b-2a65-4db4-99eb-8cd6bb615193"
      },
      "execution_count": 10,
      "outputs": [
        {
          "output_type": "execute_result",
          "data": {
            "text/plain": [
              "                                             snippet  \\\n",
              "0  free flashcards authors studystack spain 1959 ...   \n",
              "1  november 14 , 2008 called altitude american au...   \n",
              "2  lowest highest death valley mt whitney walk ba...   \n",
              "3  california facts , map state symbols enchanted...   \n",
              "4  kids net au encyclopedia cash dispenser many a...   \n",
              "\n",
              "                                            question       answer  ans_start  \\\n",
              "0  spain 1959 , wrote dangerous summer , story ri...   hemingway         100   \n",
              "1  spain 1959 , wrote dangerous summer , story ri...   hemingway         115   \n",
              "2  valley 282 feet sea level state lowest point w...  california          -1   \n",
              "3  valley 282 feet sea level state lowest point w...  california           0   \n",
              "4  like banks , many grocery stores dispensing ca...        atms          45   \n",
              "\n",
              "   ans_end  \n",
              "0      109  \n",
              "1      124  \n",
              "2       -1  \n",
              "3       10  \n",
              "4       49  "
            ],
            "text/html": [
              "\n",
              "  <div id=\"df-556426ae-37af-4b48-a705-e8347da5ac0f\">\n",
              "    <div class=\"colab-df-container\">\n",
              "      <div>\n",
              "<style scoped>\n",
              "    .dataframe tbody tr th:only-of-type {\n",
              "        vertical-align: middle;\n",
              "    }\n",
              "\n",
              "    .dataframe tbody tr th {\n",
              "        vertical-align: top;\n",
              "    }\n",
              "\n",
              "    .dataframe thead th {\n",
              "        text-align: right;\n",
              "    }\n",
              "</style>\n",
              "<table border=\"1\" class=\"dataframe\">\n",
              "  <thead>\n",
              "    <tr style=\"text-align: right;\">\n",
              "      <th></th>\n",
              "      <th>snippet</th>\n",
              "      <th>question</th>\n",
              "      <th>answer</th>\n",
              "      <th>ans_start</th>\n",
              "      <th>ans_end</th>\n",
              "    </tr>\n",
              "  </thead>\n",
              "  <tbody>\n",
              "    <tr>\n",
              "      <th>0</th>\n",
              "      <td>free flashcards authors studystack spain 1959 ...</td>\n",
              "      <td>spain 1959 , wrote dangerous summer , story ri...</td>\n",
              "      <td>hemingway</td>\n",
              "      <td>100</td>\n",
              "      <td>109</td>\n",
              "    </tr>\n",
              "    <tr>\n",
              "      <th>1</th>\n",
              "      <td>november 14 , 2008 called altitude american au...</td>\n",
              "      <td>spain 1959 , wrote dangerous summer , story ri...</td>\n",
              "      <td>hemingway</td>\n",
              "      <td>115</td>\n",
              "      <td>124</td>\n",
              "    </tr>\n",
              "    <tr>\n",
              "      <th>2</th>\n",
              "      <td>lowest highest death valley mt whitney walk ba...</td>\n",
              "      <td>valley 282 feet sea level state lowest point w...</td>\n",
              "      <td>california</td>\n",
              "      <td>-1</td>\n",
              "      <td>-1</td>\n",
              "    </tr>\n",
              "    <tr>\n",
              "      <th>3</th>\n",
              "      <td>california facts , map state symbols enchanted...</td>\n",
              "      <td>valley 282 feet sea level state lowest point w...</td>\n",
              "      <td>california</td>\n",
              "      <td>0</td>\n",
              "      <td>10</td>\n",
              "    </tr>\n",
              "    <tr>\n",
              "      <th>4</th>\n",
              "      <td>kids net au encyclopedia cash dispenser many a...</td>\n",
              "      <td>like banks , many grocery stores dispensing ca...</td>\n",
              "      <td>atms</td>\n",
              "      <td>45</td>\n",
              "      <td>49</td>\n",
              "    </tr>\n",
              "  </tbody>\n",
              "</table>\n",
              "</div>\n",
              "      <button class=\"colab-df-convert\" onclick=\"convertToInteractive('df-556426ae-37af-4b48-a705-e8347da5ac0f')\"\n",
              "              title=\"Convert this dataframe to an interactive table.\"\n",
              "              style=\"display:none;\">\n",
              "        \n",
              "  <svg xmlns=\"http://www.w3.org/2000/svg\" height=\"24px\"viewBox=\"0 0 24 24\"\n",
              "       width=\"24px\">\n",
              "    <path d=\"M0 0h24v24H0V0z\" fill=\"none\"/>\n",
              "    <path d=\"M18.56 5.44l.94 2.06.94-2.06 2.06-.94-2.06-.94-.94-2.06-.94 2.06-2.06.94zm-11 1L8.5 8.5l.94-2.06 2.06-.94-2.06-.94L8.5 2.5l-.94 2.06-2.06.94zm10 10l.94 2.06.94-2.06 2.06-.94-2.06-.94-.94-2.06-.94 2.06-2.06.94z\"/><path d=\"M17.41 7.96l-1.37-1.37c-.4-.4-.92-.59-1.43-.59-.52 0-1.04.2-1.43.59L10.3 9.45l-7.72 7.72c-.78.78-.78 2.05 0 2.83L4 21.41c.39.39.9.59 1.41.59.51 0 1.02-.2 1.41-.59l7.78-7.78 2.81-2.81c.8-.78.8-2.07 0-2.86zM5.41 20L4 18.59l7.72-7.72 1.47 1.35L5.41 20z\"/>\n",
              "  </svg>\n",
              "      </button>\n",
              "      \n",
              "  <style>\n",
              "    .colab-df-container {\n",
              "      display:flex;\n",
              "      flex-wrap:wrap;\n",
              "      gap: 12px;\n",
              "    }\n",
              "\n",
              "    .colab-df-convert {\n",
              "      background-color: #E8F0FE;\n",
              "      border: none;\n",
              "      border-radius: 50%;\n",
              "      cursor: pointer;\n",
              "      display: none;\n",
              "      fill: #1967D2;\n",
              "      height: 32px;\n",
              "      padding: 0 0 0 0;\n",
              "      width: 32px;\n",
              "    }\n",
              "\n",
              "    .colab-df-convert:hover {\n",
              "      background-color: #E2EBFA;\n",
              "      box-shadow: 0px 1px 2px rgba(60, 64, 67, 0.3), 0px 1px 3px 1px rgba(60, 64, 67, 0.15);\n",
              "      fill: #174EA6;\n",
              "    }\n",
              "\n",
              "    [theme=dark] .colab-df-convert {\n",
              "      background-color: #3B4455;\n",
              "      fill: #D2E3FC;\n",
              "    }\n",
              "\n",
              "    [theme=dark] .colab-df-convert:hover {\n",
              "      background-color: #434B5C;\n",
              "      box-shadow: 0px 1px 3px 1px rgba(0, 0, 0, 0.15);\n",
              "      filter: drop-shadow(0px 1px 2px rgba(0, 0, 0, 0.3));\n",
              "      fill: #FFFFFF;\n",
              "    }\n",
              "  </style>\n",
              "\n",
              "      <script>\n",
              "        const buttonEl =\n",
              "          document.querySelector('#df-556426ae-37af-4b48-a705-e8347da5ac0f button.colab-df-convert');\n",
              "        buttonEl.style.display =\n",
              "          google.colab.kernel.accessAllowed ? 'block' : 'none';\n",
              "\n",
              "        async function convertToInteractive(key) {\n",
              "          const element = document.querySelector('#df-556426ae-37af-4b48-a705-e8347da5ac0f');\n",
              "          const dataTable =\n",
              "            await google.colab.kernel.invokeFunction('convertToInteractive',\n",
              "                                                     [key], {});\n",
              "          if (!dataTable) return;\n",
              "\n",
              "          const docLinkHtml = 'Like what you see? Visit the ' +\n",
              "            '<a target=\"_blank\" href=https://colab.research.google.com/notebooks/data_table.ipynb>data table notebook</a>'\n",
              "            + ' to learn more about interactive tables.';\n",
              "          element.innerHTML = '';\n",
              "          dataTable['output_type'] = 'display_data';\n",
              "          await google.colab.output.renderOutput(dataTable, element);\n",
              "          const docLink = document.createElement('div');\n",
              "          docLink.innerHTML = docLinkHtml;\n",
              "          element.appendChild(docLink);\n",
              "        }\n",
              "      </script>\n",
              "    </div>\n",
              "  </div>\n",
              "  "
            ]
          },
          "metadata": {},
          "execution_count": 10
        }
      ]
    },
    {
      "cell_type": "code",
      "source": [
        "from transformers import AutoTokenizer\n",
        "\n",
        "tokenizer = AutoTokenizer.from_pretrained(\"bert-base-cased\")"
      ],
      "metadata": {
        "id": "oV0LC5PY31ON",
        "colab": {
          "base_uri": "https://localhost:8080/",
          "height": 145,
          "referenced_widgets": [
            "1624449caee34b86a20e090b25d8af1b",
            "07eb849954d246c0a0909d881f05b334",
            "934fd7f9fc4641cfaf6dca9c7f43da13",
            "f315cda72a8249d18be1f9867f9d0139",
            "7b0b40454d1c4067ac9b5dcf5b952016",
            "b8af96d679e4486ab4e4279f2cbef5b1",
            "52f170eb7059438496edddf31af757bd",
            "492651ba3f2544fb9a536ff03a778f61",
            "a7acc07bc2244c84a9dc37eb46daf5d4",
            "6a580b09d2bc40b9b835c2834820d870",
            "319a4a51d178464f871a21637fe3961a",
            "2d1fee0aae4144ccaaac3137632fe8ad",
            "8e91cc709c3c4b53816908f1c9841bc3",
            "0b76437c4a86491a96daad50f1187476",
            "949cb2e0cd0346d5b2cbf7969e77ec82",
            "0c8eb40af5474b93a653c1a0a7180977",
            "94b6c17c1ef64bfd96b96cfcf987143a",
            "a103c98b54654bd5b5406aa68f96ab64",
            "e28693b0f97a4365880348990dd834f9",
            "67816ec55323489a8031607dfd935cec",
            "48e1d3d77fe9445c8e984a3366f43261",
            "6a86c382bcb34d66bce0662333939185",
            "6dfcb5e924cc4517bee8be0b3c97597c",
            "2d1859b8291640c89ec4ace681417bcf",
            "7739cd7162664b498193f4d010987d7f",
            "867f458a8f7a4f1d8cadb9446ace3e41",
            "d7d3317129824930af6d990903cebef0",
            "b2ae9a166fba4527814d29506197bb50",
            "80078e2289c3453ea0fd12cd873c5489",
            "1338225382ae47f4bfaa77a1524299df",
            "d062e4504b6f43308d78b21ff8fd61b5",
            "12043ba61a264df1b1a5554e9d927fe2",
            "c0041875691646a5a83aaca607a58084",
            "85834ae9310e433088a2a700c1e959ef",
            "afdea1e88ef846a5b38bb56af085e5e7",
            "4f2a65e7f7ae49ea94c48bcc9dc4d944",
            "8de24034c72f4cf3bfaa6c8af6284619",
            "40fd50e1246c445a858b2d374231811b",
            "cff7d33691e64c16bc49b95a23d399c2",
            "704db9daae4c46bab021cc6e69a7e5c6",
            "b8680fec4716453784fcba06a2c8f49f",
            "833d61af524444eb88e91b1422696728",
            "becc4296378447e7abccf46bab1385e6",
            "3993fd2f0ca4447ba520979745b09ccf"
          ]
        },
        "outputId": "3f99d0ef-150a-4357-e27d-a820f5038afc"
      },
      "execution_count": 11,
      "outputs": [
        {
          "output_type": "display_data",
          "data": {
            "text/plain": [
              "Downloading:   0%|          | 0.00/29.0 [00:00<?, ?B/s]"
            ],
            "application/vnd.jupyter.widget-view+json": {
              "version_major": 2,
              "version_minor": 0,
              "model_id": "1624449caee34b86a20e090b25d8af1b"
            }
          },
          "metadata": {}
        },
        {
          "output_type": "display_data",
          "data": {
            "text/plain": [
              "Downloading:   0%|          | 0.00/570 [00:00<?, ?B/s]"
            ],
            "application/vnd.jupyter.widget-view+json": {
              "version_major": 2,
              "version_minor": 0,
              "model_id": "2d1fee0aae4144ccaaac3137632fe8ad"
            }
          },
          "metadata": {}
        },
        {
          "output_type": "display_data",
          "data": {
            "text/plain": [
              "Downloading:   0%|          | 0.00/213k [00:00<?, ?B/s]"
            ],
            "application/vnd.jupyter.widget-view+json": {
              "version_major": 2,
              "version_minor": 0,
              "model_id": "6dfcb5e924cc4517bee8be0b3c97597c"
            }
          },
          "metadata": {}
        },
        {
          "output_type": "display_data",
          "data": {
            "text/plain": [
              "Downloading:   0%|          | 0.00/436k [00:00<?, ?B/s]"
            ],
            "application/vnd.jupyter.widget-view+json": {
              "version_major": 2,
              "version_minor": 0,
              "model_id": "85834ae9310e433088a2a700c1e959ef"
            }
          },
          "metadata": {}
        }
      ]
    },
    {
      "cell_type": "code",
      "source": [
        "train_data_s = train_df['snippet'].tolist()\n",
        "valid_data_s = valid_df['snippet'].tolist()\n",
        "\n",
        "train_data_q = train_df['question'].tolist()\n",
        "valid_data_q = valid_df['question'].tolist()\n",
        "# for i in range(0,len(train_data_q)):\n",
        "#   if type(train_data_q[i]) == float:\n",
        "#     print(i)"
      ],
      "metadata": {
        "id": "eZkbsod032DP"
      },
      "execution_count": 12,
      "outputs": []
    },
    {
      "cell_type": "code",
      "source": [
        "train_encodings = tokenizer(train_data_s, train_data_q, truncation=True, padding=True)\n",
        "val_encodings = tokenizer(valid_data_s, valid_data_q, truncation=True, padding=True)\n",
        "train_encodings[0]"
      ],
      "metadata": {
        "id": "A_IdojFy32k1",
        "colab": {
          "base_uri": "https://localhost:8080/"
        },
        "outputId": "cd0adf10-6348-416d-f457-51d91eafcfa3"
      },
      "execution_count": 13,
      "outputs": [
        {
          "output_type": "execute_result",
          "data": {
            "text/plain": [
              "Encoding(num_tokens=176, attributes=[ids, type_ids, tokens, offsets, attention_mask, special_tokens_mask, overflowing])"
            ]
          },
          "metadata": {},
          "execution_count": 13
        }
      ]
    },
    {
      "cell_type": "code",
      "source": [
        "tokenizer.decode(train_encodings['input_ids'][0])\n",
        "tokenizer.decode(val_encodings['input_ids'][0])"
      ],
      "metadata": {
        "id": "JZLswLcB33kG",
        "colab": {
          "base_uri": "https://localhost:8080/",
          "height": 157
        },
        "outputId": "0ee6001e-e305-46fd-beea-6ef7d052a712"
      },
      "execution_count": 14,
      "outputs": [
        {
          "output_type": "execute_result",
          "data": {
            "text/plain": [
              "'[CLS] free flashcards authors studystack spain 1959, wrote dangerous summer, story rival bullfighters, hemingway 1884 [SEP] spain 1959, wrote dangerous summer, story rival bullfighters [SEP] [PAD] [PAD] [PAD] [PAD] [PAD] [PAD] [PAD] [PAD] [PAD] [PAD] [PAD] [PAD] [PAD] [PAD] [PAD] [PAD] [PAD] [PAD] [PAD] [PAD] [PAD] [PAD] [PAD] [PAD] [PAD] [PAD] [PAD] [PAD] [PAD] [PAD] [PAD] [PAD] [PAD] [PAD] [PAD] [PAD] [PAD] [PAD] [PAD] [PAD] [PAD] [PAD] [PAD] [PAD] [PAD] [PAD] [PAD] [PAD] [PAD] [PAD] [PAD] [PAD] [PAD] [PAD] [PAD] [PAD] [PAD] [PAD] [PAD] [PAD] [PAD] [PAD] [PAD] [PAD] [PAD] [PAD] [PAD] [PAD] [PAD] [PAD] [PAD] [PAD] [PAD] [PAD] [PAD] [PAD] [PAD] [PAD] [PAD] [PAD] [PAD] [PAD] [PAD] [PAD] [PAD] [PAD] [PAD] [PAD] [PAD] [PAD] [PAD] [PAD] [PAD] [PAD] [PAD] [PAD] [PAD] [PAD] [PAD] [PAD] [PAD] [PAD] [PAD] [PAD] [PAD] [PAD] [PAD] [PAD] [PAD] [PAD] [PAD] [PAD] [PAD] [PAD] [PAD] [PAD] [PAD] [PAD] [PAD] [PAD] [PAD] [PAD] [PAD]'"
            ],
            "application/vnd.google.colaboratory.intrinsic+json": {
              "type": "string"
            }
          },
          "metadata": {},
          "execution_count": 14
        }
      ]
    },
    {
      "cell_type": "code",
      "source": [
        "train_answer = train_df[['ans_start', 'ans_end']].to_dict('records')\n",
        "print(len(train_answer[0]))\n",
        "print(train_answer[0]['ans_start'])\n",
        "print(train_answer[0]['ans_end'])\n",
        "valid_answer = valid_df[['ans_start', 'ans_end']].to_dict('records')"
      ],
      "metadata": {
        "id": "PzXPMIsB34fv",
        "colab": {
          "base_uri": "https://localhost:8080/"
        },
        "outputId": "5c1e4331-c585-48ec-9c0e-055f4b7a154d"
      },
      "execution_count": 15,
      "outputs": [
        {
          "output_type": "stream",
          "name": "stdout",
          "text": [
            "2\n",
            "56\n",
            "66\n"
          ]
        }
      ]
    },
    {
      "cell_type": "code",
      "source": [
        "def add_token_positions(encodings, answers):\n",
        "    ans_start, ans_end = [],[]\n",
        "\n",
        "    for i in range(len(answers)):\n",
        "        if answers[i]['ans_start'] == -1 and answers[i]['ans_end'] == -1:\n",
        "          ans_start.append(0)\n",
        "          ans_end.append(0)\n",
        "          continue\n",
        "\n",
        "        else:\n",
        "          ans_start.append(encodings.char_to_token(i, answers[i]['ans_start']))\n",
        "          ans_end.append(encodings.char_to_token(i, answers[i]['ans_end'] + 1))\n",
        "\n",
        "\n",
        "        if ans_start[-1] is None:\n",
        "            ans_start[-1] = 0\n",
        "            ans_end[-1] = 0\n",
        "            continue\n",
        "        \n",
        "            \n",
        "        shift = 1\n",
        "        while ans_end[-1] is None:\n",
        "            ans_end[-1] = encodings.char_to_token(i, answers[i]['ans_end'] - shift)\n",
        "            shift += 1\n",
        "            \n",
        "    encodings.update({'ans_start':ans_start, 'ans_end':ans_end})"
      ],
      "metadata": {
        "id": "QudEy8ve36J3"
      },
      "execution_count": 16,
      "outputs": []
    },
    {
      "cell_type": "code",
      "source": [
        "# Convert char_based_id to token_based_id\n",
        "# Find the corossponding token id after input being tokenized\n",
        "add_token_positions(train_encodings, train_answer)\n",
        "add_token_positions(val_encodings, valid_answer)"
      ],
      "metadata": {
        "id": "EiiogyXN37hb"
      },
      "execution_count": 17,
      "outputs": []
    },
    {
      "cell_type": "code",
      "source": [
        "train_encodings.keys()"
      ],
      "metadata": {
        "id": "lcp7bxY939xu",
        "colab": {
          "base_uri": "https://localhost:8080/"
        },
        "outputId": "dec8e91a-b78c-4dbb-dfd8-ccdb62000dfd"
      },
      "execution_count": 18,
      "outputs": [
        {
          "output_type": "execute_result",
          "data": {
            "text/plain": [
              "dict_keys(['input_ids', 'token_type_ids', 'attention_mask', 'ans_start', 'ans_end'])"
            ]
          },
          "metadata": {},
          "execution_count": 18
        }
      ]
    },
    {
      "cell_type": "code",
      "source": [
        "tokenizer.decode(train_encodings['input_ids'][0])"
      ],
      "metadata": {
        "id": "BFDE1evn4xUG",
        "colab": {
          "base_uri": "https://localhost:8080/",
          "height": 157
        },
        "outputId": "e14c0262-56fe-4eb9-828b-3997ad707319"
      },
      "execution_count": 19,
      "outputs": [
        {
          "output_type": "execute_result",
          "data": {
            "text/plain": [
              "\"[CLS] pdf arxiv org may 20, 2016 last 8 years life, galileo copernicus house arrest espousing man's theory winter 1971 72, record [SEP] last 8 years life, galileo house arrest espousing man's theory [SEP] [PAD] [PAD] [PAD] [PAD] [PAD] [PAD] [PAD] [PAD] [PAD] [PAD] [PAD] [PAD] [PAD] [PAD] [PAD] [PAD] [PAD] [PAD] [PAD] [PAD] [PAD] [PAD] [PAD] [PAD] [PAD] [PAD] [PAD] [PAD] [PAD] [PAD] [PAD] [PAD] [PAD] [PAD] [PAD] [PAD] [PAD] [PAD] [PAD] [PAD] [PAD] [PAD] [PAD] [PAD] [PAD] [PAD] [PAD] [PAD] [PAD] [PAD] [PAD] [PAD] [PAD] [PAD] [PAD] [PAD] [PAD] [PAD] [PAD] [PAD] [PAD] [PAD] [PAD] [PAD] [PAD] [PAD] [PAD] [PAD] [PAD] [PAD] [PAD] [PAD] [PAD] [PAD] [PAD] [PAD] [PAD] [PAD] [PAD] [PAD] [PAD] [PAD] [PAD] [PAD] [PAD] [PAD] [PAD] [PAD] [PAD] [PAD] [PAD] [PAD] [PAD] [PAD] [PAD] [PAD] [PAD] [PAD] [PAD] [PAD] [PAD] [PAD] [PAD] [PAD] [PAD] [PAD] [PAD] [PAD] [PAD] [PAD] [PAD] [PAD] [PAD] [PAD] [PAD] [PAD] [PAD] [PAD] [PAD]\""
            ],
            "application/vnd.google.colaboratory.intrinsic+json": {
              "type": "string"
            }
          },
          "metadata": {},
          "execution_count": 19
        }
      ]
    },
    {
      "cell_type": "code",
      "source": [
        "# check the tokenizer\n",
        "print(train_df['answer'][6])\n",
        "print(tokenizer.decode(train_encodings['input_ids'][6][45:50]))\n",
        "print(train_encodings['ans_start'][:20])\n",
        "print(train_encodings['ans_end'][:20])\n",
        "print(val_encodings['ans_start'][:20])\n",
        "print(val_encodings['ans_end'][:20])"
      ],
      "metadata": {
        "id": "ByGbejjc3_Ww",
        "colab": {
          "base_uri": "https://localhost:8080/"
        },
        "outputId": "e22253a9-2d10-49e6-af38-778f5685eac3"
      },
      "execution_count": 20,
      "outputs": [
        {
          "output_type": "stream",
          "name": "stdout",
          "text": [
            "john adams \n",
            "john adams\n",
            "[21, 29, 0, 0, 0, 3, 45, 47, 0, 35, 1, 5, 3, 0, 24, 0, 6, 34, 3, 1]\n",
            "[24, 32, 0, 0, 0, 6, 50, 52, 0, 36, 4, 8, 9, 0, 26, 0, 9, 37, 8, 6]\n",
            "[22, 26, 0, 1, 14, 29, 29, 11, 36, 51, 9, 23, 37, 1, 6, 0, 43, 0, 17, 23]\n",
            "[25, 29, 0, 6, 16, 31, 34, 16, 40, 55, 12, 26, 40, 4, 9, 0, 48, 0, 19, 25]\n"
          ]
        }
      ]
    },
    {
      "cell_type": "code",
      "source": [
        "class QADataset(torch.utils.data.Dataset):\n",
        "    def __init__(self, encodings):\n",
        "        self.encodings = encodings\n",
        "\n",
        "    def __getitem__(self, idx):\n",
        "        return {key: torch.tensor(val[idx]) for key, val in self.encodings.items()}\n",
        "\n",
        "    def __len__(self):\n",
        "        return len(self.encodings.input_ids)"
      ],
      "metadata": {
        "id": "uiLDE13N4BU5"
      },
      "execution_count": 21,
      "outputs": []
    },
    {
      "cell_type": "code",
      "source": [
        "train_dataset = QADataset(train_encodings)\n",
        "valid_dataset = QADataset(val_encodings)"
      ],
      "metadata": {
        "id": "5W3IZLoT4CSn"
      },
      "execution_count": 22,
      "outputs": []
    },
    {
      "cell_type": "code",
      "source": [
        "next(iter(train_dataset))"
      ],
      "metadata": {
        "id": "kdOCqx6s4DdE",
        "colab": {
          "base_uri": "https://localhost:8080/"
        },
        "outputId": "2c1e31c7-6dc7-4250-9d2d-8722574ed62d"
      },
      "execution_count": 23,
      "outputs": [
        {
          "output_type": "execute_result",
          "data": {
            "text/plain": [
              "{'input_ids': tensor([  101,   185,  1181,  2087,   170,  1197,  8745,  1964,  8916,  1336,\n",
              "          1406,   117,  1446,  1314,   129,  1201,  1297,   117, 20003,  4759,\n",
              "          1186, 16743,  4558, 14191,  1402,  6040, 13936,  5674, 19578,  1299,\n",
              "           112,   188,  2749,  3701,  2507,  5117,   117,  1647,   102,  1314,\n",
              "           129,  1201,  1297,   117, 20003,  4759,  1186,  1402,  6040, 13936,\n",
              "          5674, 19578,  1299,   112,   188,  2749,   102,     0,     0,     0,\n",
              "             0,     0,     0,     0,     0,     0,     0,     0,     0,     0,\n",
              "             0,     0,     0,     0,     0,     0,     0,     0,     0,     0,\n",
              "             0,     0,     0,     0,     0,     0,     0,     0,     0,     0,\n",
              "             0,     0,     0,     0,     0,     0,     0,     0,     0,     0,\n",
              "             0,     0,     0,     0,     0,     0,     0,     0,     0,     0,\n",
              "             0,     0,     0,     0,     0,     0,     0,     0,     0,     0,\n",
              "             0,     0,     0,     0,     0,     0,     0,     0,     0,     0,\n",
              "             0,     0,     0,     0,     0,     0,     0,     0,     0,     0,\n",
              "             0,     0,     0,     0,     0,     0,     0,     0,     0,     0,\n",
              "             0,     0,     0,     0,     0,     0,     0,     0,     0,     0,\n",
              "             0,     0,     0,     0,     0,     0,     0,     0,     0,     0,\n",
              "             0,     0,     0,     0,     0,     0]),\n",
              " 'token_type_ids': tensor([0, 0, 0, 0, 0, 0, 0, 0, 0, 0, 0, 0, 0, 0, 0, 0, 0, 0, 0, 0, 0, 0, 0, 0,\n",
              "         0, 0, 0, 0, 0, 0, 0, 0, 0, 0, 0, 0, 0, 0, 0, 1, 1, 1, 1, 1, 1, 1, 1, 1,\n",
              "         1, 1, 1, 1, 1, 1, 1, 1, 1, 0, 0, 0, 0, 0, 0, 0, 0, 0, 0, 0, 0, 0, 0, 0,\n",
              "         0, 0, 0, 0, 0, 0, 0, 0, 0, 0, 0, 0, 0, 0, 0, 0, 0, 0, 0, 0, 0, 0, 0, 0,\n",
              "         0, 0, 0, 0, 0, 0, 0, 0, 0, 0, 0, 0, 0, 0, 0, 0, 0, 0, 0, 0, 0, 0, 0, 0,\n",
              "         0, 0, 0, 0, 0, 0, 0, 0, 0, 0, 0, 0, 0, 0, 0, 0, 0, 0, 0, 0, 0, 0, 0, 0,\n",
              "         0, 0, 0, 0, 0, 0, 0, 0, 0, 0, 0, 0, 0, 0, 0, 0, 0, 0, 0, 0, 0, 0, 0, 0,\n",
              "         0, 0, 0, 0, 0, 0, 0, 0]),\n",
              " 'attention_mask': tensor([1, 1, 1, 1, 1, 1, 1, 1, 1, 1, 1, 1, 1, 1, 1, 1, 1, 1, 1, 1, 1, 1, 1, 1,\n",
              "         1, 1, 1, 1, 1, 1, 1, 1, 1, 1, 1, 1, 1, 1, 1, 1, 1, 1, 1, 1, 1, 1, 1, 1,\n",
              "         1, 1, 1, 1, 1, 1, 1, 1, 1, 0, 0, 0, 0, 0, 0, 0, 0, 0, 0, 0, 0, 0, 0, 0,\n",
              "         0, 0, 0, 0, 0, 0, 0, 0, 0, 0, 0, 0, 0, 0, 0, 0, 0, 0, 0, 0, 0, 0, 0, 0,\n",
              "         0, 0, 0, 0, 0, 0, 0, 0, 0, 0, 0, 0, 0, 0, 0, 0, 0, 0, 0, 0, 0, 0, 0, 0,\n",
              "         0, 0, 0, 0, 0, 0, 0, 0, 0, 0, 0, 0, 0, 0, 0, 0, 0, 0, 0, 0, 0, 0, 0, 0,\n",
              "         0, 0, 0, 0, 0, 0, 0, 0, 0, 0, 0, 0, 0, 0, 0, 0, 0, 0, 0, 0, 0, 0, 0, 0,\n",
              "         0, 0, 0, 0, 0, 0, 0, 0]),\n",
              " 'ans_start': tensor(21),\n",
              " 'ans_end': tensor(24)}"
            ]
          },
          "metadata": {},
          "execution_count": 23
        }
      ]
    },
    {
      "cell_type": "markdown",
      "source": [
        "## Model"
      ],
      "metadata": {
        "id": "qWKyTo_F4EHc"
      }
    },
    {
      "cell_type": "code",
      "source": [
        "from transformers import BertModel\n",
        "\n",
        "class myModel(torch.nn.Module):\n",
        "\n",
        "    def __init__(self):\n",
        "\n",
        "        super(myModel, self).__init__()\n",
        "\n",
        "        self.bert = BertModel.from_pretrained('bert-base-cased')\n",
        "        self.fc = nn.Linear(768, 2)\n",
        "        \n",
        "\n",
        "    def forward(self, input_ids, attention_mask, token_type_ids):\n",
        "\n",
        "        output = self.bert(input_ids=input_ids, attention_mask=attention_mask, token_type_ids=token_type_ids, return_dict=True)\n",
        "        logits = output[0]\n",
        "        out = self.fc(logits)\n",
        "\n",
        "        return out"
      ],
      "metadata": {
        "id": "JftP0Os84FzT"
      },
      "execution_count": 24,
      "outputs": []
    },
    {
      "cell_type": "markdown",
      "source": [
        "## Train"
      ],
      "metadata": {
        "id": "hTzaopFE4IcO"
      }
    },
    {
      "cell_type": "code",
      "source": [
        "from transformers import AdamW\n",
        "from tqdm import tqdm\n",
        "\n",
        "# Set GPU / CPU\n",
        "device = torch.device('cuda') if torch.cuda.is_available() else torch.device('cpu')\n",
        "print(device)\n",
        "# Put model on device\n",
        "model = myModel().to(device)\n",
        "\n",
        "optim = AdamW(model.parameters(), lr=1e-6)"
      ],
      "metadata": {
        "id": "wUrSSU3J4IIA",
        "colab": {
          "base_uri": "https://localhost:8080/",
          "height": 173,
          "referenced_widgets": [
            "a3de4e59163447e99fedc55af3f416b6",
            "b428aa9171c949a48080f3d9db851c74",
            "5bc005c42ad24ea999986cd64dcff0e9",
            "0fc8efb208fa4eb8a3dd23780518c2f4",
            "8c9610da068f45bcb612b25fa8d47c5a",
            "56cad9ccc7c0473bb845467b2c17c1b3",
            "76152ae1d68648468df60c61e87dc22a",
            "b9e7b79b8aab458b8b543cb06fce7f66",
            "70f4be56f842447c87f0839d376f6a41",
            "0b8fcf13b7744e618247a2b4d59917b6",
            "7f9973fe2b5240229775f97d1419c53d"
          ]
        },
        "outputId": "97089f75-5623-41f5-a0dd-fc832abaaad8"
      },
      "execution_count": 25,
      "outputs": [
        {
          "output_type": "stream",
          "name": "stdout",
          "text": [
            "cuda\n"
          ]
        },
        {
          "output_type": "display_data",
          "data": {
            "text/plain": [
              "Downloading:   0%|          | 0.00/436M [00:00<?, ?B/s]"
            ],
            "application/vnd.jupyter.widget-view+json": {
              "version_major": 2,
              "version_minor": 0,
              "model_id": "a3de4e59163447e99fedc55af3f416b6"
            }
          },
          "metadata": {}
        },
        {
          "output_type": "stream",
          "name": "stderr",
          "text": [
            "Some weights of the model checkpoint at bert-base-cased were not used when initializing BertModel: ['cls.predictions.transform.dense.weight', 'cls.predictions.decoder.weight', 'cls.predictions.transform.dense.bias', 'cls.predictions.bias', 'cls.predictions.transform.LayerNorm.bias', 'cls.seq_relationship.weight', 'cls.predictions.transform.LayerNorm.weight', 'cls.seq_relationship.bias']\n",
            "- This IS expected if you are initializing BertModel from the checkpoint of a model trained on another task or with another architecture (e.g. initializing a BertForSequenceClassification model from a BertForPreTraining model).\n",
            "- This IS NOT expected if you are initializing BertModel from the checkpoint of a model that you expect to be exactly identical (initializing a BertForSequenceClassification model from a BertForSequenceClassification model).\n",
            "/usr/local/lib/python3.7/dist-packages/transformers/optimization.py:310: FutureWarning: This implementation of AdamW is deprecated and will be removed in a future version. Use the PyTorch implementation torch.optim.AdamW instead, or set `no_deprecation_warning=True` to disable this warning\n",
            "  FutureWarning,\n"
          ]
        }
      ]
    },
    {
      "cell_type": "code",
      "source": [
        "# Pack data into dataloader by batch\n",
        "batch_size = 8\n",
        "train_loader = DataLoader(train_dataset, batch_size=batch_size, shuffle=True)\n",
        "valid_loader = DataLoader(valid_dataset, batch_size=batch_size, shuffle=True)"
      ],
      "metadata": {
        "id": "Q1vMiN8x4Jnt"
      },
      "execution_count": 26,
      "outputs": []
    },
    {
      "cell_type": "code",
      "source": [
        "training_epoch = 1\n",
        "loss_fct = CrossEntropyLoss()"
      ],
      "metadata": {
        "id": "U22l08ZZ4LlS"
      },
      "execution_count": 27,
      "outputs": []
    },
    {
      "cell_type": "code",
      "source": [
        "def evaluate(valid_loader):\n",
        "    model.eval()\n",
        "    running_loss = 0.0\n",
        "\n",
        "    with torch.no_grad():\n",
        "        loop = tqdm(valid_loader, leave=True)\n",
        "        for batch_id, batch in enumerate(loop):\n",
        "            input_ids = batch['input_ids'].to(device)\n",
        "            attention_mask = batch['attention_mask'].to(device)\n",
        "            token_type_ids = batch['token_type_ids'].to(device)\n",
        "            ans_start = batch['ans_start'].to(device)\n",
        "            ans_end = batch['ans_end'].to(device)\n",
        "\n",
        "            # model output\n",
        "            outputs = model(input_ids=input_ids, attention_mask=attention_mask, token_type_ids=token_type_ids)\n",
        "\n",
        "            ans_start_logits, ans_end_logits = torch.split(outputs, 1, 2)\n",
        "\n",
        "            ans_start_logits = ans_start_logits.squeeze(-1).contiguous()\n",
        "            ans_end_logits = ans_end_logits.squeeze(-1).contiguous()\n",
        "\n",
        "            ans_start_loss = loss_fct(ans_start_logits, ans_start)\n",
        "            ans_end_loss = loss_fct(ans_end_logits, ans_end)\n",
        "\n",
        "            loss = ans_start_loss + ans_end_loss\n",
        "\n",
        "            running_loss += loss.item()\n",
        "            if batch_id % 30 == 0 and batch_id != 0:\n",
        "                print('Validation Epoch {} Batch {} Loss {:.4f}'.format(\n",
        "                    batch_id + 1, batch_id, running_loss / 30))\n",
        "                running_loss = 0.0\n",
        "\n",
        "        print(\"evaluate loss: \", loss)"
      ],
      "metadata": {
        "id": "G4_htgGu4NIH"
      },
      "execution_count": 28,
      "outputs": []
    },
    {
      "cell_type": "code",
      "source": [
        "for epoch in range(training_epoch):\n",
        "    model.train()\n",
        "    running_loss = 0.0\n",
        "    torch.save(model.state_dict(), '/bert_model_1129')\n",
        "    loop = tqdm(train_loader, leave=True)\n",
        "    for batch_id, batch in enumerate(loop):\n",
        "        # reset\n",
        "        optim.zero_grad()\n",
        "\n",
        "\n",
        "        input_ids = batch['input_ids'].to(device)\n",
        "        attention_mask = batch['attention_mask'].to(device)\n",
        "        token_type_ids = batch['token_type_ids'].to(device)\n",
        "        ans_start = batch['ans_start'].to(device)\n",
        "        ans_end = batch['ans_end'].to(device)\n",
        "\n",
        "\n",
        "        # model output\n",
        "        outputs = model(input_ids=input_ids, attention_mask=attention_mask, token_type_ids=token_type_ids)\n",
        "\n",
        "        ans_start_logits, ans_end_logits = torch.split(outputs, 1, 2)\n",
        "\n",
        "        ans_start_logits = ans_start_logits.squeeze(-1).contiguous()\n",
        "        ans_end_logits = ans_end_logits.squeeze(-1).contiguous()\n",
        "\n",
        "        ans_start_loss = loss_fct(ans_start_logits, ans_start)\n",
        "        ans_end_loss = loss_fct(ans_end_logits, ans_end)\n",
        "\n",
        "\n",
        "\n",
        "        loss = ans_start_loss + ans_end_loss\n",
        "\n",
        "        # calculate loss\n",
        "        loss.backward()\n",
        "        # update parameters\n",
        "        optim.step()\n",
        "\n",
        "        running_loss += loss.item()\n",
        "        if batch_id % 100 == 0 and batch_id != 0:\n",
        "            print('Epoch {} Batch {} Loss {:.4f}'.format(\n",
        "                batch_id + 1, batch_id, running_loss / 100))\n",
        "            running_loss = 0.0\n",
        "\n",
        "        loop.set_description(f'Epoch {epoch}')\n",
        "        loop.set_postfix(loss=loss.item())\n",
        "    evaluate(valid_loader)"
      ],
      "metadata": {
        "id": "fa56WV844Oj8",
        "colab": {
          "base_uri": "https://localhost:8080/"
        },
        "outputId": "be65c209-070d-4223-d7e0-e9c027d178ba"
      },
      "execution_count": 29,
      "outputs": [
        {
          "output_type": "stream",
          "name": "stderr",
          "text": [
            "Epoch 0:   0%|          | 101/24953 [00:29<1:51:42,  3.71it/s, loss=9.55]"
          ]
        },
        {
          "output_type": "stream",
          "name": "stdout",
          "text": [
            "Epoch 101 Batch 100 Loss 10.3084\n"
          ]
        },
        {
          "output_type": "stream",
          "name": "stderr",
          "text": [
            "Epoch 0:   1%|          | 201/24953 [00:56<1:56:16,  3.55it/s, loss=8.81]"
          ]
        },
        {
          "output_type": "stream",
          "name": "stdout",
          "text": [
            "Epoch 201 Batch 200 Loss 9.4054\n"
          ]
        },
        {
          "output_type": "stream",
          "name": "stderr",
          "text": [
            "Epoch 0:   1%|          | 301/24953 [01:25<2:02:31,  3.35it/s, loss=8.18]"
          ]
        },
        {
          "output_type": "stream",
          "name": "stdout",
          "text": [
            "Epoch 301 Batch 300 Loss 8.0615\n"
          ]
        },
        {
          "output_type": "stream",
          "name": "stderr",
          "text": [
            "Epoch 0:   2%|▏         | 401/24953 [01:55<1:59:21,  3.43it/s, loss=6.29]"
          ]
        },
        {
          "output_type": "stream",
          "name": "stdout",
          "text": [
            "Epoch 401 Batch 400 Loss 7.0005\n"
          ]
        },
        {
          "output_type": "stream",
          "name": "stderr",
          "text": [
            "Epoch 0:   2%|▏         | 501/24953 [02:24<1:59:47,  3.40it/s, loss=7.39]"
          ]
        },
        {
          "output_type": "stream",
          "name": "stdout",
          "text": [
            "Epoch 501 Batch 500 Loss 6.5553\n"
          ]
        },
        {
          "output_type": "stream",
          "name": "stderr",
          "text": [
            "Epoch 0:   2%|▏         | 601/24953 [02:54<2:03:44,  3.28it/s, loss=4.41]"
          ]
        },
        {
          "output_type": "stream",
          "name": "stdout",
          "text": [
            "Epoch 601 Batch 600 Loss 6.2152\n"
          ]
        },
        {
          "output_type": "stream",
          "name": "stderr",
          "text": [
            "Epoch 0:   3%|▎         | 701/24953 [03:24<2:02:22,  3.30it/s, loss=5.82]"
          ]
        },
        {
          "output_type": "stream",
          "name": "stdout",
          "text": [
            "Epoch 701 Batch 700 Loss 5.8459\n"
          ]
        },
        {
          "output_type": "stream",
          "name": "stderr",
          "text": [
            "Epoch 0:   3%|▎         | 801/24953 [03:55<2:03:55,  3.25it/s, loss=5.22]"
          ]
        },
        {
          "output_type": "stream",
          "name": "stdout",
          "text": [
            "Epoch 801 Batch 800 Loss 5.5293\n"
          ]
        },
        {
          "output_type": "stream",
          "name": "stderr",
          "text": [
            "Epoch 0:   4%|▎         | 901/24953 [04:26<2:03:01,  3.26it/s, loss=5.34]"
          ]
        },
        {
          "output_type": "stream",
          "name": "stdout",
          "text": [
            "Epoch 901 Batch 900 Loss 5.4370\n"
          ]
        },
        {
          "output_type": "stream",
          "name": "stderr",
          "text": [
            "Epoch 0:   4%|▍         | 1001/24953 [04:56<2:02:36,  3.26it/s, loss=5.84]"
          ]
        },
        {
          "output_type": "stream",
          "name": "stdout",
          "text": [
            "Epoch 1001 Batch 1000 Loss 5.3618\n"
          ]
        },
        {
          "output_type": "stream",
          "name": "stderr",
          "text": [
            "Epoch 0:   4%|▍         | 1101/24953 [05:27<2:02:02,  3.26it/s, loss=3.46]"
          ]
        },
        {
          "output_type": "stream",
          "name": "stdout",
          "text": [
            "Epoch 1101 Batch 1100 Loss 5.1713\n"
          ]
        },
        {
          "output_type": "stream",
          "name": "stderr",
          "text": [
            "Epoch 0:   5%|▍         | 1201/24953 [05:58<2:01:56,  3.25it/s, loss=6.85]"
          ]
        },
        {
          "output_type": "stream",
          "name": "stdout",
          "text": [
            "Epoch 1201 Batch 1200 Loss 5.2480\n"
          ]
        },
        {
          "output_type": "stream",
          "name": "stderr",
          "text": [
            "Epoch 0:   5%|▌         | 1301/24953 [06:28<2:01:02,  3.26it/s, loss=4.3]"
          ]
        },
        {
          "output_type": "stream",
          "name": "stdout",
          "text": [
            "Epoch 1301 Batch 1300 Loss 5.0431\n"
          ]
        },
        {
          "output_type": "stream",
          "name": "stderr",
          "text": [
            "Epoch 0:   6%|▌         | 1401/24953 [06:59<1:59:25,  3.29it/s, loss=5.18]"
          ]
        },
        {
          "output_type": "stream",
          "name": "stdout",
          "text": [
            "Epoch 1401 Batch 1400 Loss 5.0365\n"
          ]
        },
        {
          "output_type": "stream",
          "name": "stderr",
          "text": [
            "Epoch 0:   6%|▌         | 1501/24953 [07:30<2:01:46,  3.21it/s, loss=5.67]"
          ]
        },
        {
          "output_type": "stream",
          "name": "stdout",
          "text": [
            "Epoch 1501 Batch 1500 Loss 5.0317\n"
          ]
        },
        {
          "output_type": "stream",
          "name": "stderr",
          "text": [
            "Epoch 0:   6%|▋         | 1601/24953 [08:01<2:00:32,  3.23it/s, loss=4.41]"
          ]
        },
        {
          "output_type": "stream",
          "name": "stdout",
          "text": [
            "Epoch 1601 Batch 1600 Loss 4.8436\n"
          ]
        },
        {
          "output_type": "stream",
          "name": "stderr",
          "text": [
            "Epoch 0:   7%|▋         | 1701/24953 [08:31<1:58:13,  3.28it/s, loss=5.78]"
          ]
        },
        {
          "output_type": "stream",
          "name": "stdout",
          "text": [
            "Epoch 1701 Batch 1700 Loss 4.7722\n"
          ]
        },
        {
          "output_type": "stream",
          "name": "stderr",
          "text": [
            "Epoch 0:   7%|▋         | 1801/24953 [09:02<1:58:39,  3.25it/s, loss=6.56]"
          ]
        },
        {
          "output_type": "stream",
          "name": "stdout",
          "text": [
            "Epoch 1801 Batch 1800 Loss 4.7454\n"
          ]
        },
        {
          "output_type": "stream",
          "name": "stderr",
          "text": [
            "Epoch 0:   8%|▊         | 1901/24953 [09:33<1:58:10,  3.25it/s, loss=3.21]"
          ]
        },
        {
          "output_type": "stream",
          "name": "stdout",
          "text": [
            "Epoch 1901 Batch 1900 Loss 4.6442\n"
          ]
        },
        {
          "output_type": "stream",
          "name": "stderr",
          "text": [
            "Epoch 0:   8%|▊         | 2001/24953 [10:03<1:58:34,  3.23it/s, loss=4.35]"
          ]
        },
        {
          "output_type": "stream",
          "name": "stdout",
          "text": [
            "Epoch 2001 Batch 2000 Loss 4.5818\n"
          ]
        },
        {
          "output_type": "stream",
          "name": "stderr",
          "text": [
            "Epoch 0:   8%|▊         | 2101/24953 [10:34<1:57:17,  3.25it/s, loss=3.14]"
          ]
        },
        {
          "output_type": "stream",
          "name": "stdout",
          "text": [
            "Epoch 2101 Batch 2100 Loss 4.6112\n"
          ]
        },
        {
          "output_type": "stream",
          "name": "stderr",
          "text": [
            "Epoch 0:   9%|▉         | 2201/24953 [11:05<1:56:33,  3.25it/s, loss=4.7]"
          ]
        },
        {
          "output_type": "stream",
          "name": "stdout",
          "text": [
            "Epoch 2201 Batch 2200 Loss 4.5881\n"
          ]
        },
        {
          "output_type": "stream",
          "name": "stderr",
          "text": [
            "Epoch 0:   9%|▉         | 2301/24953 [11:36<1:55:54,  3.26it/s, loss=4.49]"
          ]
        },
        {
          "output_type": "stream",
          "name": "stdout",
          "text": [
            "Epoch 2301 Batch 2300 Loss 4.4203\n"
          ]
        },
        {
          "output_type": "stream",
          "name": "stderr",
          "text": [
            "Epoch 0:  10%|▉         | 2401/24953 [12:07<1:55:29,  3.25it/s, loss=4.52]"
          ]
        },
        {
          "output_type": "stream",
          "name": "stdout",
          "text": [
            "Epoch 2401 Batch 2400 Loss 4.3395\n"
          ]
        },
        {
          "output_type": "stream",
          "name": "stderr",
          "text": [
            "Epoch 0:  10%|█         | 2501/24953 [12:37<1:54:23,  3.27it/s, loss=3.59]"
          ]
        },
        {
          "output_type": "stream",
          "name": "stdout",
          "text": [
            "Epoch 2501 Batch 2500 Loss 4.4151\n"
          ]
        },
        {
          "output_type": "stream",
          "name": "stderr",
          "text": [
            "Epoch 0:  10%|█         | 2601/24953 [13:08<1:55:11,  3.23it/s, loss=4]"
          ]
        },
        {
          "output_type": "stream",
          "name": "stdout",
          "text": [
            "Epoch 2601 Batch 2600 Loss 4.2793\n"
          ]
        },
        {
          "output_type": "stream",
          "name": "stderr",
          "text": [
            "Epoch 0:  11%|█         | 2701/24953 [13:39<1:54:20,  3.24it/s, loss=5.43]"
          ]
        },
        {
          "output_type": "stream",
          "name": "stdout",
          "text": [
            "Epoch 2701 Batch 2700 Loss 4.2688\n"
          ]
        },
        {
          "output_type": "stream",
          "name": "stderr",
          "text": [
            "Epoch 0:  11%|█         | 2801/24953 [14:10<1:53:19,  3.26it/s, loss=2.37]"
          ]
        },
        {
          "output_type": "stream",
          "name": "stdout",
          "text": [
            "Epoch 2801 Batch 2800 Loss 4.1994\n"
          ]
        },
        {
          "output_type": "stream",
          "name": "stderr",
          "text": [
            "Epoch 0:  12%|█▏        | 2901/24953 [14:40<1:53:07,  3.25it/s, loss=3.39]"
          ]
        },
        {
          "output_type": "stream",
          "name": "stdout",
          "text": [
            "Epoch 2901 Batch 2900 Loss 4.1005\n"
          ]
        },
        {
          "output_type": "stream",
          "name": "stderr",
          "text": [
            "Epoch 0:  12%|█▏        | 3001/24953 [15:11<1:52:44,  3.25it/s, loss=3.26]"
          ]
        },
        {
          "output_type": "stream",
          "name": "stdout",
          "text": [
            "Epoch 3001 Batch 3000 Loss 4.2242\n"
          ]
        },
        {
          "output_type": "stream",
          "name": "stderr",
          "text": [
            "Epoch 0:  12%|█▏        | 3101/24953 [15:42<1:51:29,  3.27it/s, loss=3.31]"
          ]
        },
        {
          "output_type": "stream",
          "name": "stdout",
          "text": [
            "Epoch 3101 Batch 3100 Loss 4.1150\n"
          ]
        },
        {
          "output_type": "stream",
          "name": "stderr",
          "text": [
            "Epoch 0:  13%|█▎        | 3201/24953 [16:13<1:51:37,  3.25it/s, loss=2.05]"
          ]
        },
        {
          "output_type": "stream",
          "name": "stdout",
          "text": [
            "Epoch 3201 Batch 3200 Loss 4.0949\n"
          ]
        },
        {
          "output_type": "stream",
          "name": "stderr",
          "text": [
            "Epoch 0:  13%|█▎        | 3301/24953 [16:44<1:51:14,  3.24it/s, loss=5.08]"
          ]
        },
        {
          "output_type": "stream",
          "name": "stdout",
          "text": [
            "Epoch 3301 Batch 3300 Loss 4.2180\n"
          ]
        },
        {
          "output_type": "stream",
          "name": "stderr",
          "text": [
            "Epoch 0:  14%|█▎        | 3401/24953 [17:14<1:50:40,  3.25it/s, loss=4.36]"
          ]
        },
        {
          "output_type": "stream",
          "name": "stdout",
          "text": [
            "Epoch 3401 Batch 3400 Loss 4.1669\n"
          ]
        },
        {
          "output_type": "stream",
          "name": "stderr",
          "text": [
            "Epoch 0:  14%|█▍        | 3501/24953 [17:45<1:50:34,  3.23it/s, loss=4.28]"
          ]
        },
        {
          "output_type": "stream",
          "name": "stdout",
          "text": [
            "Epoch 3501 Batch 3500 Loss 3.8492\n"
          ]
        },
        {
          "output_type": "stream",
          "name": "stderr",
          "text": [
            "Epoch 0:  14%|█▍        | 3601/24953 [18:16<1:48:45,  3.27it/s, loss=4.7]"
          ]
        },
        {
          "output_type": "stream",
          "name": "stdout",
          "text": [
            "Epoch 3601 Batch 3600 Loss 4.0616\n"
          ]
        },
        {
          "output_type": "stream",
          "name": "stderr",
          "text": [
            "Epoch 0:  15%|█▍        | 3701/24953 [18:47<1:48:35,  3.26it/s, loss=5.42]"
          ]
        },
        {
          "output_type": "stream",
          "name": "stdout",
          "text": [
            "Epoch 3701 Batch 3700 Loss 4.0074\n"
          ]
        },
        {
          "output_type": "stream",
          "name": "stderr",
          "text": [
            "Epoch 0:  15%|█▌        | 3801/24953 [19:17<1:47:35,  3.28it/s, loss=5.99]"
          ]
        },
        {
          "output_type": "stream",
          "name": "stdout",
          "text": [
            "Epoch 3801 Batch 3800 Loss 4.0602\n"
          ]
        },
        {
          "output_type": "stream",
          "name": "stderr",
          "text": [
            "Epoch 0:  16%|█▌        | 3901/24953 [19:48<1:48:02,  3.25it/s, loss=4.11]"
          ]
        },
        {
          "output_type": "stream",
          "name": "stdout",
          "text": [
            "Epoch 3901 Batch 3900 Loss 3.9737\n"
          ]
        },
        {
          "output_type": "stream",
          "name": "stderr",
          "text": [
            "Epoch 0:  16%|█▌        | 4001/24953 [20:19<1:47:25,  3.25it/s, loss=3.38]"
          ]
        },
        {
          "output_type": "stream",
          "name": "stdout",
          "text": [
            "Epoch 4001 Batch 4000 Loss 3.8808\n"
          ]
        },
        {
          "output_type": "stream",
          "name": "stderr",
          "text": [
            "Epoch 0:  16%|█▋        | 4101/24953 [20:49<1:47:06,  3.24it/s, loss=2.52]"
          ]
        },
        {
          "output_type": "stream",
          "name": "stdout",
          "text": [
            "Epoch 4101 Batch 4100 Loss 4.0134\n"
          ]
        },
        {
          "output_type": "stream",
          "name": "stderr",
          "text": [
            "Epoch 0:  17%|█▋        | 4201/24953 [21:20<1:46:48,  3.24it/s, loss=3.3]"
          ]
        },
        {
          "output_type": "stream",
          "name": "stdout",
          "text": [
            "Epoch 4201 Batch 4200 Loss 3.9031\n"
          ]
        },
        {
          "output_type": "stream",
          "name": "stderr",
          "text": [
            "Epoch 0:  17%|█▋        | 4301/24953 [21:51<1:44:36,  3.29it/s, loss=5.41]"
          ]
        },
        {
          "output_type": "stream",
          "name": "stdout",
          "text": [
            "Epoch 4301 Batch 4300 Loss 3.8741\n"
          ]
        },
        {
          "output_type": "stream",
          "name": "stderr",
          "text": [
            "Epoch 0:  18%|█▊        | 4401/24953 [22:22<1:46:15,  3.22it/s, loss=4.83]"
          ]
        },
        {
          "output_type": "stream",
          "name": "stdout",
          "text": [
            "Epoch 4401 Batch 4400 Loss 3.8779\n"
          ]
        },
        {
          "output_type": "stream",
          "name": "stderr",
          "text": [
            "Epoch 0:  18%|█▊        | 4501/24953 [22:52<1:44:04,  3.28it/s, loss=4.83]"
          ]
        },
        {
          "output_type": "stream",
          "name": "stdout",
          "text": [
            "Epoch 4501 Batch 4500 Loss 3.9687\n"
          ]
        },
        {
          "output_type": "stream",
          "name": "stderr",
          "text": [
            "Epoch 0:  18%|█▊        | 4601/24953 [23:23<1:43:39,  3.27it/s, loss=2.23]"
          ]
        },
        {
          "output_type": "stream",
          "name": "stdout",
          "text": [
            "Epoch 4601 Batch 4600 Loss 3.8270\n"
          ]
        },
        {
          "output_type": "stream",
          "name": "stderr",
          "text": [
            "Epoch 0:  19%|█▉        | 4701/24953 [23:54<1:43:02,  3.28it/s, loss=2.63]"
          ]
        },
        {
          "output_type": "stream",
          "name": "stdout",
          "text": [
            "Epoch 4701 Batch 4700 Loss 3.7668\n"
          ]
        },
        {
          "output_type": "stream",
          "name": "stderr",
          "text": [
            "Epoch 0:  19%|█▉        | 4801/24953 [24:24<1:42:53,  3.26it/s, loss=2.83]"
          ]
        },
        {
          "output_type": "stream",
          "name": "stdout",
          "text": [
            "Epoch 4801 Batch 4800 Loss 3.7328\n"
          ]
        },
        {
          "output_type": "stream",
          "name": "stderr",
          "text": [
            "Epoch 0:  20%|█▉        | 4901/24953 [24:55<1:44:02,  3.21it/s, loss=4.38]"
          ]
        },
        {
          "output_type": "stream",
          "name": "stdout",
          "text": [
            "Epoch 4901 Batch 4900 Loss 3.7572\n"
          ]
        },
        {
          "output_type": "stream",
          "name": "stderr",
          "text": [
            "Epoch 0:  20%|██        | 5001/24953 [25:26<1:41:51,  3.26it/s, loss=3.35]"
          ]
        },
        {
          "output_type": "stream",
          "name": "stdout",
          "text": [
            "Epoch 5001 Batch 5000 Loss 3.8561\n"
          ]
        },
        {
          "output_type": "stream",
          "name": "stderr",
          "text": [
            "Epoch 0:  20%|██        | 5101/24953 [25:56<1:40:57,  3.28it/s, loss=4.21]"
          ]
        },
        {
          "output_type": "stream",
          "name": "stdout",
          "text": [
            "Epoch 5101 Batch 5100 Loss 3.9074\n"
          ]
        },
        {
          "output_type": "stream",
          "name": "stderr",
          "text": [
            "Epoch 0:  21%|██        | 5201/24953 [26:27<1:41:57,  3.23it/s, loss=4.95]"
          ]
        },
        {
          "output_type": "stream",
          "name": "stdout",
          "text": [
            "Epoch 5201 Batch 5200 Loss 3.7510\n"
          ]
        },
        {
          "output_type": "stream",
          "name": "stderr",
          "text": [
            "Epoch 0:  21%|██        | 5301/24953 [26:58<1:40:19,  3.26it/s, loss=3.84]"
          ]
        },
        {
          "output_type": "stream",
          "name": "stdout",
          "text": [
            "Epoch 5301 Batch 5300 Loss 3.9189\n"
          ]
        },
        {
          "output_type": "stream",
          "name": "stderr",
          "text": [
            "Epoch 0:  22%|██▏       | 5401/24953 [27:29<1:39:08,  3.29it/s, loss=3.14]"
          ]
        },
        {
          "output_type": "stream",
          "name": "stdout",
          "text": [
            "Epoch 5401 Batch 5400 Loss 3.6788\n"
          ]
        },
        {
          "output_type": "stream",
          "name": "stderr",
          "text": [
            "Epoch 0:  22%|██▏       | 5501/24953 [27:59<1:39:17,  3.26it/s, loss=3.88]"
          ]
        },
        {
          "output_type": "stream",
          "name": "stdout",
          "text": [
            "Epoch 5501 Batch 5500 Loss 3.7769\n"
          ]
        },
        {
          "output_type": "stream",
          "name": "stderr",
          "text": [
            "Epoch 0:  22%|██▏       | 5601/24953 [28:30<1:40:53,  3.20it/s, loss=3.44]"
          ]
        },
        {
          "output_type": "stream",
          "name": "stdout",
          "text": [
            "Epoch 5601 Batch 5600 Loss 3.6461\n"
          ]
        },
        {
          "output_type": "stream",
          "name": "stderr",
          "text": [
            "Epoch 0:  23%|██▎       | 5701/24953 [29:01<1:37:55,  3.28it/s, loss=4.53]"
          ]
        },
        {
          "output_type": "stream",
          "name": "stdout",
          "text": [
            "Epoch 5701 Batch 5700 Loss 3.8614\n"
          ]
        },
        {
          "output_type": "stream",
          "name": "stderr",
          "text": [
            "Epoch 0:  23%|██▎       | 5801/24953 [29:31<1:36:53,  3.29it/s, loss=4.03]"
          ]
        },
        {
          "output_type": "stream",
          "name": "stdout",
          "text": [
            "Epoch 5801 Batch 5800 Loss 3.6396\n"
          ]
        },
        {
          "output_type": "stream",
          "name": "stderr",
          "text": [
            "Epoch 0:  24%|██▎       | 5901/24953 [30:02<1:38:32,  3.22it/s, loss=3.4]"
          ]
        },
        {
          "output_type": "stream",
          "name": "stdout",
          "text": [
            "Epoch 5901 Batch 5900 Loss 3.5324\n"
          ]
        },
        {
          "output_type": "stream",
          "name": "stderr",
          "text": [
            "Epoch 0:  24%|██▍       | 6001/24953 [30:33<1:37:19,  3.25it/s, loss=5.08]"
          ]
        },
        {
          "output_type": "stream",
          "name": "stdout",
          "text": [
            "Epoch 6001 Batch 6000 Loss 3.8041\n"
          ]
        },
        {
          "output_type": "stream",
          "name": "stderr",
          "text": [
            "Epoch 0:  24%|██▍       | 6101/24953 [31:04<1:35:44,  3.28it/s, loss=2.68]"
          ]
        },
        {
          "output_type": "stream",
          "name": "stdout",
          "text": [
            "Epoch 6101 Batch 6100 Loss 3.6531\n"
          ]
        },
        {
          "output_type": "stream",
          "name": "stderr",
          "text": [
            "Epoch 0:  25%|██▍       | 6201/24953 [31:34<1:35:16,  3.28it/s, loss=5.07]"
          ]
        },
        {
          "output_type": "stream",
          "name": "stdout",
          "text": [
            "Epoch 6201 Batch 6200 Loss 3.6793\n"
          ]
        },
        {
          "output_type": "stream",
          "name": "stderr",
          "text": [
            "Epoch 0:  25%|██▌       | 6301/24953 [32:05<1:36:14,  3.23it/s, loss=3.2]"
          ]
        },
        {
          "output_type": "stream",
          "name": "stdout",
          "text": [
            "Epoch 6301 Batch 6300 Loss 3.6213\n"
          ]
        },
        {
          "output_type": "stream",
          "name": "stderr",
          "text": [
            "Epoch 0:  26%|██▌       | 6401/24953 [32:36<1:35:09,  3.25it/s, loss=2.92]"
          ]
        },
        {
          "output_type": "stream",
          "name": "stdout",
          "text": [
            "Epoch 6401 Batch 6400 Loss 3.5969\n"
          ]
        },
        {
          "output_type": "stream",
          "name": "stderr",
          "text": [
            "Epoch 0:  26%|██▌       | 6501/24953 [33:06<1:34:34,  3.25it/s, loss=3.1]"
          ]
        },
        {
          "output_type": "stream",
          "name": "stdout",
          "text": [
            "Epoch 6501 Batch 6500 Loss 3.7508\n"
          ]
        },
        {
          "output_type": "stream",
          "name": "stderr",
          "text": [
            "Epoch 0:  26%|██▋       | 6601/24953 [33:37<1:33:57,  3.26it/s, loss=3.22]"
          ]
        },
        {
          "output_type": "stream",
          "name": "stdout",
          "text": [
            "Epoch 6601 Batch 6600 Loss 3.7219\n"
          ]
        },
        {
          "output_type": "stream",
          "name": "stderr",
          "text": [
            "Epoch 0:  27%|██▋       | 6701/24953 [34:08<1:33:24,  3.26it/s, loss=2.11]"
          ]
        },
        {
          "output_type": "stream",
          "name": "stdout",
          "text": [
            "Epoch 6701 Batch 6700 Loss 3.5880\n"
          ]
        },
        {
          "output_type": "stream",
          "name": "stderr",
          "text": [
            "Epoch 0:  27%|██▋       | 6801/24953 [34:38<1:32:47,  3.26it/s, loss=3.97]"
          ]
        },
        {
          "output_type": "stream",
          "name": "stdout",
          "text": [
            "Epoch 6801 Batch 6800 Loss 3.5989\n"
          ]
        },
        {
          "output_type": "stream",
          "name": "stderr",
          "text": [
            "Epoch 0:  28%|██▊       | 6901/24953 [35:09<1:32:49,  3.24it/s, loss=3.73]"
          ]
        },
        {
          "output_type": "stream",
          "name": "stdout",
          "text": [
            "Epoch 6901 Batch 6900 Loss 3.6668\n"
          ]
        },
        {
          "output_type": "stream",
          "name": "stderr",
          "text": [
            "Epoch 0:  28%|██▊       | 7001/24953 [35:40<1:31:15,  3.28it/s, loss=3.93]"
          ]
        },
        {
          "output_type": "stream",
          "name": "stdout",
          "text": [
            "Epoch 7001 Batch 7000 Loss 3.7287\n"
          ]
        },
        {
          "output_type": "stream",
          "name": "stderr",
          "text": [
            "Epoch 0:  28%|██▊       | 7101/24953 [36:10<1:32:13,  3.23it/s, loss=4.07]"
          ]
        },
        {
          "output_type": "stream",
          "name": "stdout",
          "text": [
            "Epoch 7101 Batch 7100 Loss 3.7058\n"
          ]
        },
        {
          "output_type": "stream",
          "name": "stderr",
          "text": [
            "Epoch 0:  29%|██▉       | 7201/24953 [36:41<1:30:21,  3.27it/s, loss=4.09]"
          ]
        },
        {
          "output_type": "stream",
          "name": "stdout",
          "text": [
            "Epoch 7201 Batch 7200 Loss 3.7173\n"
          ]
        },
        {
          "output_type": "stream",
          "name": "stderr",
          "text": [
            "Epoch 0:  29%|██▉       | 7301/24953 [37:12<1:30:08,  3.26it/s, loss=2.57]"
          ]
        },
        {
          "output_type": "stream",
          "name": "stdout",
          "text": [
            "Epoch 7301 Batch 7300 Loss 3.3871\n"
          ]
        },
        {
          "output_type": "stream",
          "name": "stderr",
          "text": [
            "Epoch 0:  30%|██▉       | 7401/24953 [37:42<1:29:23,  3.27it/s, loss=3.21]"
          ]
        },
        {
          "output_type": "stream",
          "name": "stdout",
          "text": [
            "Epoch 7401 Batch 7400 Loss 3.6154\n"
          ]
        },
        {
          "output_type": "stream",
          "name": "stderr",
          "text": [
            "Epoch 0:  30%|███       | 7501/24953 [38:13<1:29:54,  3.23it/s, loss=3.9]"
          ]
        },
        {
          "output_type": "stream",
          "name": "stdout",
          "text": [
            "Epoch 7501 Batch 7500 Loss 3.5392\n"
          ]
        },
        {
          "output_type": "stream",
          "name": "stderr",
          "text": [
            "Epoch 0:  30%|███       | 7601/24953 [38:44<1:29:02,  3.25it/s, loss=3.61]"
          ]
        },
        {
          "output_type": "stream",
          "name": "stdout",
          "text": [
            "Epoch 7601 Batch 7600 Loss 3.6215\n"
          ]
        },
        {
          "output_type": "stream",
          "name": "stderr",
          "text": [
            "Epoch 0:  31%|███       | 7701/24953 [39:14<1:27:22,  3.29it/s, loss=3.45]"
          ]
        },
        {
          "output_type": "stream",
          "name": "stdout",
          "text": [
            "Epoch 7701 Batch 7700 Loss 3.6919\n"
          ]
        },
        {
          "output_type": "stream",
          "name": "stderr",
          "text": [
            "Epoch 0:  31%|███▏      | 7801/24953 [39:45<1:28:28,  3.23it/s, loss=2.66]"
          ]
        },
        {
          "output_type": "stream",
          "name": "stdout",
          "text": [
            "Epoch 7801 Batch 7800 Loss 3.5227\n"
          ]
        },
        {
          "output_type": "stream",
          "name": "stderr",
          "text": [
            "Epoch 0:  32%|███▏      | 7901/24953 [40:16<1:27:33,  3.25it/s, loss=4.08]"
          ]
        },
        {
          "output_type": "stream",
          "name": "stdout",
          "text": [
            "Epoch 7901 Batch 7900 Loss 3.6157\n"
          ]
        },
        {
          "output_type": "stream",
          "name": "stderr",
          "text": [
            "Epoch 0:  32%|███▏      | 8001/24953 [40:46<1:26:08,  3.28it/s, loss=4.12]"
          ]
        },
        {
          "output_type": "stream",
          "name": "stdout",
          "text": [
            "Epoch 8001 Batch 8000 Loss 3.6124\n"
          ]
        },
        {
          "output_type": "stream",
          "name": "stderr",
          "text": [
            "Epoch 0:  32%|███▏      | 8101/24953 [41:17<1:26:44,  3.24it/s, loss=2.45]"
          ]
        },
        {
          "output_type": "stream",
          "name": "stdout",
          "text": [
            "Epoch 8101 Batch 8100 Loss 3.6230\n"
          ]
        },
        {
          "output_type": "stream",
          "name": "stderr",
          "text": [
            "Epoch 0:  33%|███▎      | 8201/24953 [41:48<1:25:57,  3.25it/s, loss=2.08]"
          ]
        },
        {
          "output_type": "stream",
          "name": "stdout",
          "text": [
            "Epoch 8201 Batch 8200 Loss 3.5818\n"
          ]
        },
        {
          "output_type": "stream",
          "name": "stderr",
          "text": [
            "Epoch 0:  33%|███▎      | 8301/24953 [42:19<1:24:46,  3.27it/s, loss=2.86]"
          ]
        },
        {
          "output_type": "stream",
          "name": "stdout",
          "text": [
            "Epoch 8301 Batch 8300 Loss 3.6211\n"
          ]
        },
        {
          "output_type": "stream",
          "name": "stderr",
          "text": [
            "Epoch 0:  34%|███▎      | 8401/24953 [42:49<1:24:28,  3.27it/s, loss=3.01]"
          ]
        },
        {
          "output_type": "stream",
          "name": "stdout",
          "text": [
            "Epoch 8401 Batch 8400 Loss 3.4933\n"
          ]
        },
        {
          "output_type": "stream",
          "name": "stderr",
          "text": [
            "Epoch 0:  34%|███▍      | 8501/24953 [43:20<1:24:41,  3.24it/s, loss=3.91]"
          ]
        },
        {
          "output_type": "stream",
          "name": "stdout",
          "text": [
            "Epoch 8501 Batch 8500 Loss 3.5031\n"
          ]
        },
        {
          "output_type": "stream",
          "name": "stderr",
          "text": [
            "Epoch 0:  34%|███▍      | 8601/24953 [43:51<1:23:56,  3.25it/s, loss=2.51]"
          ]
        },
        {
          "output_type": "stream",
          "name": "stdout",
          "text": [
            "Epoch 8601 Batch 8600 Loss 3.4062\n"
          ]
        },
        {
          "output_type": "stream",
          "name": "stderr",
          "text": [
            "Epoch 0:  35%|███▍      | 8701/24953 [44:21<1:24:01,  3.22it/s, loss=3.18]"
          ]
        },
        {
          "output_type": "stream",
          "name": "stdout",
          "text": [
            "Epoch 8701 Batch 8700 Loss 3.4420\n"
          ]
        },
        {
          "output_type": "stream",
          "name": "stderr",
          "text": [
            "Epoch 0:  35%|███▌      | 8801/24953 [44:52<1:22:57,  3.24it/s, loss=3.2]"
          ]
        },
        {
          "output_type": "stream",
          "name": "stdout",
          "text": [
            "Epoch 8801 Batch 8800 Loss 3.5993\n"
          ]
        },
        {
          "output_type": "stream",
          "name": "stderr",
          "text": [
            "Epoch 0:  36%|███▌      | 8901/24953 [45:23<1:21:47,  3.27it/s, loss=3.23]"
          ]
        },
        {
          "output_type": "stream",
          "name": "stdout",
          "text": [
            "Epoch 8901 Batch 8900 Loss 3.5691\n"
          ]
        },
        {
          "output_type": "stream",
          "name": "stderr",
          "text": [
            "Epoch 0:  36%|███▌      | 9001/24953 [45:53<1:21:11,  3.27it/s, loss=2.81]"
          ]
        },
        {
          "output_type": "stream",
          "name": "stdout",
          "text": [
            "Epoch 9001 Batch 9000 Loss 3.4593\n"
          ]
        },
        {
          "output_type": "stream",
          "name": "stderr",
          "text": [
            "Epoch 0:  36%|███▋      | 9101/24953 [46:24<1:20:25,  3.28it/s, loss=3.93]"
          ]
        },
        {
          "output_type": "stream",
          "name": "stdout",
          "text": [
            "Epoch 9101 Batch 9100 Loss 3.2993\n"
          ]
        },
        {
          "output_type": "stream",
          "name": "stderr",
          "text": [
            "Epoch 0:  37%|███▋      | 9201/24953 [46:54<1:20:50,  3.25it/s, loss=4.01]"
          ]
        },
        {
          "output_type": "stream",
          "name": "stdout",
          "text": [
            "Epoch 9201 Batch 9200 Loss 3.6339\n"
          ]
        },
        {
          "output_type": "stream",
          "name": "stderr",
          "text": [
            "Epoch 0:  37%|███▋      | 9301/24953 [47:25<1:20:05,  3.26it/s, loss=5.33]"
          ]
        },
        {
          "output_type": "stream",
          "name": "stdout",
          "text": [
            "Epoch 9301 Batch 9300 Loss 3.6036\n"
          ]
        },
        {
          "output_type": "stream",
          "name": "stderr",
          "text": [
            "Epoch 0:  38%|███▊      | 9401/24953 [47:56<1:19:57,  3.24it/s, loss=3.44]"
          ]
        },
        {
          "output_type": "stream",
          "name": "stdout",
          "text": [
            "Epoch 9401 Batch 9400 Loss 3.5057\n"
          ]
        },
        {
          "output_type": "stream",
          "name": "stderr",
          "text": [
            "Epoch 0:  38%|███▊      | 9501/24953 [48:27<1:18:33,  3.28it/s, loss=3.31]"
          ]
        },
        {
          "output_type": "stream",
          "name": "stdout",
          "text": [
            "Epoch 9501 Batch 9500 Loss 3.4760\n"
          ]
        },
        {
          "output_type": "stream",
          "name": "stderr",
          "text": [
            "Epoch 0:  38%|███▊      | 9601/24953 [48:57<1:19:00,  3.24it/s, loss=3.82]"
          ]
        },
        {
          "output_type": "stream",
          "name": "stdout",
          "text": [
            "Epoch 9601 Batch 9600 Loss 3.4194\n"
          ]
        },
        {
          "output_type": "stream",
          "name": "stderr",
          "text": [
            "Epoch 0:  39%|███▉      | 9701/24953 [49:28<1:18:04,  3.26it/s, loss=4.73]"
          ]
        },
        {
          "output_type": "stream",
          "name": "stdout",
          "text": [
            "Epoch 9701 Batch 9700 Loss 3.4942\n"
          ]
        },
        {
          "output_type": "stream",
          "name": "stderr",
          "text": [
            "Epoch 0:  39%|███▉      | 9801/24953 [49:59<1:17:26,  3.26it/s, loss=4.21]"
          ]
        },
        {
          "output_type": "stream",
          "name": "stdout",
          "text": [
            "Epoch 9801 Batch 9800 Loss 3.3198\n"
          ]
        },
        {
          "output_type": "stream",
          "name": "stderr",
          "text": [
            "Epoch 0:  40%|███▉      | 9901/24953 [50:29<1:17:00,  3.26it/s, loss=3.23]"
          ]
        },
        {
          "output_type": "stream",
          "name": "stdout",
          "text": [
            "Epoch 9901 Batch 9900 Loss 3.5861\n"
          ]
        },
        {
          "output_type": "stream",
          "name": "stderr",
          "text": [
            "Epoch 0:  40%|████      | 10001/24953 [51:00<1:17:06,  3.23it/s, loss=2.71]"
          ]
        },
        {
          "output_type": "stream",
          "name": "stdout",
          "text": [
            "Epoch 10001 Batch 10000 Loss 3.5204\n"
          ]
        },
        {
          "output_type": "stream",
          "name": "stderr",
          "text": [
            "Epoch 0:  40%|████      | 10101/24953 [51:31<1:16:02,  3.26it/s, loss=4.64]"
          ]
        },
        {
          "output_type": "stream",
          "name": "stdout",
          "text": [
            "Epoch 10101 Batch 10100 Loss 3.5569\n"
          ]
        },
        {
          "output_type": "stream",
          "name": "stderr",
          "text": [
            "Epoch 0:  41%|████      | 10201/24953 [52:02<1:15:43,  3.25it/s, loss=3.44]"
          ]
        },
        {
          "output_type": "stream",
          "name": "stdout",
          "text": [
            "Epoch 10201 Batch 10200 Loss 3.5391\n"
          ]
        },
        {
          "output_type": "stream",
          "name": "stderr",
          "text": [
            "Epoch 0:  41%|████▏     | 10301/24953 [52:32<1:14:26,  3.28it/s, loss=2.95]"
          ]
        },
        {
          "output_type": "stream",
          "name": "stdout",
          "text": [
            "Epoch 10301 Batch 10300 Loss 3.3640\n"
          ]
        },
        {
          "output_type": "stream",
          "name": "stderr",
          "text": [
            "Epoch 0:  42%|████▏     | 10401/24953 [53:03<1:14:23,  3.26it/s, loss=3.57]"
          ]
        },
        {
          "output_type": "stream",
          "name": "stdout",
          "text": [
            "Epoch 10401 Batch 10400 Loss 3.5049\n"
          ]
        },
        {
          "output_type": "stream",
          "name": "stderr",
          "text": [
            "Epoch 0:  42%|████▏     | 10501/24953 [53:34<1:14:09,  3.25it/s, loss=3.6]"
          ]
        },
        {
          "output_type": "stream",
          "name": "stdout",
          "text": [
            "Epoch 10501 Batch 10500 Loss 3.3459\n"
          ]
        },
        {
          "output_type": "stream",
          "name": "stderr",
          "text": [
            "Epoch 0:  42%|████▏     | 10601/24953 [54:05<1:13:41,  3.25it/s, loss=4.45]"
          ]
        },
        {
          "output_type": "stream",
          "name": "stdout",
          "text": [
            "Epoch 10601 Batch 10600 Loss 3.2955\n"
          ]
        },
        {
          "output_type": "stream",
          "name": "stderr",
          "text": [
            "Epoch 0:  43%|████▎     | 10701/24953 [54:35<1:12:44,  3.27it/s, loss=2.93]"
          ]
        },
        {
          "output_type": "stream",
          "name": "stdout",
          "text": [
            "Epoch 10701 Batch 10700 Loss 3.3609\n"
          ]
        },
        {
          "output_type": "stream",
          "name": "stderr",
          "text": [
            "Epoch 0:  43%|████▎     | 10801/24953 [55:06<1:12:27,  3.26it/s, loss=3.17]"
          ]
        },
        {
          "output_type": "stream",
          "name": "stdout",
          "text": [
            "Epoch 10801 Batch 10800 Loss 3.4053\n"
          ]
        },
        {
          "output_type": "stream",
          "name": "stderr",
          "text": [
            "Epoch 0:  44%|████▎     | 10901/24953 [55:37<1:11:39,  3.27it/s, loss=3.31]"
          ]
        },
        {
          "output_type": "stream",
          "name": "stdout",
          "text": [
            "Epoch 10901 Batch 10900 Loss 3.2664\n"
          ]
        },
        {
          "output_type": "stream",
          "name": "stderr",
          "text": [
            "Epoch 0:  44%|████▍     | 11001/24953 [56:07<1:11:30,  3.25it/s, loss=5.1]"
          ]
        },
        {
          "output_type": "stream",
          "name": "stdout",
          "text": [
            "Epoch 11001 Batch 11000 Loss 3.5366\n"
          ]
        },
        {
          "output_type": "stream",
          "name": "stderr",
          "text": [
            "Epoch 0:  44%|████▍     | 11101/24953 [56:38<1:11:07,  3.25it/s, loss=2.92]"
          ]
        },
        {
          "output_type": "stream",
          "name": "stdout",
          "text": [
            "Epoch 11101 Batch 11100 Loss 3.4741\n"
          ]
        },
        {
          "output_type": "stream",
          "name": "stderr",
          "text": [
            "Epoch 0:  45%|████▍     | 11201/24953 [57:09<1:09:53,  3.28it/s, loss=4.59]"
          ]
        },
        {
          "output_type": "stream",
          "name": "stdout",
          "text": [
            "Epoch 11201 Batch 11200 Loss 3.4068\n"
          ]
        },
        {
          "output_type": "stream",
          "name": "stderr",
          "text": [
            "Epoch 0:  45%|████▌     | 11301/24953 [57:40<1:09:42,  3.26it/s, loss=3]"
          ]
        },
        {
          "output_type": "stream",
          "name": "stdout",
          "text": [
            "Epoch 11301 Batch 11300 Loss 3.4896\n"
          ]
        },
        {
          "output_type": "stream",
          "name": "stderr",
          "text": [
            "Epoch 0:  46%|████▌     | 11401/24953 [58:10<1:09:24,  3.25it/s, loss=2.59]"
          ]
        },
        {
          "output_type": "stream",
          "name": "stdout",
          "text": [
            "Epoch 11401 Batch 11400 Loss 3.2855\n"
          ]
        },
        {
          "output_type": "stream",
          "name": "stderr",
          "text": [
            "Epoch 0:  46%|████▌     | 11501/24953 [58:41<1:08:57,  3.25it/s, loss=3.79]"
          ]
        },
        {
          "output_type": "stream",
          "name": "stdout",
          "text": [
            "Epoch 11501 Batch 11500 Loss 3.5851\n"
          ]
        },
        {
          "output_type": "stream",
          "name": "stderr",
          "text": [
            "Epoch 0:  46%|████▋     | 11601/24953 [59:12<1:08:35,  3.24it/s, loss=3.23]"
          ]
        },
        {
          "output_type": "stream",
          "name": "stdout",
          "text": [
            "Epoch 11601 Batch 11600 Loss 3.2999\n"
          ]
        },
        {
          "output_type": "stream",
          "name": "stderr",
          "text": [
            "Epoch 0:  47%|████▋     | 11701/24953 [59:42<1:07:42,  3.26it/s, loss=5.22]"
          ]
        },
        {
          "output_type": "stream",
          "name": "stdout",
          "text": [
            "Epoch 11701 Batch 11700 Loss 3.2504\n"
          ]
        },
        {
          "output_type": "stream",
          "name": "stderr",
          "text": [
            "Epoch 0:  47%|████▋     | 11801/24953 [1:00:13<1:07:15,  3.26it/s, loss=3.28]"
          ]
        },
        {
          "output_type": "stream",
          "name": "stdout",
          "text": [
            "Epoch 11801 Batch 11800 Loss 3.3337\n"
          ]
        },
        {
          "output_type": "stream",
          "name": "stderr",
          "text": [
            "Epoch 0:  48%|████▊     | 11901/24953 [1:00:44<1:06:36,  3.27it/s, loss=3.93]"
          ]
        },
        {
          "output_type": "stream",
          "name": "stdout",
          "text": [
            "Epoch 11901 Batch 11900 Loss 3.3181\n"
          ]
        },
        {
          "output_type": "stream",
          "name": "stderr",
          "text": [
            "Epoch 0:  48%|████▊     | 12001/24953 [1:01:14<1:06:19,  3.25it/s, loss=3.33]"
          ]
        },
        {
          "output_type": "stream",
          "name": "stdout",
          "text": [
            "Epoch 12001 Batch 12000 Loss 3.3406\n"
          ]
        },
        {
          "output_type": "stream",
          "name": "stderr",
          "text": [
            "Epoch 0:  48%|████▊     | 12101/24953 [1:01:45<1:05:44,  3.26it/s, loss=3.07]"
          ]
        },
        {
          "output_type": "stream",
          "name": "stdout",
          "text": [
            "Epoch 12101 Batch 12100 Loss 3.3972\n"
          ]
        },
        {
          "output_type": "stream",
          "name": "stderr",
          "text": [
            "Epoch 0:  49%|████▉     | 12201/24953 [1:02:16<1:05:20,  3.25it/s, loss=3.14]"
          ]
        },
        {
          "output_type": "stream",
          "name": "stdout",
          "text": [
            "Epoch 12201 Batch 12200 Loss 3.2469\n"
          ]
        },
        {
          "output_type": "stream",
          "name": "stderr",
          "text": [
            "Epoch 0:  49%|████▉     | 12301/24953 [1:02:47<1:04:59,  3.24it/s, loss=2.35]"
          ]
        },
        {
          "output_type": "stream",
          "name": "stdout",
          "text": [
            "Epoch 12301 Batch 12300 Loss 3.3167\n"
          ]
        },
        {
          "output_type": "stream",
          "name": "stderr",
          "text": [
            "Epoch 0:  50%|████▉     | 12401/24953 [1:03:18<1:04:36,  3.24it/s, loss=3.63]"
          ]
        },
        {
          "output_type": "stream",
          "name": "stdout",
          "text": [
            "Epoch 12401 Batch 12400 Loss 3.3696\n"
          ]
        },
        {
          "output_type": "stream",
          "name": "stderr",
          "text": [
            "Epoch 0:  50%|█████     | 12501/24953 [1:03:48<1:03:53,  3.25it/s, loss=3.44]"
          ]
        },
        {
          "output_type": "stream",
          "name": "stdout",
          "text": [
            "Epoch 12501 Batch 12500 Loss 3.5635\n"
          ]
        },
        {
          "output_type": "stream",
          "name": "stderr",
          "text": [
            "Epoch 0:  50%|█████     | 12601/24953 [1:04:19<1:03:26,  3.24it/s, loss=2]"
          ]
        },
        {
          "output_type": "stream",
          "name": "stdout",
          "text": [
            "Epoch 12601 Batch 12600 Loss 3.4492\n"
          ]
        },
        {
          "output_type": "stream",
          "name": "stderr",
          "text": [
            "Epoch 0:  51%|█████     | 12701/24953 [1:04:50<1:02:28,  3.27it/s, loss=3.55]"
          ]
        },
        {
          "output_type": "stream",
          "name": "stdout",
          "text": [
            "Epoch 12701 Batch 12700 Loss 3.3641\n"
          ]
        },
        {
          "output_type": "stream",
          "name": "stderr",
          "text": [
            "Epoch 0:  51%|█████▏    | 12801/24953 [1:05:20<1:02:02,  3.26it/s, loss=4.15]"
          ]
        },
        {
          "output_type": "stream",
          "name": "stdout",
          "text": [
            "Epoch 12801 Batch 12800 Loss 3.2897\n"
          ]
        },
        {
          "output_type": "stream",
          "name": "stderr",
          "text": [
            "Epoch 0:  52%|█████▏    | 12901/24953 [1:05:51<1:01:24,  3.27it/s, loss=2.29]"
          ]
        },
        {
          "output_type": "stream",
          "name": "stdout",
          "text": [
            "Epoch 12901 Batch 12900 Loss 3.3369\n"
          ]
        },
        {
          "output_type": "stream",
          "name": "stderr",
          "text": [
            "Epoch 0:  52%|█████▏    | 13001/24953 [1:06:22<1:00:50,  3.27it/s, loss=2.57]"
          ]
        },
        {
          "output_type": "stream",
          "name": "stdout",
          "text": [
            "Epoch 13001 Batch 13000 Loss 3.2967\n"
          ]
        },
        {
          "output_type": "stream",
          "name": "stderr",
          "text": [
            "Epoch 0:  53%|█████▎    | 13101/24953 [1:06:52<1:00:22,  3.27it/s, loss=3.25]"
          ]
        },
        {
          "output_type": "stream",
          "name": "stdout",
          "text": [
            "Epoch 13101 Batch 13100 Loss 3.1313\n"
          ]
        },
        {
          "output_type": "stream",
          "name": "stderr",
          "text": [
            "Epoch 0:  53%|█████▎    | 13201/24953 [1:07:23<1:00:15,  3.25it/s, loss=2.76]"
          ]
        },
        {
          "output_type": "stream",
          "name": "stdout",
          "text": [
            "Epoch 13201 Batch 13200 Loss 3.5610\n"
          ]
        },
        {
          "output_type": "stream",
          "name": "stderr",
          "text": [
            "Epoch 0:  53%|█████▎    | 13301/24953 [1:07:54<59:12,  3.28it/s, loss=2.14]"
          ]
        },
        {
          "output_type": "stream",
          "name": "stdout",
          "text": [
            "Epoch 13301 Batch 13300 Loss 3.3219\n"
          ]
        },
        {
          "output_type": "stream",
          "name": "stderr",
          "text": [
            "Epoch 0:  54%|█████▎    | 13401/24953 [1:08:24<59:56,  3.21it/s, loss=2.71]"
          ]
        },
        {
          "output_type": "stream",
          "name": "stdout",
          "text": [
            "Epoch 13401 Batch 13400 Loss 3.3266\n"
          ]
        },
        {
          "output_type": "stream",
          "name": "stderr",
          "text": [
            "Epoch 0:  54%|█████▍    | 13501/24953 [1:08:55<58:20,  3.27it/s, loss=4.17]"
          ]
        },
        {
          "output_type": "stream",
          "name": "stdout",
          "text": [
            "Epoch 13501 Batch 13500 Loss 3.4181\n"
          ]
        },
        {
          "output_type": "stream",
          "name": "stderr",
          "text": [
            "Epoch 0:  55%|█████▍    | 13601/24953 [1:09:26<57:45,  3.28it/s, loss=3.55]"
          ]
        },
        {
          "output_type": "stream",
          "name": "stdout",
          "text": [
            "Epoch 13601 Batch 13600 Loss 3.3728\n"
          ]
        },
        {
          "output_type": "stream",
          "name": "stderr",
          "text": [
            "Epoch 0:  55%|█████▍    | 13701/24953 [1:09:56<58:21,  3.21it/s, loss=3.13]"
          ]
        },
        {
          "output_type": "stream",
          "name": "stdout",
          "text": [
            "Epoch 13701 Batch 13700 Loss 3.3235\n"
          ]
        },
        {
          "output_type": "stream",
          "name": "stderr",
          "text": [
            "Epoch 0:  55%|█████▌    | 13801/24953 [1:10:27<57:08,  3.25it/s, loss=1.97]"
          ]
        },
        {
          "output_type": "stream",
          "name": "stdout",
          "text": [
            "Epoch 13801 Batch 13800 Loss 3.1998\n"
          ]
        },
        {
          "output_type": "stream",
          "name": "stderr",
          "text": [
            "Epoch 0:  56%|█████▌    | 13901/24953 [1:10:58<56:11,  3.28it/s, loss=4.1]"
          ]
        },
        {
          "output_type": "stream",
          "name": "stdout",
          "text": [
            "Epoch 13901 Batch 13900 Loss 3.3749\n"
          ]
        },
        {
          "output_type": "stream",
          "name": "stderr",
          "text": [
            "Epoch 0:  56%|█████▌    | 14001/24953 [1:11:29<55:29,  3.29it/s, loss=2.69]"
          ]
        },
        {
          "output_type": "stream",
          "name": "stdout",
          "text": [
            "Epoch 14001 Batch 14000 Loss 3.2720\n"
          ]
        },
        {
          "output_type": "stream",
          "name": "stderr",
          "text": [
            "Epoch 0:  57%|█████▋    | 14101/24953 [1:11:59<55:51,  3.24it/s, loss=3.25]"
          ]
        },
        {
          "output_type": "stream",
          "name": "stdout",
          "text": [
            "Epoch 14101 Batch 14100 Loss 3.2587\n"
          ]
        },
        {
          "output_type": "stream",
          "name": "stderr",
          "text": [
            "Epoch 0:  57%|█████▋    | 14201/24953 [1:12:30<55:24,  3.23it/s, loss=2.76]"
          ]
        },
        {
          "output_type": "stream",
          "name": "stdout",
          "text": [
            "Epoch 14201 Batch 14200 Loss 3.1460\n"
          ]
        },
        {
          "output_type": "stream",
          "name": "stderr",
          "text": [
            "Epoch 0:  57%|█████▋    | 14301/24953 [1:13:01<54:12,  3.28it/s, loss=3.7]"
          ]
        },
        {
          "output_type": "stream",
          "name": "stdout",
          "text": [
            "Epoch 14301 Batch 14300 Loss 3.2040\n"
          ]
        },
        {
          "output_type": "stream",
          "name": "stderr",
          "text": [
            "Epoch 0:  58%|█████▊    | 14401/24953 [1:13:31<54:00,  3.26it/s, loss=2.85]"
          ]
        },
        {
          "output_type": "stream",
          "name": "stdout",
          "text": [
            "Epoch 14401 Batch 14400 Loss 3.2696\n"
          ]
        },
        {
          "output_type": "stream",
          "name": "stderr",
          "text": [
            "Epoch 0:  58%|█████▊    | 14501/24953 [1:14:02<53:44,  3.24it/s, loss=3.17]"
          ]
        },
        {
          "output_type": "stream",
          "name": "stdout",
          "text": [
            "Epoch 14501 Batch 14500 Loss 3.2483\n"
          ]
        },
        {
          "output_type": "stream",
          "name": "stderr",
          "text": [
            "Epoch 0:  59%|█████▊    | 14601/24953 [1:14:33<52:19,  3.30it/s, loss=3.28]"
          ]
        },
        {
          "output_type": "stream",
          "name": "stdout",
          "text": [
            "Epoch 14601 Batch 14600 Loss 3.1262\n"
          ]
        },
        {
          "output_type": "stream",
          "name": "stderr",
          "text": [
            "Epoch 0:  59%|█████▉    | 14701/24953 [1:15:03<53:06,  3.22it/s, loss=1.82]"
          ]
        },
        {
          "output_type": "stream",
          "name": "stdout",
          "text": [
            "Epoch 14701 Batch 14700 Loss 3.1721\n"
          ]
        },
        {
          "output_type": "stream",
          "name": "stderr",
          "text": [
            "Epoch 0:  59%|█████▉    | 14801/24953 [1:15:34<52:01,  3.25it/s, loss=2.28]"
          ]
        },
        {
          "output_type": "stream",
          "name": "stdout",
          "text": [
            "Epoch 14801 Batch 14800 Loss 3.3223\n"
          ]
        },
        {
          "output_type": "stream",
          "name": "stderr",
          "text": [
            "Epoch 0:  60%|█████▉    | 14901/24953 [1:16:05<51:00,  3.28it/s, loss=3.64]"
          ]
        },
        {
          "output_type": "stream",
          "name": "stdout",
          "text": [
            "Epoch 14901 Batch 14900 Loss 3.2720\n"
          ]
        },
        {
          "output_type": "stream",
          "name": "stderr",
          "text": [
            "Epoch 0:  60%|██████    | 15001/24953 [1:16:36<51:12,  3.24it/s, loss=1.49]"
          ]
        },
        {
          "output_type": "stream",
          "name": "stdout",
          "text": [
            "Epoch 15001 Batch 15000 Loss 3.2035\n"
          ]
        },
        {
          "output_type": "stream",
          "name": "stderr",
          "text": [
            "Epoch 0:  61%|██████    | 15101/24953 [1:17:06<50:42,  3.24it/s, loss=2.42]"
          ]
        },
        {
          "output_type": "stream",
          "name": "stdout",
          "text": [
            "Epoch 15101 Batch 15100 Loss 3.2529\n"
          ]
        },
        {
          "output_type": "stream",
          "name": "stderr",
          "text": [
            "Epoch 0:  61%|██████    | 15201/24953 [1:17:37<49:36,  3.28it/s, loss=3.2]"
          ]
        },
        {
          "output_type": "stream",
          "name": "stdout",
          "text": [
            "Epoch 15201 Batch 15200 Loss 3.2013\n"
          ]
        },
        {
          "output_type": "stream",
          "name": "stderr",
          "text": [
            "Epoch 0:  61%|██████▏   | 15301/24953 [1:18:08<49:00,  3.28it/s, loss=3.27]"
          ]
        },
        {
          "output_type": "stream",
          "name": "stdout",
          "text": [
            "Epoch 15301 Batch 15300 Loss 3.3046\n"
          ]
        },
        {
          "output_type": "stream",
          "name": "stderr",
          "text": [
            "Epoch 0:  62%|██████▏   | 15401/24953 [1:18:38<49:13,  3.23it/s, loss=3.81]"
          ]
        },
        {
          "output_type": "stream",
          "name": "stdout",
          "text": [
            "Epoch 15401 Batch 15400 Loss 3.1345\n"
          ]
        },
        {
          "output_type": "stream",
          "name": "stderr",
          "text": [
            "Epoch 0:  62%|██████▏   | 15501/24953 [1:19:09<48:21,  3.26it/s, loss=4.04]"
          ]
        },
        {
          "output_type": "stream",
          "name": "stdout",
          "text": [
            "Epoch 15501 Batch 15500 Loss 3.3317\n"
          ]
        },
        {
          "output_type": "stream",
          "name": "stderr",
          "text": [
            "Epoch 0:  63%|██████▎   | 15601/24953 [1:19:40<47:34,  3.28it/s, loss=4.25]"
          ]
        },
        {
          "output_type": "stream",
          "name": "stdout",
          "text": [
            "Epoch 15601 Batch 15600 Loss 3.2194\n"
          ]
        },
        {
          "output_type": "stream",
          "name": "stderr",
          "text": [
            "Epoch 0:  63%|██████▎   | 15701/24953 [1:20:10<47:39,  3.24it/s, loss=3.03]"
          ]
        },
        {
          "output_type": "stream",
          "name": "stdout",
          "text": [
            "Epoch 15701 Batch 15700 Loss 3.1430\n"
          ]
        },
        {
          "output_type": "stream",
          "name": "stderr",
          "text": [
            "Epoch 0:  63%|██████▎   | 15801/24953 [1:20:41<46:54,  3.25it/s, loss=3.64]"
          ]
        },
        {
          "output_type": "stream",
          "name": "stdout",
          "text": [
            "Epoch 15801 Batch 15800 Loss 3.3620\n"
          ]
        },
        {
          "output_type": "stream",
          "name": "stderr",
          "text": [
            "Epoch 0:  64%|██████▎   | 15901/24953 [1:21:12<46:08,  3.27it/s, loss=3.92]"
          ]
        },
        {
          "output_type": "stream",
          "name": "stdout",
          "text": [
            "Epoch 15901 Batch 15900 Loss 3.1541\n"
          ]
        },
        {
          "output_type": "stream",
          "name": "stderr",
          "text": [
            "Epoch 0:  64%|██████▍   | 16001/24953 [1:21:43<46:06,  3.24it/s, loss=3.6]"
          ]
        },
        {
          "output_type": "stream",
          "name": "stdout",
          "text": [
            "Epoch 16001 Batch 16000 Loss 3.2939\n"
          ]
        },
        {
          "output_type": "stream",
          "name": "stderr",
          "text": [
            "Epoch 0:  65%|██████▍   | 16101/24953 [1:22:13<45:21,  3.25it/s, loss=2.45]"
          ]
        },
        {
          "output_type": "stream",
          "name": "stdout",
          "text": [
            "Epoch 16101 Batch 16100 Loss 3.2050\n"
          ]
        },
        {
          "output_type": "stream",
          "name": "stderr",
          "text": [
            "Epoch 0:  65%|██████▍   | 16201/24953 [1:22:44<44:11,  3.30it/s, loss=2.3]"
          ]
        },
        {
          "output_type": "stream",
          "name": "stdout",
          "text": [
            "Epoch 16201 Batch 16200 Loss 3.1279\n"
          ]
        },
        {
          "output_type": "stream",
          "name": "stderr",
          "text": [
            "Epoch 0:  65%|██████▌   | 16301/24953 [1:23:14<44:10,  3.26it/s, loss=2.52]"
          ]
        },
        {
          "output_type": "stream",
          "name": "stdout",
          "text": [
            "Epoch 16301 Batch 16300 Loss 3.2644\n"
          ]
        },
        {
          "output_type": "stream",
          "name": "stderr",
          "text": [
            "Epoch 0:  66%|██████▌   | 16401/24953 [1:23:45<43:48,  3.25it/s, loss=5.64]"
          ]
        },
        {
          "output_type": "stream",
          "name": "stdout",
          "text": [
            "Epoch 16401 Batch 16400 Loss 3.2102\n"
          ]
        },
        {
          "output_type": "stream",
          "name": "stderr",
          "text": [
            "Epoch 0:  66%|██████▌   | 16501/24953 [1:24:16<43:03,  3.27it/s, loss=2.3]"
          ]
        },
        {
          "output_type": "stream",
          "name": "stdout",
          "text": [
            "Epoch 16501 Batch 16500 Loss 3.2395\n"
          ]
        },
        {
          "output_type": "stream",
          "name": "stderr",
          "text": [
            "Epoch 0:  67%|██████▋   | 16601/24953 [1:24:47<43:10,  3.22it/s, loss=3.85]"
          ]
        },
        {
          "output_type": "stream",
          "name": "stdout",
          "text": [
            "Epoch 16601 Batch 16600 Loss 3.3208\n"
          ]
        },
        {
          "output_type": "stream",
          "name": "stderr",
          "text": [
            "Epoch 0:  67%|██████▋   | 16701/24953 [1:25:18<42:38,  3.23it/s, loss=3.94]"
          ]
        },
        {
          "output_type": "stream",
          "name": "stdout",
          "text": [
            "Epoch 16701 Batch 16700 Loss 3.3247\n"
          ]
        },
        {
          "output_type": "stream",
          "name": "stderr",
          "text": [
            "Epoch 0:  67%|██████▋   | 16801/24953 [1:25:48<41:30,  3.27it/s, loss=2.38]"
          ]
        },
        {
          "output_type": "stream",
          "name": "stdout",
          "text": [
            "Epoch 16801 Batch 16800 Loss 3.2469\n"
          ]
        },
        {
          "output_type": "stream",
          "name": "stderr",
          "text": [
            "Epoch 0:  68%|██████▊   | 16901/24953 [1:26:19<41:10,  3.26it/s, loss=3.23]"
          ]
        },
        {
          "output_type": "stream",
          "name": "stdout",
          "text": [
            "Epoch 16901 Batch 16900 Loss 3.3144\n"
          ]
        },
        {
          "output_type": "stream",
          "name": "stderr",
          "text": [
            "Epoch 0:  68%|██████▊   | 17001/24953 [1:26:50<40:49,  3.25it/s, loss=2.7]"
          ]
        },
        {
          "output_type": "stream",
          "name": "stdout",
          "text": [
            "Epoch 17001 Batch 17000 Loss 3.2526\n"
          ]
        },
        {
          "output_type": "stream",
          "name": "stderr",
          "text": [
            "Epoch 0:  69%|██████▊   | 17101/24953 [1:27:20<40:04,  3.27it/s, loss=3.67]"
          ]
        },
        {
          "output_type": "stream",
          "name": "stdout",
          "text": [
            "Epoch 17101 Batch 17100 Loss 3.1738\n"
          ]
        },
        {
          "output_type": "stream",
          "name": "stderr",
          "text": [
            "Epoch 0:  69%|██████▉   | 17201/24953 [1:27:51<39:41,  3.26it/s, loss=3.75]"
          ]
        },
        {
          "output_type": "stream",
          "name": "stdout",
          "text": [
            "Epoch 17201 Batch 17200 Loss 3.2421\n"
          ]
        },
        {
          "output_type": "stream",
          "name": "stderr",
          "text": [
            "Epoch 0:  69%|██████▉   | 17301/24953 [1:28:22<39:49,  3.20it/s, loss=3.86]"
          ]
        },
        {
          "output_type": "stream",
          "name": "stdout",
          "text": [
            "Epoch 17301 Batch 17300 Loss 3.1343\n"
          ]
        },
        {
          "output_type": "stream",
          "name": "stderr",
          "text": [
            "Epoch 0:  70%|██████▉   | 17401/24953 [1:28:52<38:14,  3.29it/s, loss=3.16]"
          ]
        },
        {
          "output_type": "stream",
          "name": "stdout",
          "text": [
            "Epoch 17401 Batch 17400 Loss 3.3709\n"
          ]
        },
        {
          "output_type": "stream",
          "name": "stderr",
          "text": [
            "Epoch 0:  70%|███████   | 17501/24953 [1:29:23<37:59,  3.27it/s, loss=2.97]"
          ]
        },
        {
          "output_type": "stream",
          "name": "stdout",
          "text": [
            "Epoch 17501 Batch 17500 Loss 3.2901\n"
          ]
        },
        {
          "output_type": "stream",
          "name": "stderr",
          "text": [
            "Epoch 0:  71%|███████   | 17601/24953 [1:29:54<37:48,  3.24it/s, loss=1.83]"
          ]
        },
        {
          "output_type": "stream",
          "name": "stdout",
          "text": [
            "Epoch 17601 Batch 17600 Loss 3.1012\n"
          ]
        },
        {
          "output_type": "stream",
          "name": "stderr",
          "text": [
            "Epoch 0:  71%|███████   | 17701/24953 [1:30:24<37:19,  3.24it/s, loss=2.71]"
          ]
        },
        {
          "output_type": "stream",
          "name": "stdout",
          "text": [
            "Epoch 17701 Batch 17700 Loss 3.3783\n"
          ]
        },
        {
          "output_type": "stream",
          "name": "stderr",
          "text": [
            "Epoch 0:  71%|███████▏  | 17801/24953 [1:30:55<36:21,  3.28it/s, loss=6.07]"
          ]
        },
        {
          "output_type": "stream",
          "name": "stdout",
          "text": [
            "Epoch 17801 Batch 17800 Loss 3.3799\n"
          ]
        },
        {
          "output_type": "stream",
          "name": "stderr",
          "text": [
            "Epoch 0:  72%|███████▏  | 17901/24953 [1:31:26<36:00,  3.26it/s, loss=2.92]"
          ]
        },
        {
          "output_type": "stream",
          "name": "stdout",
          "text": [
            "Epoch 17901 Batch 17900 Loss 3.2005\n"
          ]
        },
        {
          "output_type": "stream",
          "name": "stderr",
          "text": [
            "Epoch 0:  72%|███████▏  | 18001/24953 [1:31:56<35:24,  3.27it/s, loss=3.04]"
          ]
        },
        {
          "output_type": "stream",
          "name": "stdout",
          "text": [
            "Epoch 18001 Batch 18000 Loss 3.1610\n"
          ]
        },
        {
          "output_type": "stream",
          "name": "stderr",
          "text": [
            "Epoch 0:  73%|███████▎  | 18101/24953 [1:32:27<35:15,  3.24it/s, loss=3.48]"
          ]
        },
        {
          "output_type": "stream",
          "name": "stdout",
          "text": [
            "Epoch 18101 Batch 18100 Loss 3.2304\n"
          ]
        },
        {
          "output_type": "stream",
          "name": "stderr",
          "text": [
            "Epoch 0:  73%|███████▎  | 18201/24953 [1:32:58<34:28,  3.26it/s, loss=2.97]"
          ]
        },
        {
          "output_type": "stream",
          "name": "stdout",
          "text": [
            "Epoch 18201 Batch 18200 Loss 3.1732\n"
          ]
        },
        {
          "output_type": "stream",
          "name": "stderr",
          "text": [
            "Epoch 0:  73%|███████▎  | 18301/24953 [1:33:28<33:38,  3.30it/s, loss=3.38]"
          ]
        },
        {
          "output_type": "stream",
          "name": "stdout",
          "text": [
            "Epoch 18301 Batch 18300 Loss 3.1332\n"
          ]
        },
        {
          "output_type": "stream",
          "name": "stderr",
          "text": [
            "Epoch 0:  74%|███████▎  | 18401/24953 [1:33:59<33:54,  3.22it/s, loss=3.24]"
          ]
        },
        {
          "output_type": "stream",
          "name": "stdout",
          "text": [
            "Epoch 18401 Batch 18400 Loss 3.1665\n"
          ]
        },
        {
          "output_type": "stream",
          "name": "stderr",
          "text": [
            "Epoch 0:  74%|███████▍  | 18501/24953 [1:34:30<33:01,  3.26it/s, loss=2.56]"
          ]
        },
        {
          "output_type": "stream",
          "name": "stdout",
          "text": [
            "Epoch 18501 Batch 18500 Loss 3.1104\n"
          ]
        },
        {
          "output_type": "stream",
          "name": "stderr",
          "text": [
            "Epoch 0:  75%|███████▍  | 18601/24953 [1:35:01<32:11,  3.29it/s, loss=4.7]"
          ]
        },
        {
          "output_type": "stream",
          "name": "stdout",
          "text": [
            "Epoch 18601 Batch 18600 Loss 3.2451\n"
          ]
        },
        {
          "output_type": "stream",
          "name": "stderr",
          "text": [
            "Epoch 0:  75%|███████▍  | 18701/24953 [1:35:32<32:39,  3.19it/s, loss=2.29]"
          ]
        },
        {
          "output_type": "stream",
          "name": "stdout",
          "text": [
            "Epoch 18701 Batch 18700 Loss 3.1588\n"
          ]
        },
        {
          "output_type": "stream",
          "name": "stderr",
          "text": [
            "Epoch 0:  75%|███████▌  | 18801/24953 [1:36:02<31:32,  3.25it/s, loss=2.64]"
          ]
        },
        {
          "output_type": "stream",
          "name": "stdout",
          "text": [
            "Epoch 18801 Batch 18800 Loss 3.2217\n"
          ]
        },
        {
          "output_type": "stream",
          "name": "stderr",
          "text": [
            "Epoch 0:  76%|███████▌  | 18901/24953 [1:36:33<30:39,  3.29it/s, loss=3.39]"
          ]
        },
        {
          "output_type": "stream",
          "name": "stdout",
          "text": [
            "Epoch 18901 Batch 18900 Loss 3.1930\n"
          ]
        },
        {
          "output_type": "stream",
          "name": "stderr",
          "text": [
            "Epoch 0:  76%|███████▌  | 19001/24953 [1:37:03<30:38,  3.24it/s, loss=4.84]"
          ]
        },
        {
          "output_type": "stream",
          "name": "stdout",
          "text": [
            "Epoch 19001 Batch 19000 Loss 3.2006\n"
          ]
        },
        {
          "output_type": "stream",
          "name": "stderr",
          "text": [
            "Epoch 0:  77%|███████▋  | 19101/24953 [1:37:34<30:02,  3.25it/s, loss=2.03]"
          ]
        },
        {
          "output_type": "stream",
          "name": "stdout",
          "text": [
            "Epoch 19101 Batch 19100 Loss 3.1117\n"
          ]
        },
        {
          "output_type": "stream",
          "name": "stderr",
          "text": [
            "Epoch 0:  77%|███████▋  | 19201/24953 [1:38:05<29:12,  3.28it/s, loss=4.42]"
          ]
        },
        {
          "output_type": "stream",
          "name": "stdout",
          "text": [
            "Epoch 19201 Batch 19200 Loss 3.3212\n"
          ]
        },
        {
          "output_type": "stream",
          "name": "stderr",
          "text": [
            "Epoch 0:  77%|███████▋  | 19301/24953 [1:38:36<29:02,  3.24it/s, loss=4.36]"
          ]
        },
        {
          "output_type": "stream",
          "name": "stdout",
          "text": [
            "Epoch 19301 Batch 19300 Loss 3.2568\n"
          ]
        },
        {
          "output_type": "stream",
          "name": "stderr",
          "text": [
            "Epoch 0:  78%|███████▊  | 19401/24953 [1:39:07<28:23,  3.26it/s, loss=3.98]"
          ]
        },
        {
          "output_type": "stream",
          "name": "stdout",
          "text": [
            "Epoch 19401 Batch 19400 Loss 2.8875\n"
          ]
        },
        {
          "output_type": "stream",
          "name": "stderr",
          "text": [
            "Epoch 0:  78%|███████▊  | 19501/24953 [1:39:37<27:52,  3.26it/s, loss=2.29]"
          ]
        },
        {
          "output_type": "stream",
          "name": "stdout",
          "text": [
            "Epoch 19501 Batch 19500 Loss 3.0790\n"
          ]
        },
        {
          "output_type": "stream",
          "name": "stderr",
          "text": [
            "Epoch 0:  79%|███████▊  | 19601/24953 [1:40:08<27:09,  3.28it/s, loss=2.6]"
          ]
        },
        {
          "output_type": "stream",
          "name": "stdout",
          "text": [
            "Epoch 19601 Batch 19600 Loss 3.1593\n"
          ]
        },
        {
          "output_type": "stream",
          "name": "stderr",
          "text": [
            "Epoch 0:  79%|███████▉  | 19701/24953 [1:40:39<27:05,  3.23it/s, loss=1.77]"
          ]
        },
        {
          "output_type": "stream",
          "name": "stdout",
          "text": [
            "Epoch 19701 Batch 19700 Loss 3.0478\n"
          ]
        },
        {
          "output_type": "stream",
          "name": "stderr",
          "text": [
            "Epoch 0:  79%|███████▉  | 19801/24953 [1:41:10<26:23,  3.25it/s, loss=2.35]"
          ]
        },
        {
          "output_type": "stream",
          "name": "stdout",
          "text": [
            "Epoch 19801 Batch 19800 Loss 3.0775\n"
          ]
        },
        {
          "output_type": "stream",
          "name": "stderr",
          "text": [
            "Epoch 0:  80%|███████▉  | 19901/24953 [1:41:40<25:36,  3.29it/s, loss=1.35]"
          ]
        },
        {
          "output_type": "stream",
          "name": "stdout",
          "text": [
            "Epoch 19901 Batch 19900 Loss 3.0778\n"
          ]
        },
        {
          "output_type": "stream",
          "name": "stderr",
          "text": [
            "Epoch 0:  80%|████████  | 20001/24953 [1:42:11<25:38,  3.22it/s, loss=3.24]"
          ]
        },
        {
          "output_type": "stream",
          "name": "stdout",
          "text": [
            "Epoch 20001 Batch 20000 Loss 3.1457\n"
          ]
        },
        {
          "output_type": "stream",
          "name": "stderr",
          "text": [
            "Epoch 0:  81%|████████  | 20101/24953 [1:42:42<24:51,  3.25it/s, loss=2.63]"
          ]
        },
        {
          "output_type": "stream",
          "name": "stdout",
          "text": [
            "Epoch 20101 Batch 20100 Loss 3.2642\n"
          ]
        },
        {
          "output_type": "stream",
          "name": "stderr",
          "text": [
            "Epoch 0:  81%|████████  | 20201/24953 [1:43:13<24:12,  3.27it/s, loss=4.38]"
          ]
        },
        {
          "output_type": "stream",
          "name": "stdout",
          "text": [
            "Epoch 20201 Batch 20200 Loss 3.1258\n"
          ]
        },
        {
          "output_type": "stream",
          "name": "stderr",
          "text": [
            "Epoch 0:  81%|████████▏ | 20301/24953 [1:43:43<23:49,  3.25it/s, loss=3.31]"
          ]
        },
        {
          "output_type": "stream",
          "name": "stdout",
          "text": [
            "Epoch 20301 Batch 20300 Loss 2.9661\n"
          ]
        },
        {
          "output_type": "stream",
          "name": "stderr",
          "text": [
            "Epoch 0:  82%|████████▏ | 20401/24953 [1:44:14<23:19,  3.25it/s, loss=3.2]"
          ]
        },
        {
          "output_type": "stream",
          "name": "stdout",
          "text": [
            "Epoch 20401 Batch 20400 Loss 3.1939\n"
          ]
        },
        {
          "output_type": "stream",
          "name": "stderr",
          "text": [
            "Epoch 0:  82%|████████▏ | 20501/24953 [1:44:45<23:08,  3.21it/s, loss=4.67]"
          ]
        },
        {
          "output_type": "stream",
          "name": "stdout",
          "text": [
            "Epoch 20501 Batch 20500 Loss 3.1416\n"
          ]
        },
        {
          "output_type": "stream",
          "name": "stderr",
          "text": [
            "Epoch 0:  83%|████████▎ | 20601/24953 [1:45:15<22:18,  3.25it/s, loss=1.92]"
          ]
        },
        {
          "output_type": "stream",
          "name": "stdout",
          "text": [
            "Epoch 20601 Batch 20600 Loss 3.2244\n"
          ]
        },
        {
          "output_type": "stream",
          "name": "stderr",
          "text": [
            "Epoch 0:  83%|████████▎ | 20701/24953 [1:45:46<21:44,  3.26it/s, loss=2.22]"
          ]
        },
        {
          "output_type": "stream",
          "name": "stdout",
          "text": [
            "Epoch 20701 Batch 20700 Loss 3.2048\n"
          ]
        },
        {
          "output_type": "stream",
          "name": "stderr",
          "text": [
            "Epoch 0:  83%|████████▎ | 20801/24953 [1:46:17<21:30,  3.22it/s, loss=3.2]"
          ]
        },
        {
          "output_type": "stream",
          "name": "stdout",
          "text": [
            "Epoch 20801 Batch 20800 Loss 3.0765\n"
          ]
        },
        {
          "output_type": "stream",
          "name": "stderr",
          "text": [
            "Epoch 0:  84%|████████▍ | 20901/24953 [1:46:48<20:38,  3.27it/s, loss=1.76]"
          ]
        },
        {
          "output_type": "stream",
          "name": "stdout",
          "text": [
            "Epoch 20901 Batch 20900 Loss 2.9541\n"
          ]
        },
        {
          "output_type": "stream",
          "name": "stderr",
          "text": [
            "Epoch 0:  84%|████████▍ | 21001/24953 [1:47:18<20:12,  3.26it/s, loss=3.3]"
          ]
        },
        {
          "output_type": "stream",
          "name": "stdout",
          "text": [
            "Epoch 21001 Batch 21000 Loss 3.0942\n"
          ]
        },
        {
          "output_type": "stream",
          "name": "stderr",
          "text": [
            "Epoch 0:  85%|████████▍ | 21101/24953 [1:47:49<20:01,  3.21it/s, loss=4.51]"
          ]
        },
        {
          "output_type": "stream",
          "name": "stdout",
          "text": [
            "Epoch 21101 Batch 21100 Loss 3.1258\n"
          ]
        },
        {
          "output_type": "stream",
          "name": "stderr",
          "text": [
            "Epoch 0:  85%|████████▍ | 21201/24953 [1:48:20<19:14,  3.25it/s, loss=3.35]"
          ]
        },
        {
          "output_type": "stream",
          "name": "stdout",
          "text": [
            "Epoch 21201 Batch 21200 Loss 2.9250\n"
          ]
        },
        {
          "output_type": "stream",
          "name": "stderr",
          "text": [
            "Epoch 0:  85%|████████▌ | 21301/24953 [1:48:51<18:41,  3.26it/s, loss=5.1]"
          ]
        },
        {
          "output_type": "stream",
          "name": "stdout",
          "text": [
            "Epoch 21301 Batch 21300 Loss 3.0923\n"
          ]
        },
        {
          "output_type": "stream",
          "name": "stderr",
          "text": [
            "Epoch 0:  86%|████████▌ | 21401/24953 [1:49:21<18:21,  3.23it/s, loss=2.83]"
          ]
        },
        {
          "output_type": "stream",
          "name": "stdout",
          "text": [
            "Epoch 21401 Batch 21400 Loss 3.1436\n"
          ]
        },
        {
          "output_type": "stream",
          "name": "stderr",
          "text": [
            "Epoch 0:  86%|████████▌ | 21501/24953 [1:49:52<17:49,  3.23it/s, loss=4.54]"
          ]
        },
        {
          "output_type": "stream",
          "name": "stdout",
          "text": [
            "Epoch 21501 Batch 21500 Loss 3.0265\n"
          ]
        },
        {
          "output_type": "stream",
          "name": "stderr",
          "text": [
            "Epoch 0:  87%|████████▋ | 21601/24953 [1:50:23<16:59,  3.29it/s, loss=3.48]"
          ]
        },
        {
          "output_type": "stream",
          "name": "stdout",
          "text": [
            "Epoch 21601 Batch 21600 Loss 3.1154\n"
          ]
        },
        {
          "output_type": "stream",
          "name": "stderr",
          "text": [
            "Epoch 0:  87%|████████▋ | 21701/24953 [1:50:53<16:29,  3.29it/s, loss=2.16]"
          ]
        },
        {
          "output_type": "stream",
          "name": "stdout",
          "text": [
            "Epoch 21701 Batch 21700 Loss 3.1875\n"
          ]
        },
        {
          "output_type": "stream",
          "name": "stderr",
          "text": [
            "Epoch 0:  87%|████████▋ | 21801/24953 [1:51:24<15:58,  3.29it/s, loss=3.67]"
          ]
        },
        {
          "output_type": "stream",
          "name": "stdout",
          "text": [
            "Epoch 21801 Batch 21800 Loss 3.0692\n"
          ]
        },
        {
          "output_type": "stream",
          "name": "stderr",
          "text": [
            "Epoch 0:  88%|████████▊ | 21901/24953 [1:51:55<15:35,  3.26it/s, loss=2.66]"
          ]
        },
        {
          "output_type": "stream",
          "name": "stdout",
          "text": [
            "Epoch 21901 Batch 21900 Loss 3.0471\n"
          ]
        },
        {
          "output_type": "stream",
          "name": "stderr",
          "text": [
            "Epoch 0:  88%|████████▊ | 22001/24953 [1:52:26<15:11,  3.24it/s, loss=2.28]"
          ]
        },
        {
          "output_type": "stream",
          "name": "stdout",
          "text": [
            "Epoch 22001 Batch 22000 Loss 3.1258\n"
          ]
        },
        {
          "output_type": "stream",
          "name": "stderr",
          "text": [
            "Epoch 0:  89%|████████▊ | 22101/24953 [1:52:56<14:37,  3.25it/s, loss=3.16]"
          ]
        },
        {
          "output_type": "stream",
          "name": "stdout",
          "text": [
            "Epoch 22101 Batch 22100 Loss 2.9741\n"
          ]
        },
        {
          "output_type": "stream",
          "name": "stderr",
          "text": [
            "Epoch 0:  89%|████████▉ | 22201/24953 [1:53:27<14:12,  3.23it/s, loss=2.88]"
          ]
        },
        {
          "output_type": "stream",
          "name": "stdout",
          "text": [
            "Epoch 22201 Batch 22200 Loss 3.0927\n"
          ]
        },
        {
          "output_type": "stream",
          "name": "stderr",
          "text": [
            "Epoch 0:  89%|████████▉ | 22301/24953 [1:53:58<13:32,  3.26it/s, loss=4.36]"
          ]
        },
        {
          "output_type": "stream",
          "name": "stdout",
          "text": [
            "Epoch 22301 Batch 22300 Loss 3.2155\n"
          ]
        },
        {
          "output_type": "stream",
          "name": "stderr",
          "text": [
            "Epoch 0:  90%|████████▉ | 22401/24953 [1:54:29<13:01,  3.26it/s, loss=3.93]"
          ]
        },
        {
          "output_type": "stream",
          "name": "stdout",
          "text": [
            "Epoch 22401 Batch 22400 Loss 2.9011\n"
          ]
        },
        {
          "output_type": "stream",
          "name": "stderr",
          "text": [
            "Epoch 0:  90%|█████████ | 22501/24953 [1:54:59<12:37,  3.24it/s, loss=4.35]"
          ]
        },
        {
          "output_type": "stream",
          "name": "stdout",
          "text": [
            "Epoch 22501 Batch 22500 Loss 3.1715\n"
          ]
        },
        {
          "output_type": "stream",
          "name": "stderr",
          "text": [
            "Epoch 0:  91%|█████████ | 22601/24953 [1:55:30<12:02,  3.25it/s, loss=2.21]"
          ]
        },
        {
          "output_type": "stream",
          "name": "stdout",
          "text": [
            "Epoch 22601 Batch 22600 Loss 3.1557\n"
          ]
        },
        {
          "output_type": "stream",
          "name": "stderr",
          "text": [
            "Epoch 0:  91%|█████████ | 22701/24953 [1:56:01<11:29,  3.27it/s, loss=2.81]"
          ]
        },
        {
          "output_type": "stream",
          "name": "stdout",
          "text": [
            "Epoch 22701 Batch 22700 Loss 3.0596\n"
          ]
        },
        {
          "output_type": "stream",
          "name": "stderr",
          "text": [
            "Epoch 0:  91%|█████████▏| 22801/24953 [1:56:32<11:02,  3.25it/s, loss=4]"
          ]
        },
        {
          "output_type": "stream",
          "name": "stdout",
          "text": [
            "Epoch 22801 Batch 22800 Loss 3.0982\n"
          ]
        },
        {
          "output_type": "stream",
          "name": "stderr",
          "text": [
            "Epoch 0:  92%|█████████▏| 22901/24953 [1:57:02<10:33,  3.24it/s, loss=3.82]"
          ]
        },
        {
          "output_type": "stream",
          "name": "stdout",
          "text": [
            "Epoch 22901 Batch 22900 Loss 3.1178\n"
          ]
        },
        {
          "output_type": "stream",
          "name": "stderr",
          "text": [
            "Epoch 0:  92%|█████████▏| 23001/24953 [1:57:33<10:00,  3.25it/s, loss=4.05]"
          ]
        },
        {
          "output_type": "stream",
          "name": "stdout",
          "text": [
            "Epoch 23001 Batch 23000 Loss 3.0752\n"
          ]
        },
        {
          "output_type": "stream",
          "name": "stderr",
          "text": [
            "Epoch 0:  93%|█████████▎| 23101/24953 [1:58:04<09:29,  3.25it/s, loss=3.47]"
          ]
        },
        {
          "output_type": "stream",
          "name": "stdout",
          "text": [
            "Epoch 23101 Batch 23100 Loss 3.0021\n"
          ]
        },
        {
          "output_type": "stream",
          "name": "stderr",
          "text": [
            "Epoch 0:  93%|█████████▎| 23201/24953 [1:58:35<08:57,  3.26it/s, loss=3.74]"
          ]
        },
        {
          "output_type": "stream",
          "name": "stdout",
          "text": [
            "Epoch 23201 Batch 23200 Loss 3.2209\n"
          ]
        },
        {
          "output_type": "stream",
          "name": "stderr",
          "text": [
            "Epoch 0:  93%|█████████▎| 23301/24953 [1:59:05<08:23,  3.28it/s, loss=1.68]"
          ]
        },
        {
          "output_type": "stream",
          "name": "stdout",
          "text": [
            "Epoch 23301 Batch 23300 Loss 2.9736\n"
          ]
        },
        {
          "output_type": "stream",
          "name": "stderr",
          "text": [
            "Epoch 0:  94%|█████████▍| 23401/24953 [1:59:36<07:55,  3.26it/s, loss=3.74]"
          ]
        },
        {
          "output_type": "stream",
          "name": "stdout",
          "text": [
            "Epoch 23401 Batch 23400 Loss 3.1631\n"
          ]
        },
        {
          "output_type": "stream",
          "name": "stderr",
          "text": [
            "Epoch 0:  94%|█████████▍| 23501/24953 [2:00:07<07:29,  3.23it/s, loss=3.4]"
          ]
        },
        {
          "output_type": "stream",
          "name": "stdout",
          "text": [
            "Epoch 23501 Batch 23500 Loss 3.1676\n"
          ]
        },
        {
          "output_type": "stream",
          "name": "stderr",
          "text": [
            "Epoch 0:  95%|█████████▍| 23601/24953 [2:00:37<06:59,  3.22it/s, loss=4.17]"
          ]
        },
        {
          "output_type": "stream",
          "name": "stdout",
          "text": [
            "Epoch 23601 Batch 23600 Loss 3.1012\n"
          ]
        },
        {
          "output_type": "stream",
          "name": "stderr",
          "text": [
            "Epoch 0:  95%|█████████▍| 23701/24953 [2:01:08<06:25,  3.25it/s, loss=3.27]"
          ]
        },
        {
          "output_type": "stream",
          "name": "stdout",
          "text": [
            "Epoch 23701 Batch 23700 Loss 3.1349\n"
          ]
        },
        {
          "output_type": "stream",
          "name": "stderr",
          "text": [
            "Epoch 0:  95%|█████████▌| 23801/24953 [2:01:39<05:55,  3.24it/s, loss=2.64]"
          ]
        },
        {
          "output_type": "stream",
          "name": "stdout",
          "text": [
            "Epoch 23801 Batch 23800 Loss 3.0027\n"
          ]
        },
        {
          "output_type": "stream",
          "name": "stderr",
          "text": [
            "Epoch 0:  96%|█████████▌| 23901/24953 [2:02:09<05:24,  3.24it/s, loss=2.01]"
          ]
        },
        {
          "output_type": "stream",
          "name": "stdout",
          "text": [
            "Epoch 23901 Batch 23900 Loss 2.9018\n"
          ]
        },
        {
          "output_type": "stream",
          "name": "stderr",
          "text": [
            "Epoch 0:  96%|█████████▌| 24001/24953 [2:02:40<04:52,  3.25it/s, loss=5.73]"
          ]
        },
        {
          "output_type": "stream",
          "name": "stdout",
          "text": [
            "Epoch 24001 Batch 24000 Loss 3.1652\n"
          ]
        },
        {
          "output_type": "stream",
          "name": "stderr",
          "text": [
            "Epoch 0:  97%|█████████▋| 24101/24953 [2:03:11<04:20,  3.27it/s, loss=2.47]"
          ]
        },
        {
          "output_type": "stream",
          "name": "stdout",
          "text": [
            "Epoch 24101 Batch 24100 Loss 3.0010\n"
          ]
        },
        {
          "output_type": "stream",
          "name": "stderr",
          "text": [
            "Epoch 0:  97%|█████████▋| 24201/24953 [2:03:42<03:51,  3.25it/s, loss=3.91]"
          ]
        },
        {
          "output_type": "stream",
          "name": "stdout",
          "text": [
            "Epoch 24201 Batch 24200 Loss 2.9165\n"
          ]
        },
        {
          "output_type": "stream",
          "name": "stderr",
          "text": [
            "Epoch 0:  97%|█████████▋| 24301/24953 [2:04:12<03:37,  3.00it/s, loss=2.89]"
          ]
        },
        {
          "output_type": "stream",
          "name": "stdout",
          "text": [
            "Epoch 24301 Batch 24300 Loss 2.8261\n"
          ]
        },
        {
          "output_type": "stream",
          "name": "stderr",
          "text": [
            "Epoch 0:  98%|█████████▊| 24401/24953 [2:04:44<02:49,  3.26it/s, loss=3.08]"
          ]
        },
        {
          "output_type": "stream",
          "name": "stdout",
          "text": [
            "Epoch 24401 Batch 24400 Loss 2.7992\n"
          ]
        },
        {
          "output_type": "stream",
          "name": "stderr",
          "text": [
            "Epoch 0:  98%|█████████▊| 24501/24953 [2:05:14<02:19,  3.23it/s, loss=2.37]"
          ]
        },
        {
          "output_type": "stream",
          "name": "stdout",
          "text": [
            "Epoch 24501 Batch 24500 Loss 2.9402\n"
          ]
        },
        {
          "output_type": "stream",
          "name": "stderr",
          "text": [
            "Epoch 0:  99%|█████████▊| 24601/24953 [2:05:45<01:48,  3.24it/s, loss=2.7]"
          ]
        },
        {
          "output_type": "stream",
          "name": "stdout",
          "text": [
            "Epoch 24601 Batch 24600 Loss 3.0296\n"
          ]
        },
        {
          "output_type": "stream",
          "name": "stderr",
          "text": [
            "Epoch 0:  99%|█████████▉| 24701/24953 [2:06:16<01:17,  3.26it/s, loss=2.77]"
          ]
        },
        {
          "output_type": "stream",
          "name": "stdout",
          "text": [
            "Epoch 24701 Batch 24700 Loss 3.1119\n"
          ]
        },
        {
          "output_type": "stream",
          "name": "stderr",
          "text": [
            "Epoch 0:  99%|█████████▉| 24801/24953 [2:06:47<00:46,  3.27it/s, loss=3.32]"
          ]
        },
        {
          "output_type": "stream",
          "name": "stdout",
          "text": [
            "Epoch 24801 Batch 24800 Loss 2.9687\n"
          ]
        },
        {
          "output_type": "stream",
          "name": "stderr",
          "text": [
            "Epoch 0: 100%|█████████▉| 24901/24953 [2:07:17<00:15,  3.26it/s, loss=3.44]"
          ]
        },
        {
          "output_type": "stream",
          "name": "stdout",
          "text": [
            "Epoch 24901 Batch 24900 Loss 3.1172\n"
          ]
        },
        {
          "output_type": "stream",
          "name": "stderr",
          "text": [
            "Epoch 0: 100%|██████████| 24953/24953 [2:07:33<00:00,  3.26it/s, loss=2.18]\n",
            "  1%|          | 32/3474 [00:03<05:56,  9.65it/s]"
          ]
        },
        {
          "output_type": "stream",
          "name": "stdout",
          "text": [
            "Validation Epoch 31 Batch 30 Loss 3.0726\n"
          ]
        },
        {
          "output_type": "stream",
          "name": "stderr",
          "text": [
            "  2%|▏         | 62/3474 [00:06<05:46,  9.84it/s]"
          ]
        },
        {
          "output_type": "stream",
          "name": "stdout",
          "text": [
            "Validation Epoch 61 Batch 60 Loss 2.8347\n"
          ]
        },
        {
          "output_type": "stream",
          "name": "stderr",
          "text": [
            "  3%|▎         | 92/3474 [00:09<05:55,  9.51it/s]"
          ]
        },
        {
          "output_type": "stream",
          "name": "stdout",
          "text": [
            "Validation Epoch 91 Batch 90 Loss 2.9431\n"
          ]
        },
        {
          "output_type": "stream",
          "name": "stderr",
          "text": [
            "  4%|▎         | 122/3474 [00:12<05:50,  9.57it/s]"
          ]
        },
        {
          "output_type": "stream",
          "name": "stdout",
          "text": [
            "Validation Epoch 121 Batch 120 Loss 3.0908\n"
          ]
        },
        {
          "output_type": "stream",
          "name": "stderr",
          "text": [
            "  4%|▍         | 152/3474 [00:15<05:46,  9.58it/s]"
          ]
        },
        {
          "output_type": "stream",
          "name": "stdout",
          "text": [
            "Validation Epoch 151 Batch 150 Loss 2.9060\n"
          ]
        },
        {
          "output_type": "stream",
          "name": "stderr",
          "text": [
            "  5%|▌         | 182/3474 [00:18<05:43,  9.58it/s]"
          ]
        },
        {
          "output_type": "stream",
          "name": "stdout",
          "text": [
            "Validation Epoch 181 Batch 180 Loss 2.9669\n"
          ]
        },
        {
          "output_type": "stream",
          "name": "stderr",
          "text": [
            "  6%|▌         | 212/3474 [00:22<05:38,  9.65it/s]"
          ]
        },
        {
          "output_type": "stream",
          "name": "stdout",
          "text": [
            "Validation Epoch 211 Batch 210 Loss 2.6941\n"
          ]
        },
        {
          "output_type": "stream",
          "name": "stderr",
          "text": [
            "  7%|▋         | 242/3474 [00:25<05:32,  9.72it/s]"
          ]
        },
        {
          "output_type": "stream",
          "name": "stdout",
          "text": [
            "Validation Epoch 241 Batch 240 Loss 3.1504\n"
          ]
        },
        {
          "output_type": "stream",
          "name": "stderr",
          "text": [
            "  8%|▊         | 272/3474 [00:28<05:26,  9.81it/s]"
          ]
        },
        {
          "output_type": "stream",
          "name": "stdout",
          "text": [
            "Validation Epoch 271 Batch 270 Loss 2.8099\n"
          ]
        },
        {
          "output_type": "stream",
          "name": "stderr",
          "text": [
            "  9%|▊         | 303/3474 [00:31<05:21,  9.85it/s]"
          ]
        },
        {
          "output_type": "stream",
          "name": "stdout",
          "text": [
            "Validation Epoch 301 Batch 300 Loss 2.7372\n"
          ]
        },
        {
          "output_type": "stream",
          "name": "stderr",
          "text": [
            " 10%|▉         | 331/3474 [00:34<05:20,  9.80it/s]"
          ]
        },
        {
          "output_type": "stream",
          "name": "stdout",
          "text": [
            "Validation Epoch 331 Batch 330 Loss 3.0197\n"
          ]
        },
        {
          "output_type": "stream",
          "name": "stderr",
          "text": [
            " 10%|█         | 361/3474 [00:37<05:16,  9.85it/s]"
          ]
        },
        {
          "output_type": "stream",
          "name": "stdout",
          "text": [
            "Validation Epoch 361 Batch 360 Loss 3.1131\n"
          ]
        },
        {
          "output_type": "stream",
          "name": "stderr",
          "text": [
            " 11%|█▏        | 392/3474 [00:40<05:11,  9.91it/s]"
          ]
        },
        {
          "output_type": "stream",
          "name": "stdout",
          "text": [
            "Validation Epoch 391 Batch 390 Loss 2.7894\n"
          ]
        },
        {
          "output_type": "stream",
          "name": "stderr",
          "text": [
            " 12%|█▏        | 421/3474 [00:43<05:09,  9.87it/s]"
          ]
        },
        {
          "output_type": "stream",
          "name": "stdout",
          "text": [
            "Validation Epoch 421 Batch 420 Loss 2.9998\n"
          ]
        },
        {
          "output_type": "stream",
          "name": "stderr",
          "text": [
            " 13%|█▎        | 452/3474 [00:46<05:06,  9.86it/s]"
          ]
        },
        {
          "output_type": "stream",
          "name": "stdout",
          "text": [
            "Validation Epoch 451 Batch 450 Loss 2.8677\n"
          ]
        },
        {
          "output_type": "stream",
          "name": "stderr",
          "text": [
            " 14%|█▍        | 482/3474 [00:49<05:02,  9.89it/s]"
          ]
        },
        {
          "output_type": "stream",
          "name": "stdout",
          "text": [
            "Validation Epoch 481 Batch 480 Loss 3.1972\n"
          ]
        },
        {
          "output_type": "stream",
          "name": "stderr",
          "text": [
            " 15%|█▍        | 511/3474 [00:52<05:01,  9.82it/s]"
          ]
        },
        {
          "output_type": "stream",
          "name": "stdout",
          "text": [
            "Validation Epoch 511 Batch 510 Loss 3.2737\n"
          ]
        },
        {
          "output_type": "stream",
          "name": "stderr",
          "text": [
            " 16%|█▌        | 542/3474 [00:55<04:59,  9.80it/s]"
          ]
        },
        {
          "output_type": "stream",
          "name": "stdout",
          "text": [
            "Validation Epoch 541 Batch 540 Loss 3.0987\n"
          ]
        },
        {
          "output_type": "stream",
          "name": "stderr",
          "text": [
            " 16%|█▋        | 572/3474 [00:58<04:55,  9.81it/s]"
          ]
        },
        {
          "output_type": "stream",
          "name": "stdout",
          "text": [
            "Validation Epoch 571 Batch 570 Loss 2.8160\n"
          ]
        },
        {
          "output_type": "stream",
          "name": "stderr",
          "text": [
            " 17%|█▋        | 602/3474 [01:01<04:56,  9.67it/s]"
          ]
        },
        {
          "output_type": "stream",
          "name": "stdout",
          "text": [
            "Validation Epoch 601 Batch 600 Loss 2.7788\n"
          ]
        },
        {
          "output_type": "stream",
          "name": "stderr",
          "text": [
            " 18%|█▊        | 632/3474 [01:04<04:50,  9.79it/s]"
          ]
        },
        {
          "output_type": "stream",
          "name": "stdout",
          "text": [
            "Validation Epoch 631 Batch 630 Loss 2.9811\n"
          ]
        },
        {
          "output_type": "stream",
          "name": "stderr",
          "text": [
            " 19%|█▉        | 662/3474 [01:07<04:45,  9.84it/s]"
          ]
        },
        {
          "output_type": "stream",
          "name": "stdout",
          "text": [
            "Validation Epoch 661 Batch 660 Loss 2.9147\n"
          ]
        },
        {
          "output_type": "stream",
          "name": "stderr",
          "text": [
            " 20%|█▉        | 692/3474 [01:10<04:48,  9.66it/s]"
          ]
        },
        {
          "output_type": "stream",
          "name": "stdout",
          "text": [
            "Validation Epoch 691 Batch 690 Loss 3.0359\n"
          ]
        },
        {
          "output_type": "stream",
          "name": "stderr",
          "text": [
            " 21%|██        | 722/3474 [01:13<04:39,  9.83it/s]"
          ]
        },
        {
          "output_type": "stream",
          "name": "stdout",
          "text": [
            "Validation Epoch 721 Batch 720 Loss 2.6773\n"
          ]
        },
        {
          "output_type": "stream",
          "name": "stderr",
          "text": [
            " 22%|██▏       | 752/3474 [01:16<04:42,  9.63it/s]"
          ]
        },
        {
          "output_type": "stream",
          "name": "stdout",
          "text": [
            "Validation Epoch 751 Batch 750 Loss 2.8256\n"
          ]
        },
        {
          "output_type": "stream",
          "name": "stderr",
          "text": [
            " 23%|██▎       | 782/3474 [01:20<04:38,  9.66it/s]"
          ]
        },
        {
          "output_type": "stream",
          "name": "stdout",
          "text": [
            "Validation Epoch 781 Batch 780 Loss 3.0263\n"
          ]
        },
        {
          "output_type": "stream",
          "name": "stderr",
          "text": [
            " 23%|██▎       | 812/3474 [01:23<04:30,  9.83it/s]"
          ]
        },
        {
          "output_type": "stream",
          "name": "stdout",
          "text": [
            "Validation Epoch 811 Batch 810 Loss 2.4363\n"
          ]
        },
        {
          "output_type": "stream",
          "name": "stderr",
          "text": [
            " 24%|██▍       | 842/3474 [01:26<04:30,  9.72it/s]"
          ]
        },
        {
          "output_type": "stream",
          "name": "stdout",
          "text": [
            "Validation Epoch 841 Batch 840 Loss 2.7939\n"
          ]
        },
        {
          "output_type": "stream",
          "name": "stderr",
          "text": [
            " 25%|██▌       | 872/3474 [01:29<04:28,  9.70it/s]"
          ]
        },
        {
          "output_type": "stream",
          "name": "stdout",
          "text": [
            "Validation Epoch 871 Batch 870 Loss 3.0793\n"
          ]
        },
        {
          "output_type": "stream",
          "name": "stderr",
          "text": [
            " 26%|██▌       | 902/3474 [01:32<04:27,  9.62it/s]"
          ]
        },
        {
          "output_type": "stream",
          "name": "stdout",
          "text": [
            "Validation Epoch 901 Batch 900 Loss 2.9494\n"
          ]
        },
        {
          "output_type": "stream",
          "name": "stderr",
          "text": [
            " 27%|██▋       | 932/3474 [01:35<04:22,  9.67it/s]"
          ]
        },
        {
          "output_type": "stream",
          "name": "stdout",
          "text": [
            "Validation Epoch 931 Batch 930 Loss 2.7439\n"
          ]
        },
        {
          "output_type": "stream",
          "name": "stderr",
          "text": [
            " 28%|██▊       | 962/3474 [01:38<04:18,  9.73it/s]"
          ]
        },
        {
          "output_type": "stream",
          "name": "stdout",
          "text": [
            "Validation Epoch 961 Batch 960 Loss 2.8292\n"
          ]
        },
        {
          "output_type": "stream",
          "name": "stderr",
          "text": [
            " 29%|██▊       | 992/3474 [01:41<04:23,  9.42it/s]"
          ]
        },
        {
          "output_type": "stream",
          "name": "stdout",
          "text": [
            "Validation Epoch 991 Batch 990 Loss 2.9758\n"
          ]
        },
        {
          "output_type": "stream",
          "name": "stderr",
          "text": [
            " 29%|██▉       | 1022/3474 [01:45<04:17,  9.52it/s]"
          ]
        },
        {
          "output_type": "stream",
          "name": "stdout",
          "text": [
            "Validation Epoch 1021 Batch 1020 Loss 2.8910\n"
          ]
        },
        {
          "output_type": "stream",
          "name": "stderr",
          "text": [
            " 30%|███       | 1052/3474 [01:48<04:10,  9.68it/s]"
          ]
        },
        {
          "output_type": "stream",
          "name": "stdout",
          "text": [
            "Validation Epoch 1051 Batch 1050 Loss 3.1706\n"
          ]
        },
        {
          "output_type": "stream",
          "name": "stderr",
          "text": [
            " 31%|███       | 1082/3474 [01:51<04:07,  9.68it/s]"
          ]
        },
        {
          "output_type": "stream",
          "name": "stdout",
          "text": [
            "Validation Epoch 1081 Batch 1080 Loss 3.2561\n"
          ]
        },
        {
          "output_type": "stream",
          "name": "stderr",
          "text": [
            " 32%|███▏      | 1112/3474 [01:54<03:58,  9.89it/s]"
          ]
        },
        {
          "output_type": "stream",
          "name": "stdout",
          "text": [
            "Validation Epoch 1111 Batch 1110 Loss 2.8619\n"
          ]
        },
        {
          "output_type": "stream",
          "name": "stderr",
          "text": [
            " 33%|███▎      | 1141/3474 [01:57<03:56,  9.85it/s]"
          ]
        },
        {
          "output_type": "stream",
          "name": "stdout",
          "text": [
            "Validation Epoch 1141 Batch 1140 Loss 3.2319\n"
          ]
        },
        {
          "output_type": "stream",
          "name": "stderr",
          "text": [
            " 34%|███▎      | 1172/3474 [02:00<03:53,  9.86it/s]"
          ]
        },
        {
          "output_type": "stream",
          "name": "stdout",
          "text": [
            "Validation Epoch 1171 Batch 1170 Loss 2.8788\n"
          ]
        },
        {
          "output_type": "stream",
          "name": "stderr",
          "text": [
            " 35%|███▍      | 1202/3474 [02:03<03:50,  9.87it/s]"
          ]
        },
        {
          "output_type": "stream",
          "name": "stdout",
          "text": [
            "Validation Epoch 1201 Batch 1200 Loss 3.0791\n"
          ]
        },
        {
          "output_type": "stream",
          "name": "stderr",
          "text": [
            " 35%|███▌      | 1232/3474 [02:06<03:49,  9.76it/s]"
          ]
        },
        {
          "output_type": "stream",
          "name": "stdout",
          "text": [
            "Validation Epoch 1231 Batch 1230 Loss 2.9251\n"
          ]
        },
        {
          "output_type": "stream",
          "name": "stderr",
          "text": [
            " 36%|███▋      | 1262/3474 [02:09<03:44,  9.85it/s]"
          ]
        },
        {
          "output_type": "stream",
          "name": "stdout",
          "text": [
            "Validation Epoch 1261 Batch 1260 Loss 2.7831\n"
          ]
        },
        {
          "output_type": "stream",
          "name": "stderr",
          "text": [
            " 37%|███▋      | 1291/3474 [02:12<03:42,  9.83it/s]"
          ]
        },
        {
          "output_type": "stream",
          "name": "stdout",
          "text": [
            "Validation Epoch 1291 Batch 1290 Loss 2.8614\n"
          ]
        },
        {
          "output_type": "stream",
          "name": "stderr",
          "text": [
            " 38%|███▊      | 1322/3474 [02:15<03:37,  9.88it/s]"
          ]
        },
        {
          "output_type": "stream",
          "name": "stdout",
          "text": [
            "Validation Epoch 1321 Batch 1320 Loss 3.0496\n"
          ]
        },
        {
          "output_type": "stream",
          "name": "stderr",
          "text": [
            " 39%|███▉      | 1351/3474 [02:18<03:35,  9.84it/s]"
          ]
        },
        {
          "output_type": "stream",
          "name": "stdout",
          "text": [
            "Validation Epoch 1351 Batch 1350 Loss 2.9408\n"
          ]
        },
        {
          "output_type": "stream",
          "name": "stderr",
          "text": [
            " 40%|███▉      | 1382/3474 [02:21<03:32,  9.86it/s]"
          ]
        },
        {
          "output_type": "stream",
          "name": "stdout",
          "text": [
            "Validation Epoch 1381 Batch 1380 Loss 2.9905\n"
          ]
        },
        {
          "output_type": "stream",
          "name": "stderr",
          "text": [
            " 41%|████      | 1412/3474 [02:24<03:28,  9.88it/s]"
          ]
        },
        {
          "output_type": "stream",
          "name": "stdout",
          "text": [
            "Validation Epoch 1411 Batch 1410 Loss 3.3307\n"
          ]
        },
        {
          "output_type": "stream",
          "name": "stderr",
          "text": [
            " 42%|████▏     | 1442/3474 [02:27<03:29,  9.72it/s]"
          ]
        },
        {
          "output_type": "stream",
          "name": "stdout",
          "text": [
            "Validation Epoch 1441 Batch 1440 Loss 2.9462\n"
          ]
        },
        {
          "output_type": "stream",
          "name": "stderr",
          "text": [
            " 42%|████▏     | 1471/3474 [02:30<03:23,  9.83it/s]"
          ]
        },
        {
          "output_type": "stream",
          "name": "stdout",
          "text": [
            "Validation Epoch 1471 Batch 1470 Loss 3.0991\n"
          ]
        },
        {
          "output_type": "stream",
          "name": "stderr",
          "text": [
            " 43%|████▎     | 1502/3474 [02:33<03:20,  9.81it/s]"
          ]
        },
        {
          "output_type": "stream",
          "name": "stdout",
          "text": [
            "Validation Epoch 1501 Batch 1500 Loss 3.1308\n"
          ]
        },
        {
          "output_type": "stream",
          "name": "stderr",
          "text": [
            " 44%|████▍     | 1532/3474 [02:37<03:21,  9.66it/s]"
          ]
        },
        {
          "output_type": "stream",
          "name": "stdout",
          "text": [
            "Validation Epoch 1531 Batch 1530 Loss 3.2184\n"
          ]
        },
        {
          "output_type": "stream",
          "name": "stderr",
          "text": [
            " 45%|████▍     | 1562/3474 [02:40<03:16,  9.72it/s]"
          ]
        },
        {
          "output_type": "stream",
          "name": "stdout",
          "text": [
            "Validation Epoch 1561 Batch 1560 Loss 2.9139\n"
          ]
        },
        {
          "output_type": "stream",
          "name": "stderr",
          "text": [
            " 46%|████▌     | 1592/3474 [02:43<03:11,  9.82it/s]"
          ]
        },
        {
          "output_type": "stream",
          "name": "stdout",
          "text": [
            "Validation Epoch 1591 Batch 1590 Loss 2.7954\n"
          ]
        },
        {
          "output_type": "stream",
          "name": "stderr",
          "text": [
            " 47%|████▋     | 1622/3474 [02:46<03:09,  9.78it/s]"
          ]
        },
        {
          "output_type": "stream",
          "name": "stdout",
          "text": [
            "Validation Epoch 1621 Batch 1620 Loss 2.8566\n"
          ]
        },
        {
          "output_type": "stream",
          "name": "stderr",
          "text": [
            " 48%|████▊     | 1652/3474 [02:49<03:10,  9.56it/s]"
          ]
        },
        {
          "output_type": "stream",
          "name": "stdout",
          "text": [
            "Validation Epoch 1651 Batch 1650 Loss 2.5715\n"
          ]
        },
        {
          "output_type": "stream",
          "name": "stderr",
          "text": [
            " 48%|████▊     | 1682/3474 [02:52<03:07,  9.58it/s]"
          ]
        },
        {
          "output_type": "stream",
          "name": "stdout",
          "text": [
            "Validation Epoch 1681 Batch 1680 Loss 2.6795\n"
          ]
        },
        {
          "output_type": "stream",
          "name": "stderr",
          "text": [
            " 49%|████▉     | 1712/3474 [02:55<03:01,  9.69it/s]"
          ]
        },
        {
          "output_type": "stream",
          "name": "stdout",
          "text": [
            "Validation Epoch 1711 Batch 1710 Loss 2.8430\n"
          ]
        },
        {
          "output_type": "stream",
          "name": "stderr",
          "text": [
            " 50%|█████     | 1742/3474 [02:58<03:00,  9.62it/s]"
          ]
        },
        {
          "output_type": "stream",
          "name": "stdout",
          "text": [
            "Validation Epoch 1741 Batch 1740 Loss 3.0723\n"
          ]
        },
        {
          "output_type": "stream",
          "name": "stderr",
          "text": [
            " 51%|█████     | 1772/3474 [03:01<02:52,  9.86it/s]"
          ]
        },
        {
          "output_type": "stream",
          "name": "stdout",
          "text": [
            "Validation Epoch 1771 Batch 1770 Loss 3.0549\n"
          ]
        },
        {
          "output_type": "stream",
          "name": "stderr",
          "text": [
            " 52%|█████▏    | 1802/3474 [03:04<02:49,  9.85it/s]"
          ]
        },
        {
          "output_type": "stream",
          "name": "stdout",
          "text": [
            "Validation Epoch 1801 Batch 1800 Loss 2.6949\n"
          ]
        },
        {
          "output_type": "stream",
          "name": "stderr",
          "text": [
            " 53%|█████▎    | 1832/3474 [03:07<02:49,  9.69it/s]"
          ]
        },
        {
          "output_type": "stream",
          "name": "stdout",
          "text": [
            "Validation Epoch 1831 Batch 1830 Loss 2.7374\n"
          ]
        },
        {
          "output_type": "stream",
          "name": "stderr",
          "text": [
            " 54%|█████▎    | 1862/3474 [03:11<02:45,  9.76it/s]"
          ]
        },
        {
          "output_type": "stream",
          "name": "stdout",
          "text": [
            "Validation Epoch 1861 Batch 1860 Loss 2.7848\n"
          ]
        },
        {
          "output_type": "stream",
          "name": "stderr",
          "text": [
            " 54%|█████▍    | 1892/3474 [03:14<02:41,  9.82it/s]"
          ]
        },
        {
          "output_type": "stream",
          "name": "stdout",
          "text": [
            "Validation Epoch 1891 Batch 1890 Loss 3.0249\n"
          ]
        },
        {
          "output_type": "stream",
          "name": "stderr",
          "text": [
            " 55%|█████▌    | 1922/3474 [03:17<02:38,  9.79it/s]"
          ]
        },
        {
          "output_type": "stream",
          "name": "stdout",
          "text": [
            "Validation Epoch 1921 Batch 1920 Loss 2.7184\n"
          ]
        },
        {
          "output_type": "stream",
          "name": "stderr",
          "text": [
            " 56%|█████▌    | 1951/3474 [03:20<02:35,  9.81it/s]"
          ]
        },
        {
          "output_type": "stream",
          "name": "stdout",
          "text": [
            "Validation Epoch 1951 Batch 1950 Loss 2.7396\n"
          ]
        },
        {
          "output_type": "stream",
          "name": "stderr",
          "text": [
            " 57%|█████▋    | 1982/3474 [03:23<02:36,  9.55it/s]"
          ]
        },
        {
          "output_type": "stream",
          "name": "stdout",
          "text": [
            "Validation Epoch 1981 Batch 1980 Loss 3.0294\n"
          ]
        },
        {
          "output_type": "stream",
          "name": "stderr",
          "text": [
            " 58%|█████▊    | 2012/3474 [03:26<02:28,  9.84it/s]"
          ]
        },
        {
          "output_type": "stream",
          "name": "stdout",
          "text": [
            "Validation Epoch 2011 Batch 2010 Loss 2.7794\n"
          ]
        },
        {
          "output_type": "stream",
          "name": "stderr",
          "text": [
            " 59%|█████▉    | 2041/3474 [03:29<02:26,  9.80it/s]"
          ]
        },
        {
          "output_type": "stream",
          "name": "stdout",
          "text": [
            "Validation Epoch 2041 Batch 2040 Loss 2.7841\n"
          ]
        },
        {
          "output_type": "stream",
          "name": "stderr",
          "text": [
            " 60%|█████▉    | 2072/3474 [03:32<02:21,  9.88it/s]"
          ]
        },
        {
          "output_type": "stream",
          "name": "stdout",
          "text": [
            "Validation Epoch 2071 Batch 2070 Loss 2.8416\n"
          ]
        },
        {
          "output_type": "stream",
          "name": "stderr",
          "text": [
            " 61%|██████    | 2102/3474 [03:35<02:19,  9.84it/s]"
          ]
        },
        {
          "output_type": "stream",
          "name": "stdout",
          "text": [
            "Validation Epoch 2101 Batch 2100 Loss 2.8620\n"
          ]
        },
        {
          "output_type": "stream",
          "name": "stderr",
          "text": [
            " 61%|██████▏   | 2132/3474 [03:38<02:16,  9.81it/s]"
          ]
        },
        {
          "output_type": "stream",
          "name": "stdout",
          "text": [
            "Validation Epoch 2131 Batch 2130 Loss 2.9544\n"
          ]
        },
        {
          "output_type": "stream",
          "name": "stderr",
          "text": [
            " 62%|██████▏   | 2161/3474 [03:41<02:13,  9.83it/s]"
          ]
        },
        {
          "output_type": "stream",
          "name": "stdout",
          "text": [
            "Validation Epoch 2161 Batch 2160 Loss 2.8736\n"
          ]
        },
        {
          "output_type": "stream",
          "name": "stderr",
          "text": [
            " 63%|██████▎   | 2192/3474 [03:44<02:10,  9.79it/s]"
          ]
        },
        {
          "output_type": "stream",
          "name": "stdout",
          "text": [
            "Validation Epoch 2191 Batch 2190 Loss 3.3404\n"
          ]
        },
        {
          "output_type": "stream",
          "name": "stderr",
          "text": [
            " 64%|██████▍   | 2222/3474 [03:47<02:07,  9.83it/s]"
          ]
        },
        {
          "output_type": "stream",
          "name": "stdout",
          "text": [
            "Validation Epoch 2221 Batch 2220 Loss 2.8802\n"
          ]
        },
        {
          "output_type": "stream",
          "name": "stderr",
          "text": [
            " 65%|██████▍   | 2252/3474 [03:50<02:04,  9.81it/s]"
          ]
        },
        {
          "output_type": "stream",
          "name": "stdout",
          "text": [
            "Validation Epoch 2251 Batch 2250 Loss 2.7462\n"
          ]
        },
        {
          "output_type": "stream",
          "name": "stderr",
          "text": [
            " 66%|██████▌   | 2282/3474 [03:53<02:01,  9.85it/s]"
          ]
        },
        {
          "output_type": "stream",
          "name": "stdout",
          "text": [
            "Validation Epoch 2281 Batch 2280 Loss 2.8981\n"
          ]
        },
        {
          "output_type": "stream",
          "name": "stderr",
          "text": [
            " 67%|██████▋   | 2312/3474 [03:57<01:59,  9.73it/s]"
          ]
        },
        {
          "output_type": "stream",
          "name": "stdout",
          "text": [
            "Validation Epoch 2311 Batch 2310 Loss 3.1483\n"
          ]
        },
        {
          "output_type": "stream",
          "name": "stderr",
          "text": [
            " 67%|██████▋   | 2342/3474 [04:00<01:55,  9.82it/s]"
          ]
        },
        {
          "output_type": "stream",
          "name": "stdout",
          "text": [
            "Validation Epoch 2341 Batch 2340 Loss 3.1284\n"
          ]
        },
        {
          "output_type": "stream",
          "name": "stderr",
          "text": [
            " 68%|██████▊   | 2371/3474 [04:03<01:51,  9.86it/s]"
          ]
        },
        {
          "output_type": "stream",
          "name": "stdout",
          "text": [
            "Validation Epoch 2371 Batch 2370 Loss 3.1145\n"
          ]
        },
        {
          "output_type": "stream",
          "name": "stderr",
          "text": [
            " 69%|██████▉   | 2402/3474 [04:06<01:50,  9.71it/s]"
          ]
        },
        {
          "output_type": "stream",
          "name": "stdout",
          "text": [
            "Validation Epoch 2401 Batch 2400 Loss 2.8713\n"
          ]
        },
        {
          "output_type": "stream",
          "name": "stderr",
          "text": [
            " 70%|███████   | 2432/3474 [04:09<01:48,  9.63it/s]"
          ]
        },
        {
          "output_type": "stream",
          "name": "stdout",
          "text": [
            "Validation Epoch 2431 Batch 2430 Loss 3.1222\n"
          ]
        },
        {
          "output_type": "stream",
          "name": "stderr",
          "text": [
            " 71%|███████   | 2461/3474 [04:12<01:43,  9.81it/s]"
          ]
        },
        {
          "output_type": "stream",
          "name": "stdout",
          "text": [
            "Validation Epoch 2461 Batch 2460 Loss 3.2704\n"
          ]
        },
        {
          "output_type": "stream",
          "name": "stderr",
          "text": [
            " 72%|███████▏  | 2492/3474 [04:15<01:40,  9.73it/s]"
          ]
        },
        {
          "output_type": "stream",
          "name": "stdout",
          "text": [
            "Validation Epoch 2491 Batch 2490 Loss 2.7410\n"
          ]
        },
        {
          "output_type": "stream",
          "name": "stderr",
          "text": [
            " 73%|███████▎  | 2522/3474 [04:18<01:36,  9.87it/s]"
          ]
        },
        {
          "output_type": "stream",
          "name": "stdout",
          "text": [
            "Validation Epoch 2521 Batch 2520 Loss 2.5913\n"
          ]
        },
        {
          "output_type": "stream",
          "name": "stderr",
          "text": [
            " 73%|███████▎  | 2552/3474 [04:21<01:34,  9.77it/s]"
          ]
        },
        {
          "output_type": "stream",
          "name": "stdout",
          "text": [
            "Validation Epoch 2551 Batch 2550 Loss 3.1301\n"
          ]
        },
        {
          "output_type": "stream",
          "name": "stderr",
          "text": [
            " 74%|███████▍  | 2582/3474 [04:24<01:33,  9.58it/s]"
          ]
        },
        {
          "output_type": "stream",
          "name": "stdout",
          "text": [
            "Validation Epoch 2581 Batch 2580 Loss 3.0566\n"
          ]
        },
        {
          "output_type": "stream",
          "name": "stderr",
          "text": [
            " 75%|███████▌  | 2611/3474 [04:27<01:28,  9.80it/s]"
          ]
        },
        {
          "output_type": "stream",
          "name": "stdout",
          "text": [
            "Validation Epoch 2611 Batch 2610 Loss 2.6949\n"
          ]
        },
        {
          "output_type": "stream",
          "name": "stderr",
          "text": [
            " 76%|███████▌  | 2641/3474 [04:30<01:24,  9.90it/s]"
          ]
        },
        {
          "output_type": "stream",
          "name": "stdout",
          "text": [
            "Validation Epoch 2641 Batch 2640 Loss 3.0321\n"
          ]
        },
        {
          "output_type": "stream",
          "name": "stderr",
          "text": [
            " 77%|███████▋  | 2672/3474 [04:33<01:21,  9.86it/s]"
          ]
        },
        {
          "output_type": "stream",
          "name": "stdout",
          "text": [
            "Validation Epoch 2671 Batch 2670 Loss 2.8809\n"
          ]
        },
        {
          "output_type": "stream",
          "name": "stderr",
          "text": [
            " 78%|███████▊  | 2702/3474 [04:36<01:18,  9.83it/s]"
          ]
        },
        {
          "output_type": "stream",
          "name": "stdout",
          "text": [
            "Validation Epoch 2701 Batch 2700 Loss 3.1215\n"
          ]
        },
        {
          "output_type": "stream",
          "name": "stderr",
          "text": [
            " 79%|███████▊  | 2732/3474 [04:39<01:15,  9.83it/s]"
          ]
        },
        {
          "output_type": "stream",
          "name": "stdout",
          "text": [
            "Validation Epoch 2731 Batch 2730 Loss 2.8953\n"
          ]
        },
        {
          "output_type": "stream",
          "name": "stderr",
          "text": [
            " 80%|███████▉  | 2762/3474 [04:42<01:12,  9.85it/s]"
          ]
        },
        {
          "output_type": "stream",
          "name": "stdout",
          "text": [
            "Validation Epoch 2761 Batch 2760 Loss 2.6546\n"
          ]
        },
        {
          "output_type": "stream",
          "name": "stderr",
          "text": [
            " 80%|████████  | 2792/3474 [04:46<01:10,  9.73it/s]"
          ]
        },
        {
          "output_type": "stream",
          "name": "stdout",
          "text": [
            "Validation Epoch 2791 Batch 2790 Loss 2.7053\n"
          ]
        },
        {
          "output_type": "stream",
          "name": "stderr",
          "text": [
            " 81%|████████  | 2822/3474 [04:49<01:06,  9.86it/s]"
          ]
        },
        {
          "output_type": "stream",
          "name": "stdout",
          "text": [
            "Validation Epoch 2821 Batch 2820 Loss 2.9935\n"
          ]
        },
        {
          "output_type": "stream",
          "name": "stderr",
          "text": [
            " 82%|████████▏ | 2852/3474 [04:52<01:02,  9.91it/s]"
          ]
        },
        {
          "output_type": "stream",
          "name": "stdout",
          "text": [
            "Validation Epoch 2851 Batch 2850 Loss 2.7544\n"
          ]
        },
        {
          "output_type": "stream",
          "name": "stderr",
          "text": [
            " 83%|████████▎ | 2882/3474 [04:55<01:01,  9.60it/s]"
          ]
        },
        {
          "output_type": "stream",
          "name": "stdout",
          "text": [
            "Validation Epoch 2881 Batch 2880 Loss 2.5983\n"
          ]
        },
        {
          "output_type": "stream",
          "name": "stderr",
          "text": [
            " 84%|████████▍ | 2912/3474 [04:58<00:58,  9.62it/s]"
          ]
        },
        {
          "output_type": "stream",
          "name": "stdout",
          "text": [
            "Validation Epoch 2911 Batch 2910 Loss 2.9840\n"
          ]
        },
        {
          "output_type": "stream",
          "name": "stderr",
          "text": [
            " 85%|████████▍ | 2942/3474 [05:01<00:55,  9.63it/s]"
          ]
        },
        {
          "output_type": "stream",
          "name": "stdout",
          "text": [
            "Validation Epoch 2941 Batch 2940 Loss 2.6929\n"
          ]
        },
        {
          "output_type": "stream",
          "name": "stderr",
          "text": [
            " 86%|████████▌ | 2972/3474 [05:04<00:51,  9.70it/s]"
          ]
        },
        {
          "output_type": "stream",
          "name": "stdout",
          "text": [
            "Validation Epoch 2971 Batch 2970 Loss 2.6745\n"
          ]
        },
        {
          "output_type": "stream",
          "name": "stderr",
          "text": [
            " 86%|████████▋ | 3001/3474 [05:07<00:48,  9.79it/s]"
          ]
        },
        {
          "output_type": "stream",
          "name": "stdout",
          "text": [
            "Validation Epoch 3001 Batch 3000 Loss 2.9037\n"
          ]
        },
        {
          "output_type": "stream",
          "name": "stderr",
          "text": [
            " 87%|████████▋ | 3032/3474 [05:10<00:45,  9.63it/s]"
          ]
        },
        {
          "output_type": "stream",
          "name": "stdout",
          "text": [
            "Validation Epoch 3031 Batch 3030 Loss 2.9477\n"
          ]
        },
        {
          "output_type": "stream",
          "name": "stderr",
          "text": [
            " 88%|████████▊ | 3062/3474 [05:13<00:42,  9.70it/s]"
          ]
        },
        {
          "output_type": "stream",
          "name": "stdout",
          "text": [
            "Validation Epoch 3061 Batch 3060 Loss 2.7793\n"
          ]
        },
        {
          "output_type": "stream",
          "name": "stderr",
          "text": [
            " 89%|████████▉ | 3092/3474 [05:16<00:39,  9.64it/s]"
          ]
        },
        {
          "output_type": "stream",
          "name": "stdout",
          "text": [
            "Validation Epoch 3091 Batch 3090 Loss 2.8851\n"
          ]
        },
        {
          "output_type": "stream",
          "name": "stderr",
          "text": [
            " 90%|████████▉ | 3121/3474 [05:19<00:36,  9.80it/s]"
          ]
        },
        {
          "output_type": "stream",
          "name": "stdout",
          "text": [
            "Validation Epoch 3121 Batch 3120 Loss 2.7090\n"
          ]
        },
        {
          "output_type": "stream",
          "name": "stderr",
          "text": [
            " 91%|█████████ | 3152/3474 [05:22<00:32,  9.83it/s]"
          ]
        },
        {
          "output_type": "stream",
          "name": "stdout",
          "text": [
            "Validation Epoch 3151 Batch 3150 Loss 2.8306\n"
          ]
        },
        {
          "output_type": "stream",
          "name": "stderr",
          "text": [
            " 92%|█████████▏| 3182/3474 [05:25<00:29,  9.80it/s]"
          ]
        },
        {
          "output_type": "stream",
          "name": "stdout",
          "text": [
            "Validation Epoch 3181 Batch 3180 Loss 2.8450\n"
          ]
        },
        {
          "output_type": "stream",
          "name": "stderr",
          "text": [
            " 92%|█████████▏| 3212/3474 [05:28<00:26,  9.84it/s]"
          ]
        },
        {
          "output_type": "stream",
          "name": "stdout",
          "text": [
            "Validation Epoch 3211 Batch 3210 Loss 3.0906\n"
          ]
        },
        {
          "output_type": "stream",
          "name": "stderr",
          "text": [
            " 93%|█████████▎| 3242/3474 [05:32<00:23,  9.84it/s]"
          ]
        },
        {
          "output_type": "stream",
          "name": "stdout",
          "text": [
            "Validation Epoch 3241 Batch 3240 Loss 3.0403\n"
          ]
        },
        {
          "output_type": "stream",
          "name": "stderr",
          "text": [
            " 94%|█████████▍| 3272/3474 [05:35<00:20,  9.77it/s]"
          ]
        },
        {
          "output_type": "stream",
          "name": "stdout",
          "text": [
            "Validation Epoch 3271 Batch 3270 Loss 2.8983\n"
          ]
        },
        {
          "output_type": "stream",
          "name": "stderr",
          "text": [
            " 95%|█████████▌| 3302/3474 [05:38<00:17,  9.78it/s]"
          ]
        },
        {
          "output_type": "stream",
          "name": "stdout",
          "text": [
            "Validation Epoch 3301 Batch 3300 Loss 2.8882\n"
          ]
        },
        {
          "output_type": "stream",
          "name": "stderr",
          "text": [
            " 96%|█████████▌| 3332/3474 [05:41<00:14,  9.70it/s]"
          ]
        },
        {
          "output_type": "stream",
          "name": "stdout",
          "text": [
            "Validation Epoch 3331 Batch 3330 Loss 3.1685\n"
          ]
        },
        {
          "output_type": "stream",
          "name": "stderr",
          "text": [
            " 97%|█████████▋| 3362/3474 [05:44<00:11,  9.79it/s]"
          ]
        },
        {
          "output_type": "stream",
          "name": "stdout",
          "text": [
            "Validation Epoch 3361 Batch 3360 Loss 2.7520\n"
          ]
        },
        {
          "output_type": "stream",
          "name": "stderr",
          "text": [
            " 98%|█████████▊| 3392/3474 [05:47<00:08,  9.76it/s]"
          ]
        },
        {
          "output_type": "stream",
          "name": "stdout",
          "text": [
            "Validation Epoch 3391 Batch 3390 Loss 3.1833\n"
          ]
        },
        {
          "output_type": "stream",
          "name": "stderr",
          "text": [
            " 99%|█████████▊| 3422/3474 [05:50<00:05,  9.89it/s]"
          ]
        },
        {
          "output_type": "stream",
          "name": "stdout",
          "text": [
            "Validation Epoch 3421 Batch 3420 Loss 2.7177\n"
          ]
        },
        {
          "output_type": "stream",
          "name": "stderr",
          "text": [
            " 99%|█████████▉| 3452/3474 [05:53<00:02,  9.81it/s]"
          ]
        },
        {
          "output_type": "stream",
          "name": "stdout",
          "text": [
            "Validation Epoch 3451 Batch 3450 Loss 2.6105\n"
          ]
        },
        {
          "output_type": "stream",
          "name": "stderr",
          "text": [
            "100%|██████████| 3474/3474 [05:55<00:00,  9.77it/s]"
          ]
        },
        {
          "output_type": "stream",
          "name": "stdout",
          "text": [
            "evaluate loss:  tensor(6.8187, device='cuda:0')\n"
          ]
        },
        {
          "output_type": "stream",
          "name": "stderr",
          "text": [
            "\n"
          ]
        }
      ]
    },
    {
      "cell_type": "code",
      "source": [
        "torch.save(model.state_dict(), '/content/drive/MyDrive/NLP_assignment2/bert_model_1129')"
      ],
      "metadata": {
        "id": "YhhCMuLM4T0Z"
      },
      "execution_count": 30,
      "outputs": []
    },
    {
      "cell_type": "code",
      "source": [
        "model.load_state_dict(torch.load('/content/drive/MyDrive/NLP_assignment2/bert_model'))"
      ],
      "metadata": {
        "colab": {
          "base_uri": "https://localhost:8080/",
          "height": 313
        },
        "id": "b42h5g76tiD4",
        "outputId": "966ea63c-0414-4bb6-ac7f-e0d7bf5b1a6d"
      },
      "execution_count": 31,
      "outputs": [
        {
          "output_type": "error",
          "ename": "KeyboardInterrupt",
          "evalue": "ignored",
          "traceback": [
            "\u001b[0;31m---------------------------------------------------------------------------\u001b[0m",
            "\u001b[0;31mKeyboardInterrupt\u001b[0m                         Traceback (most recent call last)",
            "\u001b[0;32m<ipython-input-31-fddae9278e2e>\u001b[0m in \u001b[0;36m<module>\u001b[0;34m\u001b[0m\n\u001b[0;32m----> 1\u001b[0;31m \u001b[0mmodel\u001b[0m\u001b[0;34m.\u001b[0m\u001b[0mload_state_dict\u001b[0m\u001b[0;34m(\u001b[0m\u001b[0mtorch\u001b[0m\u001b[0;34m.\u001b[0m\u001b[0mload\u001b[0m\u001b[0;34m(\u001b[0m\u001b[0;34m'/content/drive/MyDrive/NLP_assignment2/bert_model'\u001b[0m\u001b[0;34m)\u001b[0m\u001b[0;34m)\u001b[0m\u001b[0;34m\u001b[0m\u001b[0;34m\u001b[0m\u001b[0m\n\u001b[0m",
            "\u001b[0;32m/usr/local/lib/python3.7/dist-packages/torch/serialization.py\u001b[0m in \u001b[0;36mload\u001b[0;34m(f, map_location, pickle_module, **pickle_load_args)\u001b[0m\n\u001b[1;32m    703\u001b[0m             \u001b[0;31m# reset back to the original position.\u001b[0m\u001b[0;34m\u001b[0m\u001b[0;34m\u001b[0m\u001b[0;34m\u001b[0m\u001b[0m\n\u001b[1;32m    704\u001b[0m             \u001b[0morig_position\u001b[0m \u001b[0;34m=\u001b[0m \u001b[0mopened_file\u001b[0m\u001b[0;34m.\u001b[0m\u001b[0mtell\u001b[0m\u001b[0;34m(\u001b[0m\u001b[0;34m)\u001b[0m\u001b[0;34m\u001b[0m\u001b[0;34m\u001b[0m\u001b[0m\n\u001b[0;32m--> 705\u001b[0;31m             \u001b[0;32mwith\u001b[0m \u001b[0m_open_zipfile_reader\u001b[0m\u001b[0;34m(\u001b[0m\u001b[0mopened_file\u001b[0m\u001b[0;34m)\u001b[0m \u001b[0;32mas\u001b[0m \u001b[0mopened_zipfile\u001b[0m\u001b[0;34m:\u001b[0m\u001b[0;34m\u001b[0m\u001b[0;34m\u001b[0m\u001b[0m\n\u001b[0m\u001b[1;32m    706\u001b[0m                 \u001b[0;32mif\u001b[0m \u001b[0m_is_torchscript_zip\u001b[0m\u001b[0;34m(\u001b[0m\u001b[0mopened_zipfile\u001b[0m\u001b[0;34m)\u001b[0m\u001b[0;34m:\u001b[0m\u001b[0;34m\u001b[0m\u001b[0;34m\u001b[0m\u001b[0m\n\u001b[1;32m    707\u001b[0m                     warnings.warn(\"'torch.load' received a zip file that looks like a TorchScript archive\"\n",
            "\u001b[0;32m/usr/local/lib/python3.7/dist-packages/torch/serialization.py\u001b[0m in \u001b[0;36m__init__\u001b[0;34m(self, name_or_buffer)\u001b[0m\n\u001b[1;32m    240\u001b[0m \u001b[0;32mclass\u001b[0m \u001b[0m_open_zipfile_reader\u001b[0m\u001b[0;34m(\u001b[0m\u001b[0m_opener\u001b[0m\u001b[0;34m)\u001b[0m\u001b[0;34m:\u001b[0m\u001b[0;34m\u001b[0m\u001b[0;34m\u001b[0m\u001b[0m\n\u001b[1;32m    241\u001b[0m     \u001b[0;32mdef\u001b[0m \u001b[0m__init__\u001b[0m\u001b[0;34m(\u001b[0m\u001b[0mself\u001b[0m\u001b[0;34m,\u001b[0m \u001b[0mname_or_buffer\u001b[0m\u001b[0;34m)\u001b[0m \u001b[0;34m->\u001b[0m \u001b[0;32mNone\u001b[0m\u001b[0;34m:\u001b[0m\u001b[0;34m\u001b[0m\u001b[0;34m\u001b[0m\u001b[0m\n\u001b[0;32m--> 242\u001b[0;31m         \u001b[0msuper\u001b[0m\u001b[0;34m(\u001b[0m\u001b[0m_open_zipfile_reader\u001b[0m\u001b[0;34m,\u001b[0m \u001b[0mself\u001b[0m\u001b[0;34m)\u001b[0m\u001b[0;34m.\u001b[0m\u001b[0m__init__\u001b[0m\u001b[0;34m(\u001b[0m\u001b[0mtorch\u001b[0m\u001b[0;34m.\u001b[0m\u001b[0m_C\u001b[0m\u001b[0;34m.\u001b[0m\u001b[0mPyTorchFileReader\u001b[0m\u001b[0;34m(\u001b[0m\u001b[0mname_or_buffer\u001b[0m\u001b[0;34m)\u001b[0m\u001b[0;34m)\u001b[0m\u001b[0;34m\u001b[0m\u001b[0;34m\u001b[0m\u001b[0m\n\u001b[0m\u001b[1;32m    243\u001b[0m \u001b[0;34m\u001b[0m\u001b[0m\n\u001b[1;32m    244\u001b[0m \u001b[0;34m\u001b[0m\u001b[0m\n",
            "\u001b[0;31mKeyboardInterrupt\u001b[0m: "
          ]
        }
      ]
    },
    {
      "cell_type": "markdown",
      "source": [
        "## Predict"
      ],
      "metadata": {
        "id": "WgymfUON5JuT"
      }
    },
    {
      "cell_type": "code",
      "source": [
        "def predict(test_loader):\n",
        "    predict_pos = []\n",
        "\n",
        "    model.eval()\n",
        "\n",
        "    ans_sub_output = []\n",
        "\n",
        "    loop = tqdm(test_loader, leave=True)\n",
        "    for batch_id, batch in enumerate(loop):\n",
        "        input_ids = batch['input_ids'].to(device)\n",
        "        attention_mask = batch['attention_mask'].to(device)\n",
        "        token_type_ids = batch['token_type_ids'].to(device)\n",
        "\n",
        "        # model output\n",
        "        outputs = model(input_ids=input_ids, attention_mask=attention_mask, token_type_ids=token_type_ids)\n",
        "        \n",
        "        ans_start_logits, ans_end_logits = torch.split(outputs, 1, 2)\n",
        "\n",
        "        ans_start_logits = ans_start_logits.squeeze(-1).contiguous()\n",
        "        ans_end_logits = ans_end_logits.squeeze(-1).contiguous()\n",
        "\n",
        "        ans_start_prdict = torch.argmax(ans_start_logits, 1).cpu().numpy()\n",
        "        ans_end_prdict = torch.argmax(ans_end_logits, 1).cpu().numpy()\n",
        "\n",
        "        for i in range(len(input_ids)):\n",
        "            predict_pos.append((ans_start_prdict[i].item(), ans_end_prdict[i].item()))\n",
        "\n",
        "            ans_sub = tokenizer.decode(input_ids[i][ans_start_prdict[i]:ans_end_prdict[i]+1])\n",
        "            \n",
        "            ans_sub_output.append(ans_sub)\n",
        "    \n",
        "    return ans_sub_output, predict_pos"
      ],
      "metadata": {
        "id": "f18i9hig4RPl"
      },
      "execution_count": 32,
      "outputs": []
    },
    {
      "cell_type": "code",
      "source": [
        "valid_loader = DataLoader(valid_dataset, batch_size=batch_size, shuffle=False)"
      ],
      "metadata": {
        "id": "MXcxSURCqcyv"
      },
      "execution_count": 34,
      "outputs": []
    },
    {
      "cell_type": "code",
      "source": [
        "ans_sub_output, predict_pos = predict(valid_loader)"
      ],
      "metadata": {
        "id": "MSfnJQ1c4XmM",
        "colab": {
          "base_uri": "https://localhost:8080/"
        },
        "outputId": "b28d59aa-3955-4ebc-90e7-8879b3a2ac7a"
      },
      "execution_count": 35,
      "outputs": [
        {
          "output_type": "stream",
          "name": "stderr",
          "text": [
            "100%|██████████| 3474/3474 [05:56<00:00,  9.74it/s]\n"
          ]
        }
      ]
    },
    {
      "cell_type": "code",
      "source": [
        "def get_output_post_fn(test, ans_sub_output):\n",
        "    ans_sub = []\n",
        "    for i in range(len(test)):\n",
        "\n",
        "        ans_sub_pred = ans_sub_output[i].split()\n",
        "\n",
        "        if ans_sub_pred is None:\n",
        "            ans_sub_pred = []\n",
        "        ans_sub_error_index = ans_sub_pred.index('[SEP]') if '[SEP]' in ans_sub_pred else -1\n",
        "\n",
        "        if ans_sub_error_index != -1:\n",
        "            ans_sub_pred = ans_sub_pred[:ans_sub_error_index]\n",
        "\n",
        "\n",
        "        ans_sub.append(' '.join(ans_sub_pred))\n",
        "\n",
        "    return ans_sub"
      ],
      "metadata": {
        "id": "I4epskqv4YlO"
      },
      "execution_count": 36,
      "outputs": []
    },
    {
      "cell_type": "code",
      "source": [
        "ans_sub = get_output_post_fn(valid_df, ans_sub_output)"
      ],
      "metadata": {
        "id": "pC7choAu4ZsP"
      },
      "execution_count": 37,
      "outputs": []
    },
    {
      "cell_type": "code",
      "source": [
        "valid_df['ans_pred'] = ans_sub"
      ],
      "metadata": {
        "id": "tNkSLlEH4apr"
      },
      "execution_count": 38,
      "outputs": []
    },
    {
      "cell_type": "code",
      "source": [
        "valid_df.head()"
      ],
      "metadata": {
        "id": "8DOO9vb74bg3",
        "colab": {
          "base_uri": "https://localhost:8080/",
          "height": 337
        },
        "outputId": "fd0a96ed-6616-4504-a751-f307c5fd4182"
      },
      "execution_count": 39,
      "outputs": [
        {
          "output_type": "execute_result",
          "data": {
            "text/plain": [
              "                                             snippet  \\\n",
              "0  free flashcards authors studystack spain 1959 ...   \n",
              "1  november 14 , 2008 called altitude american au...   \n",
              "2  lowest highest death valley mt whitney walk ba...   \n",
              "3  california facts , map state symbols enchanted...   \n",
              "4  kids net au encyclopedia cash dispenser many a...   \n",
              "\n",
              "                                            question       answer  ans_start  \\\n",
              "0  spain 1959 , wrote dangerous summer , story ri...   hemingway         100   \n",
              "1  spain 1959 , wrote dangerous summer , story ri...   hemingway         115   \n",
              "2  valley 282 feet sea level state lowest point w...  california          -1   \n",
              "3  valley 282 feet sea level state lowest point w...  california           0   \n",
              "4  like banks , many grocery stores dispensing ca...        atms          45   \n",
              "\n",
              "   ans_end                                           ans_pred  \n",
              "0      109                                     hemingway 1884  \n",
              "1      124  [CLS] november 14, 2008 called altitude americ...  \n",
              "2       -1                                     death valley m  \n",
              "3       10                                                     \n",
              "4       49                                          atms also  "
            ],
            "text/html": [
              "\n",
              "  <div id=\"df-d39da711-eb83-4cd8-9776-c7dd1760a82b\">\n",
              "    <div class=\"colab-df-container\">\n",
              "      <div>\n",
              "<style scoped>\n",
              "    .dataframe tbody tr th:only-of-type {\n",
              "        vertical-align: middle;\n",
              "    }\n",
              "\n",
              "    .dataframe tbody tr th {\n",
              "        vertical-align: top;\n",
              "    }\n",
              "\n",
              "    .dataframe thead th {\n",
              "        text-align: right;\n",
              "    }\n",
              "</style>\n",
              "<table border=\"1\" class=\"dataframe\">\n",
              "  <thead>\n",
              "    <tr style=\"text-align: right;\">\n",
              "      <th></th>\n",
              "      <th>snippet</th>\n",
              "      <th>question</th>\n",
              "      <th>answer</th>\n",
              "      <th>ans_start</th>\n",
              "      <th>ans_end</th>\n",
              "      <th>ans_pred</th>\n",
              "    </tr>\n",
              "  </thead>\n",
              "  <tbody>\n",
              "    <tr>\n",
              "      <th>0</th>\n",
              "      <td>free flashcards authors studystack spain 1959 ...</td>\n",
              "      <td>spain 1959 , wrote dangerous summer , story ri...</td>\n",
              "      <td>hemingway</td>\n",
              "      <td>100</td>\n",
              "      <td>109</td>\n",
              "      <td>hemingway 1884</td>\n",
              "    </tr>\n",
              "    <tr>\n",
              "      <th>1</th>\n",
              "      <td>november 14 , 2008 called altitude american au...</td>\n",
              "      <td>spain 1959 , wrote dangerous summer , story ri...</td>\n",
              "      <td>hemingway</td>\n",
              "      <td>115</td>\n",
              "      <td>124</td>\n",
              "      <td>[CLS] november 14, 2008 called altitude americ...</td>\n",
              "    </tr>\n",
              "    <tr>\n",
              "      <th>2</th>\n",
              "      <td>lowest highest death valley mt whitney walk ba...</td>\n",
              "      <td>valley 282 feet sea level state lowest point w...</td>\n",
              "      <td>california</td>\n",
              "      <td>-1</td>\n",
              "      <td>-1</td>\n",
              "      <td>death valley m</td>\n",
              "    </tr>\n",
              "    <tr>\n",
              "      <th>3</th>\n",
              "      <td>california facts , map state symbols enchanted...</td>\n",
              "      <td>valley 282 feet sea level state lowest point w...</td>\n",
              "      <td>california</td>\n",
              "      <td>0</td>\n",
              "      <td>10</td>\n",
              "      <td></td>\n",
              "    </tr>\n",
              "    <tr>\n",
              "      <th>4</th>\n",
              "      <td>kids net au encyclopedia cash dispenser many a...</td>\n",
              "      <td>like banks , many grocery stores dispensing ca...</td>\n",
              "      <td>atms</td>\n",
              "      <td>45</td>\n",
              "      <td>49</td>\n",
              "      <td>atms also</td>\n",
              "    </tr>\n",
              "  </tbody>\n",
              "</table>\n",
              "</div>\n",
              "      <button class=\"colab-df-convert\" onclick=\"convertToInteractive('df-d39da711-eb83-4cd8-9776-c7dd1760a82b')\"\n",
              "              title=\"Convert this dataframe to an interactive table.\"\n",
              "              style=\"display:none;\">\n",
              "        \n",
              "  <svg xmlns=\"http://www.w3.org/2000/svg\" height=\"24px\"viewBox=\"0 0 24 24\"\n",
              "       width=\"24px\">\n",
              "    <path d=\"M0 0h24v24H0V0z\" fill=\"none\"/>\n",
              "    <path d=\"M18.56 5.44l.94 2.06.94-2.06 2.06-.94-2.06-.94-.94-2.06-.94 2.06-2.06.94zm-11 1L8.5 8.5l.94-2.06 2.06-.94-2.06-.94L8.5 2.5l-.94 2.06-2.06.94zm10 10l.94 2.06.94-2.06 2.06-.94-2.06-.94-.94-2.06-.94 2.06-2.06.94z\"/><path d=\"M17.41 7.96l-1.37-1.37c-.4-.4-.92-.59-1.43-.59-.52 0-1.04.2-1.43.59L10.3 9.45l-7.72 7.72c-.78.78-.78 2.05 0 2.83L4 21.41c.39.39.9.59 1.41.59.51 0 1.02-.2 1.41-.59l7.78-7.78 2.81-2.81c.8-.78.8-2.07 0-2.86zM5.41 20L4 18.59l7.72-7.72 1.47 1.35L5.41 20z\"/>\n",
              "  </svg>\n",
              "      </button>\n",
              "      \n",
              "  <style>\n",
              "    .colab-df-container {\n",
              "      display:flex;\n",
              "      flex-wrap:wrap;\n",
              "      gap: 12px;\n",
              "    }\n",
              "\n",
              "    .colab-df-convert {\n",
              "      background-color: #E8F0FE;\n",
              "      border: none;\n",
              "      border-radius: 50%;\n",
              "      cursor: pointer;\n",
              "      display: none;\n",
              "      fill: #1967D2;\n",
              "      height: 32px;\n",
              "      padding: 0 0 0 0;\n",
              "      width: 32px;\n",
              "    }\n",
              "\n",
              "    .colab-df-convert:hover {\n",
              "      background-color: #E2EBFA;\n",
              "      box-shadow: 0px 1px 2px rgba(60, 64, 67, 0.3), 0px 1px 3px 1px rgba(60, 64, 67, 0.15);\n",
              "      fill: #174EA6;\n",
              "    }\n",
              "\n",
              "    [theme=dark] .colab-df-convert {\n",
              "      background-color: #3B4455;\n",
              "      fill: #D2E3FC;\n",
              "    }\n",
              "\n",
              "    [theme=dark] .colab-df-convert:hover {\n",
              "      background-color: #434B5C;\n",
              "      box-shadow: 0px 1px 3px 1px rgba(0, 0, 0, 0.15);\n",
              "      filter: drop-shadow(0px 1px 2px rgba(0, 0, 0, 0.3));\n",
              "      fill: #FFFFFF;\n",
              "    }\n",
              "  </style>\n",
              "\n",
              "      <script>\n",
              "        const buttonEl =\n",
              "          document.querySelector('#df-d39da711-eb83-4cd8-9776-c7dd1760a82b button.colab-df-convert');\n",
              "        buttonEl.style.display =\n",
              "          google.colab.kernel.accessAllowed ? 'block' : 'none';\n",
              "\n",
              "        async function convertToInteractive(key) {\n",
              "          const element = document.querySelector('#df-d39da711-eb83-4cd8-9776-c7dd1760a82b');\n",
              "          const dataTable =\n",
              "            await google.colab.kernel.invokeFunction('convertToInteractive',\n",
              "                                                     [key], {});\n",
              "          if (!dataTable) return;\n",
              "\n",
              "          const docLinkHtml = 'Like what you see? Visit the ' +\n",
              "            '<a target=\"_blank\" href=https://colab.research.google.com/notebooks/data_table.ipynb>data table notebook</a>'\n",
              "            + ' to learn more about interactive tables.';\n",
              "          element.innerHTML = '';\n",
              "          dataTable['output_type'] = 'display_data';\n",
              "          await google.colab.output.renderOutput(dataTable, element);\n",
              "          const docLink = document.createElement('div');\n",
              "          docLink.innerHTML = docLinkHtml;\n",
              "          element.appendChild(docLink);\n",
              "        }\n",
              "      </script>\n",
              "    </div>\n",
              "  </div>\n",
              "  "
            ]
          },
          "metadata": {},
          "execution_count": 39
        }
      ]
    },
    {
      "cell_type": "code",
      "source": [
        "import re\n",
        "import collections\n",
        "import string\n",
        "  \n",
        "def normalize_answer(s):\n",
        "    \"\"\"Lower text and remove punctuation, articles and extra whitespace.\"\"\"\n",
        "  \n",
        "    def remove_articles(text):\n",
        "        regex = re.compile(r\"\\b(a|an|the)\\b\", re.UNICODE)\n",
        "        return re.sub(regex, \" \", text)\n",
        "  \n",
        "    def white_space_fix(text):\n",
        "        return \" \".join(text.split())\n",
        "  \n",
        "    def remove_punc(text):\n",
        "        exclude = set(string.punctuation)\n",
        "        return \"\".join(ch for ch in text if ch not in exclude)\n",
        "  \n",
        "    def lower(text):\n",
        "        return text.lower()\n",
        "  \n",
        "    return white_space_fix(remove_articles(remove_punc(lower(s))))\n",
        "  \n",
        "  \n",
        "def get_tokens(s):\n",
        "    if not s:\n",
        "        return []\n",
        "    return normalize_answer(s).split()\n",
        "  \n",
        "  \n",
        "def compute_exact(a_gold, a_pred):\n",
        "    return int(normalize_answer(a_gold) == normalize_answer(a_pred))\n",
        "  \n",
        "  \n",
        "def compute_f1(a_gold, a_pred):\n",
        "    gold_toks = get_tokens(a_gold)\n",
        "    pred_toks = get_tokens(a_pred)\n",
        "    common = collections.Counter(gold_toks) & collections.Counter(pred_toks)\n",
        "    num_same = sum(common.values())\n",
        "    if len(gold_toks) == 0 or len(pred_toks) == 0:\n",
        "        # If either is no-answer, then F1 is 1 if they agree, 0 otherwise\n",
        "        return int(gold_toks == pred_toks)\n",
        "    if num_same == 0:\n",
        "        return 0\n",
        "    precision = 1.0 * num_same / len(pred_toks)\n",
        "    recall = 1.0 * num_same / len(gold_toks)\n",
        "    f1 = (2 * precision * recall) / (precision + recall)\n",
        "    return f1"
      ],
      "metadata": {
        "id": "V2EcppR6sSXn"
      },
      "execution_count": 44,
      "outputs": []
    },
    {
      "cell_type": "code",
      "source": [
        "f1 = 0\n",
        "for i in range(valid_df.shape[0]):\n",
        "  print(valid_df.iloc[i][\"answer\"], valid_df.iloc[i]['ans_pred'])\n",
        "  f1 += compute_f1(valid_df.iloc[i][\"answer\"], valid_df.iloc[i]['ans_pred'])\n",
        "print(f1)"
      ],
      "metadata": {
        "colab": {
          "base_uri": "https://localhost:8080/",
          "height": 1000
        },
        "id": "HOuOwgrgsWXv",
        "outputId": "67caa717-51e9-4518-c940-ee4dd1b0734e"
      },
      "execution_count": 52,
      "outputs": [
        {
          "output_type": "stream",
          "name": "stdout",
          "text": [
            "hemingway  hemingway 1884\n",
            "hemingway  [CLS] november 14, 2008 called altitude american authors spain 1959, wrote dangerous summer, story rival bullfighters hemingway 1884\n",
            "california  death valley m\n",
            "california  \n",
            "atms  atms also\n",
            "atms  \n",
            "walt disney  walt disney mi\n",
            "walt disney  walt disney got\n",
            "bucharest  bucharest 2\n",
            "bucharest  prezi all\n",
            "alaska  alaska biggest\n",
            "alaska  som michigan longest\n",
            "texas  \n",
            "texas  texas oil\n",
            "npr  [CLS]\n",
            "npr  [CLS]\n",
            "mel blanc  [CLS] daffy duck timeline events timetoast timeline\n",
            "mel blanc  [CLS]\n",
            "trestle  [CLS] louisiana statewide rail system plan mit also top surface head rail contacts wheels trestle braced\n",
            "trestle  trestle braced\n",
            "l frank baum  [CLS]\n",
            "l frank baum  [CLS] twinkle chubbins astonishing adventures nature twinkle chubbins astonishing adventures nature fairyland best known writing wonderful wizard oz thirteen start reading twinkle chubbins kindle minute l frank baum,\n",
            "minnesota  minnesota things\n",
            "minnesota  minnesota m\n",
            "cia  cia headquarters\n",
            "cia  central intelligence au\n",
            "antonio banderas  antonio banderas pu\n",
            "antonio banderas  antonio banderas pu\n",
            "stephen vincent benet  \n",
            "stephen vincent benet  stephen vincent ben\n",
            "washington  airplane manufacturing\n",
            "washington  [CLS]\n",
            "tnt  [CLS]\n",
            "tnt  manhattan t\n",
            "mike judge  mike judge be\n",
            "mike judge  mike judge may\n",
            "orestes  atreus tantalus agamemnon, iphigenia, clytemnestra, aegisthus agamemnon's son, orestes,\n",
            "orestes  orestes son\n",
            "san antonio  san antonio te\n",
            "san antonio  san antonio 169\n",
            "ordinary people  [CLS] ordinary people 1980\n",
            "ordinary people  analog digital tv transition ins\n",
            "world cup  world cup first\n",
            "world cup  [CLS] mexican sports facts mexico article learn abour sports mexican people love, strong history producing athletic champions international competitions country also hosted world cup tournament twice, 1970 1986 mexico also became first latin american country host olympics,\n",
            "dramamine  \n",
            "dramamine  [CLS]\n",
            "toyota  toyota p\n",
            "toyota  toyota auto\n",
            "boston massacre  [CLS]\n",
            "boston massacre  boston massacre 1770\n",
            "acapulco  acapulco founded\n",
            "acapulco  acapulco w\n",
            "alcohol  [CLS]\n",
            "alcohol  \n",
            "carriage  [CLS] national trust carriage museum arlington court pdf might found ownership braids probably dates mid 1800s eight carriages one three mid nineteenth century, barouches became gentleman ', unlike usual form transport, double brougham additional\n",
            "carriage  [CLS]\n",
            "cotton mather  mather poem\n",
            "cotton mather  mather boston 171\n",
            "guadalajara  guadalajara j\n",
            "guadalajara  guadalajara,\n",
            "prostate cancer  prostate treatment\n",
            "prostate cancer  prostate cancer est\n",
            "london  london ad\n",
            "london  london lo\n",
            "huguenots  charlesfort,\n",
            "huguenots  huguenot settlements\n",
            "waterfront  \n",
            "waterfront  \n",
            "cholesterol  [CLS] november 14, 2008 man hosted game show earn vacation johnny carson carson pro\n",
            "cholesterol  cholesterol suicide\n",
            "cancun  mexico,\n",
            "cancun  yucatec maya island\n",
            "miltown  miltown transportation\n",
            "miltown  amphetamine years\n",
            "mules  mules m\n",
            "mules  mules army\n",
            "mousetrap  \n",
            "mousetrap  [CLS] headline sportsbusiness daily\n",
            "richard nixon  nixon volume 3 ruin\n",
            "richard nixon  nixon volume\n",
            "tooth  devil fights tooth nail stop\n",
            "tooth  tooth nail records\n",
            "hell week  [CLS]\n",
            "hell week  frat hell week\n",
            "judi dench  dame judi dench queen\n",
            "judi dench  victor victoria 6\n",
            "scotland  edinburgh scotland 6\n",
            "scotland  edinburgh,\n",
            "watertight  [CLS]\n",
            "watertight  [CLS]\n",
            "tattoo  drum bugle summon\n",
            "tattoo  bugle ordering\n",
            "james cook  [CLS]\n",
            "james cook  captain cook p\n",
            "wales  wales principal\n",
            "wales  scotland wa\n",
            "stoop  [CLS]\n",
            "stoop  [CLS]\n",
            "china  china seasonal\n",
            "china  china china vast\n",
            "anchors  \n",
            "anchors  titanic w\n",
            "pontoons  [CLS] aussie seaplane adventure love seaplanes little adventure three purposes find seaplanes, find bay city's seaplane base customer friendly pontoon cute\n",
            "pontoons  [CLS]\n",
            "napoleon  napoleon '\n",
            "napoleon  napoleon '\n",
            "fleet week  new york city pin\n",
            "fleet week  fleet week n\n",
            "red heat  red heat 1988\n",
            "red heat  red heat sky action\n",
            "wales  [CLS] cambrian mountains traildino cambrian mountains series mountain ranges wales,\n",
            "wales  jules hudson ca\n",
            "bridge  [CLS]\n",
            "bridge  bridge engine\n",
            "festoon  festoon definition\n",
            "festoon  festoon en\n",
            "venezuela  venezuela 1870\n",
            "venezuela  venezuela br\n",
            "john  john x\n",
            "john  [CLS]\n",
            "legible  [CLS]\n",
            "legible  [CLS]\n",
            "charles darwin  \n",
            "charles darwin  charles darwin massive\n",
            "florida  holland knight '\n",
            "florida  florida j\n",
            "paul  paul existed\n",
            "paul  pope francis first\n",
            "galileo  galileo galilei born\n",
            "galileo  galileo born\n",
            "eggs  [CLS] free flashcards food drink studystack doro wat, ethiopian chicken stew, go end cooking, chicken stew comes first, eggs best\n",
            "eggs  onions continue\n",
            "colorado  colorado river boulder\n",
            "colorado  [CLS]\n",
            "leo  leo x\n",
            "leo  john paul ii\n",
            "niels bohr  \n",
            "niels bohr  niels bohr m\n",
            "la king  [CLS]\n",
            "la king  la king recipe\n",
            "pius  \n",
            "pius  anna,\n",
            "mendeleev  [CLS] free flashcards weights measures studystack death 1907, chemist headed weights measures bureau st petersburg, russia, mendeleev verb\n",
            "mendeleev  dimitri mendeleev big\n",
            "gregory  [CLS] non bishop ever\n",
            "gregory  gregory x\n",
            "crucible  crucible play\n",
            "crucible  crucible j\n",
            "chicken tetrazzini  tetrazzini chicken\n",
            "chicken tetrazzini  tetrazzini named\n",
            "stephen douglas  [CLS]\n",
            "stephen douglas  [CLS]\n",
            "blasters  \n",
            "blasters  blaster weapons\n",
            "tendinitis  tendonitis pen\n",
            "tendinitis  tendinitis medlineplus medical\n",
            "oliver twist  oliver twist search\n",
            "oliver twist  oliver twist character\n",
            "fish  fish chips\n",
            "fish  [CLS]\n",
            "11  win outcome opening\n",
            "11  dice opening\n",
            "spear  spear nation ne\n",
            "spear  [CLS] umkhonto sizwe terrorism ask\n",
            "20  20 feet\n",
            "20  eye chart vision\n",
            "headless horseman  horseman legend\n",
            "headless horseman  headless horseman legend\n",
            "fuji  fuji answers\n",
            "fuji  mt fuji japan '\n",
            "gibbons  gibbon,\n",
            "gibbons  gibbons or\n",
            "pocahontas  pocahontas also\n",
            "pocahontas  pocahontas p\n",
            "slings arrows  [CLS] 11 1 2 unit overview engageny hamlet's first three soliloquies analyze shakespeare develops hamlet's perspectives, first claudius's point view, lesson, students begin explore hamlet's soliloquy, one problems mentions slings arrows blunt\n",
            "slings arrows  [CLS]\n",
            "scout  scout sa\n",
            "scout  harper lee '\n",
            "fraternity  tee 15\n",
            "fraternity  lavalier g\n",
            "air  barak 8 sa\n",
            "air  surface air missile\n",
            "hippocratic oath  hippocratic oath literary\n",
            "hippocratic oath  [CLS]\n",
            "mcboing boing  boing little\n",
            "mcboing boing  [CLS]\n",
            "frau  german woman 4\n",
            "frau  marseille m\n",
            "poplar  tulip poplar continued\n",
            "poplar  poplar back\n",
            "gentlemen prefer blondes  lorelei lee ma\n",
            "gentlemen prefer blondes  gentlemen prefer blondes movie\n",
            "bombs  [CLS]\n",
            "bombs  u kombatminipig 5\n",
            "pituitary  anterior pituitary hormones\n",
            "pituitary  \n",
            "rikki tikki tavi  rikki tikki tavi hero\n",
            "rikki tikki tavi  rikki tikki tavi r\n",
            "finnish  etela suomen laani care\n",
            "finnish  finland girls\n",
            "wesley clark  wesley clark '\n",
            "wesley clark  wesley k clark biography\n",
            "san francisco  san francisco search\n",
            "san francisco  \n",
            "ireland  ireland wa\n",
            "ireland  leinster,\n",
            "lox  cork oliver p\n",
            "lox  proper bagel 129\n",
            "tea leaves  [CLS]\n",
            "tea leaves  aura llewellyn am\n",
            "macarthur  douglas characteristic\n",
            "macarthur  macarthur,\n",
            "sopranos  frank renzulli story\n",
            "sopranos  sopranos episode\n",
            "bering  bering sea s\n",
            "bering  bering sea,\n",
            "denver omelette  denver o\n",
            "denver omelette  mushrooms,\n",
            "jeremiah  jeremiah bull\n",
            "jeremiah  jeremiah bull\n",
            "cozy  tea cozy closed\n",
            "cozy  [CLS]\n",
            "norman schwarzkopf  norman schwarzkopf j\n",
            "norman schwarzkopf  [CLS]\n",
            "black sea  black sea basin\n",
            "black sea  \n",
            "kugel  lokshen kugel j\n",
            "kugel  kugel s\n",
            "jude  jude,\n",
            "jude  jude,\n",
            "brazil  \n",
            "brazil  brazil a\n",
            "knish  [CLS]\n",
            "knish  [CLS]\n",
            "amos  charles correll expand\n",
            "amos  \n",
            "tommy franks  franks,\n",
            "tommy franks  tommy franks,\n",
            "dick wolf  mark harm\n",
            "dick wolf  [CLS]\n",
            "lake maracaibo  \n",
            "lake maracaibo  [CLS]\n",
            "gefilte fish  gefilte fish\n",
            "gefilte fish  [CLS]\n",
            "ezra  \n",
            "ezra  andrew dickson white e\n",
            "tea rose  tea rose e\n",
            "tea rose  samba perfume\n",
            "john glenn  [CLS]\n",
            "john glenn  john glenn am\n",
            "hank aaron  tuesday night,\n",
            "hank aaron  willie mays, willie mccovey left, home runs list, mays others giants star's sights barry bonds break henry aaron '\n",
            "vienna  vienna 2000\n",
            "vienna  [CLS]\n",
            "aquarium  [CLS]\n",
            "aquarium  [CLS]\n",
            "green mountains  snowy mountains j\n",
            "green mountains  [CLS] scenic resources frcog rated landscape along byway corridor long range views mountain range back filled, 12 segment scores trail sign located 12 mile west rotary green mountains vermont sional glimpse\n",
            "harry truman  harry truman presidential\n",
            "harry truman  harry truman library\n",
            "mount everest  mount everest topic\n",
            "mount everest  everest climb\n",
            "sculpture  sculpture study\n",
            "sculpture  sculpture grades\n",
            "horse  horse search\n",
            "horse  [CLS]\n",
            "john f kennedy  john f kennedy j\n",
            "john f kennedy  john f kennedy desk\n",
            "cy young  [CLS]\n",
            "cy young  cy young search\n",
            "vanity  vanity synonym\n",
            "vanity  vanity mean\n",
            "russia  russia r\n",
            "russia  caucasus mountains\n",
            "martina navratilova  [CLS]\n",
            "martina navratilova  martina navratilova en\n",
            "tempest  tempest search\n",
            "tempest  tempest 1989\n",
            "andes  andes large\n",
            "andes  [CLS] free flashcards natural history studystack geological evidence shows 5, 000 mile mountain chain may extend south antarctica, andes geologic\n",
            "turrets  [CLS]\n",
            "turrets  [CLS]\n",
            "salvation army  salvation army founded\n",
            "salvation army  salvation army\n",
            "go school  [CLS]\n",
            "go school  [CLS]\n",
            "ebay  ebay project\n",
            "ebay  ebay profile\n",
            "bloom  bloom 1\n",
            "bloom  [CLS] blossom define\n",
            "richmond  \n",
            "richmond  [CLS] 1861 history 1861 history brainyhistory january 1, porfirio diaz conquers mexico city february 6, 1st meeting provisional congress confederate states april 22, robert e lee named\n",
            "ugly betty  ugly one te\n",
            "ugly betty  ugly betty v\n",
            "google  google go\n",
            "google  [CLS] owner google search\n",
            "crush  \n",
            "crush  [CLS]\n",
            "windsor  windsor adopted\n",
            "windsor  windsor proclamation\n",
            "fbi  [CLS]\n",
            "fbi  [CLS]\n",
            "napster  [CLS]\n",
            "napster  riaa finishing\n",
            "july 4  [CLS]\n",
            "july 4  [CLS]\n",
            "identity  identity,\n",
            "identity  \n",
            "shield  [CLS] nypd requests 450 cops counterterrorism cop\n",
            "shield  new york city police\n",
            "solomon  barnes noble\n",
            "solomon  \n",
            "mark cuban  mark cuban expand\n",
            "mark cuban  mark cuban gene\n",
            "grover cleveland  grover cleveland jaw\n",
            "grover cleveland  grover cleveland underwent\n",
            "jericho  jericho started\n",
            "jericho  jericho series\n",
            "beowulf  beowulf new\n",
            "beowulf  beowulf new\n",
            "ethanol  ethanol ex\n",
            "ethanol  ethanol producer\n",
            "cloister  spain part\n",
            "cloister  [CLS]\n",
            "giant panda  \n",
            "giant panda  quarantine health\n",
            "edinburgh  edinburgh festival\n",
            "edinburgh  edinburgh festival\n",
            "screwdriver  screwdriver mix\n",
            "screwdriver  screwdriver 11\n",
            "lincoln  [CLS]\n",
            "lincoln  \n",
            "spring  [CLS]\n",
            "spring  [CLS]\n",
            "police  [CLS] frank black forum police reunion rumors posted 08 mar, 2007 concert tickets reunion tour going pretty expensive live recordings trio sting, andy summers steward copeland,\n",
            "police  police t\n",
            "christopher columbus  [CLS] cs4740 4 top docs 388 master astory cs4740 4 github place history, indeed,, statue san salvador island bahamas claimed spain crew would us believe christopher columbus buried\n",
            "christopher columbus  christopher columbus a\n",
            "pink  pink articles\n",
            "pink  [CLS]\n",
            "eva peron  eva peron search\n",
            "eva peron  eva peron '\n",
            "pyramid  [CLS]\n",
            "pyramid  [CLS]\n",
            "piracy  [CLS]\n",
            "piracy  [CLS]\n",
            "smashing pumpkins  smashing pumpkins me\n",
            "smashing pumpkins  billy corgan took\n",
            "brush  brush definition\n",
            "brush  brush word\n",
            "joe hill  joe hill 1879\n",
            "joe hill  joe hill,\n",
            "shiraz  sauvignon reserve\n",
            "shiraz  sauvignon displays\n",
            "diaghilev  [CLS]\n",
            "diaghilev  serge diaghilev r\n",
            "linkin park  linkin park concert\n",
            "linkin park  linkin park w\n",
            "rake  [CLS]\n",
            "rake  [CLS] lyrics containing term like people like people like people like us bonus tracks backyard babies people like people watchin'horny manatee feel\n",
            "jeremy bentham  jeremy bentham w\n",
            "jeremy bentham  bentham '\n",
            "troy  troy ancient\n",
            "troy  trojan war w\n",
            "rhodes  rhodes island yacht\n",
            "rhodes  turkey,\n",
            "jesse james  jesse james wanted\n",
            "jesse james  [CLS]\n",
            "coming home  john voight paralyzed\n",
            "coming home  [CLS]\n",
            "indira gandhi  indira gandhi in\n",
            "indira gandhi  indira gandhi becomes\n",
            "channel islands  heligoland always\n",
            "channel islands  channel islands new\n",
            "henry viii  [CLS]\n",
            "henry viii  edward ii\n",
            "safari  safari search\n",
            "safari  safari topics\n",
            "third degree  [CLS]\n",
            "third degree  third degree,\n",
            "edsel  edsel bryant ford born\n",
            "edsel  edsel bryant ford,\n",
            "gumbo  [CLS]\n",
            "gumbo  ngumbo became\n",
            "ross perot  ross perot business\n",
            "ross perot  [CLS]\n",
            "bahrain  bahrain facilities\n",
            "bahrain  [CLS] persian gulf war international law diplomacy role united nations iran iraq war geography gulf persian gulf, known arab riparian states arabian gulf, shallow southern entrance persian gulf connects gulf strait ho\n",
            "trek  trek search\n",
            "trek  [CLS]\n",
            "desert fox  \n",
            "desert fox  desert fox story\n",
            "jamaica  jamaica country\n",
            "jamaica  jamaica fantasy\n",
            "arthur james balfour  balfour declaration\n",
            "arthur james balfour  arthur balfour w\n",
            "bantu languages  bantu languages\n",
            "bantu languages  africa 0\n",
            "james watson  \n",
            "james watson  james dewey watson am\n",
            "cole porter  cole porter movie\n",
            "cole porter  [CLS]\n",
            "shells  shells,\n",
            "shells  [CLS] conchiglie pasta? pictures wisegeek large conchiglie pasta often stuffed cheese baked sauce conchiglie pasta shell like italian pasta shape comes range sizes, tiny shells soups jumbo shells stuffed baked baking called conchiglioni, used like manicotti large\n",
            "dams  trout migrate\n",
            "dams  \n",
            "sticks stones  [CLS]\n",
            "sticks stones  sticks stones may\n",
            "fever  fever adults\n",
            "fever  fever j\n",
            "cole porter  cole porter daily\n",
            "cole porter  cole porter,\n",
            "heart  love oedaday, moment winnie kevin realize love love maplewood '\n",
            "heart  \n",
            "united states  monsanto pollution\n",
            "united states  [CLS]\n",
            "bagpipe  bagpipe ethnic\n",
            "bagpipe  bagpipes heritage\n",
            "believer  i'm believer monk\n",
            "believer  magic beans imagine\n",
            "volunteer  new york city fire department w\n",
            "volunteer  new york scrapers additional\n",
            "george cohan  george cohan sings\n",
            "george cohan  george cohan,\n",
            "caviar  caviar to\n",
            "caviar  \n",
            "witches  cauldron w\n",
            "witches  cauldron bubble\n",
            "oysters  oyster happy\n",
            "oysters  oyster bar c\n",
            "tooth  [CLS] level 4 obscure words, memrise divination means finger dactylogram appearing like shaped like god dendrochronology study tree rings dendroid tree like resembling tree denticle small\n",
            "tooth  deiparous den\n",
            "trout  trout group\n",
            "trout  trout salmon\n",
            "yom kippur  yom kippur eve\n",
            "yom kippur  yom kippur begins\n",
            "cantilever  cantilevers article\n",
            "cantilever  girder fixed\n",
            "trapezoid  trapezoid four\n",
            "trapezoid  [CLS]\n",
            "chinook  [CLS] chris hull sd game fish parks state south dakota state visitors, give highest priority welfare state's wildlife parks, environ shares brookings home\n",
            "chinook  [CLS]\n",
            "achievement  junior achievement re\n",
            "achievement  southern alberta linked\n",
            "constantine  [CLS]\n",
            "constantine  [CLS]\n",
            "gomer pyle  [CLS]\n",
            "gomer pyle  [CLS]\n",
            "earthquakes  earthquakes intensity\n",
            "earthquakes  earthquake intensity\n",
            "maya angelou  [CLS]\n",
            "maya angelou  maya angelou cage\n",
            "burp  burping be\n",
            "burp  [CLS]\n",
            "south vietnam  south vietnam 1955\n",
            "south vietnam  vietnam scholar\n",
            "gomez  gomez quotes\n",
            "gomez  gomez,\n",
            "new zealand  [CLS]\n",
            "new zealand  [CLS]\n",
            "newport  newport,\n",
            "newport  newport,\n",
            "rabbie burns  [CLS] wee, sleekit, cowrin,\n",
            "rabbie burns  [CLS] wee, sleekit, cowrin,\n",
            "belly  big belly cross\n",
            "belly  \n",
            "cochise  [CLS]\n",
            "cochise  [CLS]\n",
            "limestone  limestone 6\n",
            "limestone  maison sijilmassa consulting\n",
            "edward lear  giclee print edward lear all\n",
            "edward lear  edward lear old\n",
            "bible  [CLS]\n",
            "bible  marketing books\n",
            "saint thomas  [CLS]\n",
            "saint thomas  thomas the\n",
            "macgyver  macgyver search\n",
            "macgyver  macgyver first\n",
            "hydrology  hydrology rock\n",
            "hydrology  [CLS]\n",
            "old manse  old manse re\n",
            "old manse  old manse included\n",
            "alexander pope  alexander pope quotes\n",
            "alexander pope  calor negrito ins\n",
            "bevy  bevy be\n",
            "bevy  [CLS]\n",
            "professor  skipper's real name gilligan's island jonas grumby professor\n",
            "professor  russell johnson p\n",
            "canaries  [CLS]\n",
            "canaries  canary islands cruise\n",
            "ben jonson  ben jonson drink\n",
            "ben jonson  [CLS]\n",
            "beadle  beadle length\n",
            "beadle  sowerberry '\n",
            "krispy kreme  krispy kreme search id'll sip berries kreme chiller hot original glazed doughnut chain known conveyor belts full hot glazed donuts opened\n",
            "krispy kreme  [CLS] 1000 ideas krispy k\n",
            "trumpeter swan  trumpeter swan w\n",
            "trumpeter swan  tundra s\n",
            "opec  opec generally\n",
            "opec  opec oil\n",
            "herman melville  [CLS]\n",
            "herman melville  herman melville pink\n",
            "africa  africa yellow\n",
            "africa  raptor photos\n",
            "sears tower  willis tower highest\n",
            "sears tower  asia wonders\n",
            "chekhov  wisdom anton chekhov wisdom\n",
            "chekhov  chekhov known\n",
            "surrogate  surrogate offered\n",
            "surrogate  mary beth white\n",
            "crane  sandhill crane,\n",
            "crane  grus monacha hooded crane species\n",
            "winston churchill  winston churchill became\n",
            "winston churchill  winston churchill made\n",
            "john jakes  [CLS]\n",
            "john jakes  [CLS]\n",
            "mir  [CLS]\n",
            "mir  [CLS]\n",
            "rene lacoste  rene lacoste tennis\n",
            "rene lacoste  ren lacoste fashion\n",
            "edith wharton  edith wharton '\n",
            "edith wharton  [CLS]\n",
            "robert bork  robert bork known\n",
            "robert bork  robert bork dies\n",
            "potato chips  chips dip mar 22, 2012's favorite kind chips dip? potato chips invented\n",
            "potato chips  potato chips ho\n",
            "porcelain  [CLS] questions ceramics conservator, liverpool museums objects made materials also called ceramics sometimes earthenware thin\n",
            "porcelain  porcelain antique\n",
            "purple heart  purple heart hall\n",
            "purple heart  purple heart day\n",
            "sun  sun? jan 2, 2016 year, january 2, 2016, earth closest point swings within january're closest sun perihelion, distance 147 5 singer dropped without star ever arrested charged initial encounter, sgt maclachlan,\n",
            "sun  mars cseligman com discussion orbital motion mars relative earth sun,\n",
            "twilight zone  twilight zone tim burton science\n",
            "twilight zone  twilight zone movie\n",
            "archaic  wiktionary was\n",
            "archaic  [CLS]\n",
            "tuesday  esb folks\n",
            "tuesday  [CLS]\n",
            "john roberts  [CLS] noteworthy news sword lord coach kennedy decided stand religious beliefs, defied first major find israel year connected times jesus california hospitals refuse kill patients assisted suicides joined chief justice john roberts justice clarence thomas,\n",
            "john roberts  [CLS]\n",
            "ghost  ghost o\n",
            "ghost  ghost dictionary\n",
            "1972  \n",
            "1972  terror, triumph o\n",
            "daiquiri  gin often\n",
            "daiquiri  hemingway daiquiri da\n",
            "minnesota vikings  [CLS]\n",
            "minnesota vikings  minnesota vikings defensive\n",
            "obscenity  [CLS] paris adult theater v slaton paris adult theater atlanta, georgia, regularly showed films obscene chief justice burger justice brennan disputed legitimate government ever allowed regulate obscenity? justice douglas,\n",
            "obscenity  connick confusion\n",
            "mike wallace  mike wallace w\n",
            "mike wallace  andy rooney dies\n",
            "schindler 's list  \n",
            "schindler 's list  schindler '\n",
            "monk  [CLS] munich mcgill school computer science munich germany '\n",
            "monk  [CLS]\n",
            "au pair  au pair word\n",
            "au pair  au pair job\n",
            "king george iii  porphyria scientific\n",
            "king george iii  madness g\n",
            "clear present  oliver wendell ho\n",
            "clear present  [CLS]\n",
            "caiman  caiman re\n",
            "caiman  caiman re\n",
            "columbine  columbine flower\n",
            "columbine  columbine close\n",
            "front  [CLS]\n",
            "front  front occurs\n",
            "1941  ned beatty,\n",
            "1941  \n",
            "macduff  [CLS]\n",
            "macduff  [CLS] replying message wilmott jul 10, 2004 born infanta 1485, died kimbolton castle england 1536 official title princess dowager wales one\n",
            "sopranos  \n",
            "sopranos  [CLS] tao pauly bin\n",
            "senators  senate w\n",
            "senators  senate w\n",
            "tuberculosis  edgar allan poe museum within three years poe's birth parents died, taken poe's wife contracted tuberculosis,\n",
            "tuberculosis  tuberculosis literature\n",
            "alias  [CLS]\n",
            "alias  jack bristow,\n",
            "richard branson  [CLS] would sell bank richard branson? virgin tycoon j\n",
            "richard branson  [CLS] rumsfeld flying cuttlefish picayune ideal time use american troops allies stood wolfgang gerhardt fdp leadership, failed badly deutsche telekom richard branson '\n",
            "new york  buffalo,\n",
            "new york  [CLS]\n",
            "rue morgue  poe's murders rue morgue 1841\n",
            "rue morgue  \n",
            "nebraska  nebraska v\n",
            "nebraska  missouri,\n",
            "jack jill  jack jill dating\n",
            "jack jill  jack jill refers\n",
            "eight enough  eight enough season\n",
            "eight enough  eight enough w\n",
            "condi rice  condoleezza rice w\n",
            "condi rice  \n",
            "suffragist  [CLS] national association women's suffrage norway revolvy see also women's suffrage organizations list suffragists su express right vote opportunities vote, term universal suffrage early\n",
            "suffragist  suffragette w\n",
            "charles baudelaire  \n",
            "charles baudelaire  charles baudelaire flowers\n",
            "happy days  happy days complete\n",
            "happy days  \n",
            "gordon ramsey  chef ramsey awesome\n",
            "gordon ramsey  ramsay blast\n",
            "north dakota  \n",
            "north dakota  north dakota cities\n",
            "little tommy tucker  tommy tucker sings\n",
            "little tommy tucker  tommy tucker sang\n",
            "sisyphus  pelias eternal\n",
            "sisyphus  \n",
            "alabama  alabama search\n",
            "alabama  florida '\n",
            "mushrooms  \n",
            "mushrooms  mushroom kit\n",
            "valley forge  valley forge en\n",
            "valley forge  wilhelm baron\n",
            "utah  utah state\n",
            "utah  utah state\n",
            "casablanca  casablanca 1942\n",
            "casablanca  casablanca 1942\n",
            "latkes  latkes de\n",
            "latkes  [CLS]\n",
            "vienna  vienna story\n",
            "vienna  vienna euro\n",
            "terrorists  [CLS]\n",
            "terrorists  [CLS]\n",
            "sleep apnea  [CLS]\n",
            "sleep apnea  [CLS]\n",
            "hawaii  hawaii topics\n",
            "hawaii  hawaii state\n",
            "vietnam  france vietnam relations\n",
            "vietnam  gia long f\n",
            "bass  bass,\n",
            "bass  bass morone saxatilis find\n",
            "shakespeare love  shakespeare love\n",
            "shakespeare love  shakespeare love w\n",
            "volta  volta,\n",
            "volta  volta,\n",
            "bellwether  [CLS]\n",
            "bellwether  \n",
            "sailfish  [CLS]\n",
            "sailfish  sailfish easy\n",
            "forrest gump  forrest gump 1994\n",
            "forrest gump  forrest gump 1994\n",
            "scrapple  scrapple pork\n",
            "scrapple  [CLS]\n",
            "vilnius  lithuania guide\n",
            "vilnius  vilnius,\n",
            "anaconda  \n",
            "anaconda  [CLS]\n",
            "golda meir  [CLS]\n",
            "golda meir  [CLS] celebrity pictures, news gossip sodahead entertainment born kiev later u citizen, leader became prime minister 1969 country founded 20th century politics free\n",
            "mount rushmore  mount rushmore national\n",
            "mount rushmore  mount rushmore national\n",
            "temperature  [CLS]\n",
            "temperature  \n",
            "black death  black death paper\n",
            "black death  [CLS]\n",
            "marilyn monroe  richard meyer art\n",
            "marilyn monroe  marilyn monroe still\n",
            "abbott costello  \n",
            "abbott costello  abbott costello meet\n",
            "frank sinatra  [CLS] steve's dead rock stars 2016 steve covault photography continued together 1963 changes personnel two major successes belt, pearlman become music mogul frank sinatra j\n",
            "frank sinatra  sinatra frank note\n",
            "porcelain  porcelain,\n",
            "porcelain  \n",
            "jerry lewis  jerry lewis explained\n",
            "jerry lewis  jerry lewis w\n",
            "son sam  sam summer\n",
            "son sam  sam summer'77 record setting temperatures baked streets new york city oppressive heat, people new york terrorized killer unknown assailant quickly gained nickname, 44 caliber killer police, killer, david berkowitz,\n",
            "platinum  platinum jack\n",
            "platinum  platinum chemical\n",
            "amway  amway business\n",
            "amway  amway w\n",
            "tony award  tony award\n",
            "tony award  [CLS] revival'salesman'takes 4 tony awards'side man,'' fosse jun 7, 1999 robin pogrebin june 7, 1999 one closest races year's theater season, brian dennehy tony topping, mr miller received special tony award lifetime achievement ratings rosie o'donnell host\n",
            "ham  nile delta mi\n",
            "ham  ham,\n",
            "death row records  death row records\n",
            "death row records  death row records\n",
            "clark gable  clark gable\n",
            "clark gable  \n",
            "charles martel  charles hammer\n",
            "charles martel  charles martel de\n",
            "zirconium  zirconia introduced\n",
            "zirconium  diamond formula\n",
            "ross perot  ross perot w\n",
            "ross perot  ross perot entrepreneur\n",
            "willy loman  willy loman pointing\n",
            "willy loman  arthur mill\n",
            "gestalt  gestalt means\n",
            "gestalt  \n",
            "superbad  superbad s\n",
            "superbad  superbad film\n",
            "ebony  ebony search\n",
            "ebony  pianos china new\n",
            "monaco  monaco long\n",
            "monaco  monaco house\n",
            "lump  lump definition\n",
            "lump  lump '\n",
            "rush hour  [CLS] country old men 2007\n",
            "rush hour  rush hour 3 w\n",
            "novel  [CLS] great american novel useful\n",
            "novel  [CLS]\n",
            "montenegro  croatia slovenia broke\n",
            "montenegro  macedonia broke\n",
            "rely  [CLS]\n",
            "rely  [CLS]\n",
            "congo  \n",
            "congo  hawaii history\n",
            "plug  plug definition\n",
            "plug  \n",
            "b f skinner  b f skinner psychologist\n",
            "b f skinner  skinner behavior\n",
            "big chill  [CLS]\n",
            "big chill  [CLS]\n",
            "tarantella  [CLS]\n",
            "tarantella  [CLS] beautiful fraud world july 2012 jul 1, 2012 ironically named god bless america, story frank, rabbit slim's, 50's diner, participate dance contest jimmie played writer director, quentin tarantino film full colourful characters see rapid fire,\n",
            "morocco  morocco amazing\n",
            "morocco  morocco at\n",
            "glow  ladies glow source\n",
            "glow  [CLS]\n",
            "carl jung  carl jung psychology\n",
            "carl jung  carl gustav jung pu\n",
            "san marino  san marino w\n",
            "san marino  [CLS]\n",
            "urge  [CLS]\n",
            "urge  [CLS]\n",
            "asia  asia largest\n",
            "asia  asia largest\n",
            "pole vault  sportsbusiness daily\n",
            "pole vault  [CLS]\n",
            "sun  [CLS] student worksheet introduction two main forces acting solar system help determine structure first gravity force\n",
            "sun  moon b\n",
            "mayflower  mayflower docks\n",
            "mayflower  mayflower sailed\n",
            "liberty bell  liberty bell crack\n",
            "liberty bell  liberty bell museum\n",
            "capable  \n",
            "capable  goals,\n",
            "north america  [CLS] sort ascending order poet whittier written\n",
            "north america  viking america new\n",
            "marathon  hamilton marathon way\n",
            "marathon  shalane flanagan chase\n",
            "saturn  saturn saturn first\n",
            "saturn  saturn? reference com first person view saturn telescope, galileo galilei,\n",
            "french toast  french toast search\n",
            "french toast  french toast!\n",
            "vote  [CLS] 1000 ideas 19th amendment pin\n",
            "vote  [CLS] civil rights kids women's suffrage ducksters kids learn history women's suffrage fight right women allowed vote passage 19th amendment 1920\n",
            "easel  clipart paint\n",
            "easel  bluefig paint\n",
            "australia  australia,\n",
            "australia  \n",
            "4  [CLS]\n",
            "4  sprint relay\n",
            "venus  venus,\n",
            "venus  earth '\n",
            "head  hokey pokey many\n",
            "head  head span\n",
            "aquarium  \n",
            "aquarium  aquarium b\n",
            "wonderful  \n",
            "wonderful  river valley articles\n",
            "south america  south america ask\n",
            "south america  north america ask\n",
            "javelin  [CLS]\n",
            "javelin  \n",
            "halley 's comet  comet fall\n",
            "halley 's comet  halley's comet 76\n",
            "globe  william blake world's body science gilpin, george h 11 urizen depicted\n",
            "globe  oklahoma,\n",
            "sage  oak sage\n",
            "sage  tuscany jar\n",
            "europe  europe 12 lessons old divisions across continent europe r 1957 six countries sign treaties rome,\n",
            "europe  \n",
            "decathlon  [CLS] usa track field bryan clay bryan clay 2004 olympic silver medalist 8, 820 decathlon n\n",
            "decathlon  decathlon ch\n",
            "bear family  canidae,\n",
            "bear family  [CLS]\n",
            "amarillo  amarillo,\n",
            "amarillo  amarillo mean\n",
            "candor  centra centre\n",
            "candor  dressage can\n",
            "queen isabella  isabella pawn\n",
            "queen isabella  christopher columbus american indian genocide daniel n paul already occurred, would virtually impossible envision true intent words, initiated amerindian slave harvest first voyage drawings queen isabella pawn\n",
            "choir  \n",
            "choir  [CLS]\n",
            "hawaii  hawaii 2017\n",
            "hawaii  hawaii county\n",
            "clay  clay? clay ceramic\n",
            "clay  clay even\n",
            "ketchup  ketchup g\n",
            "ketchup  ketchup cats\n",
            "santa maria  christopher columbus santa su\n",
            "santa maria  christopher columbus new world encyclopedia jun 6, 2013 columbus first presented plan western route indies court united largest kingdoms spain ruling together ships property juan de la cosa pinzn brothers martin statue santa maria,\n",
            "nacho libre  coachella f\n",
            "nacho libre  nacho libre quotes\n",
            "hans christian andersen  hans christian andersen search\n",
            "hans christian andersen  hans christian andersen author\n",
            "genoa  genoa,\n",
            "genoa  [CLS] download file false legend christopher columbus's voyage columbus, cristoi'oro colombo it\n",
            "mary poppins  mary poppins video\n",
            "mary poppins  mary poppins j\n",
            "meg  meg march all\n",
            "meg  meg novel\n",
            "tempera  tempera w\n",
            "tempera  cholesterol rich\n",
            "san salvador  san salvador holy\n",
            "san salvador  san salvador holy\n",
            "aunt polly  \n",
            "aunt polly  becky falls love aunt polly,\n",
            "mandy moore  mandy moore cry\n",
            "mandy moore  mandy moore walk\n",
            "george washington  george washington refused\n",
            "george washington  george washington served\n",
            "india pakistan  [CLS]\n",
            "india pakistan  pakistani boundary\n",
            "carne  con carne original\n",
            "carne  carne w\n",
            "hangman  hangman search\n",
            "hangman  hangman game\n",
            "jet engine  \n",
            "jet engine  jet engine,\n",
            "strip  strip e\n",
            "strip  israel,\n",
            "alexander great  india g\n",
            "alexander great  alexander great\n",
            "steak tartare  [CLS]\n",
            "steak tartare  [CLS]\n",
            "roger federer  [CLS] 2007 tennis season orange room jul 7, 2007 bas 4 years time believe federer number\n",
            "roger federer  federer wins\n",
            "hypodermic syringe  hypodermic syringe re\n",
            "hypodermic syringe  \n",
            "gossip  gossip define\n",
            "gossip  porojo s\n",
            "pastrami  pastrami er\n",
            "pastrami  [CLS] foodlinx incorporated meat deli processed also cured smoked meats arranged category ham fully\n",
            "chess  chess 3000\n",
            "chess  chess,\n",
            "kim  kim rudyard k\n",
            "kim  [CLS]\n",
            "filet mignon  filet mignon file\n",
            "filet mignon  filet mignon t\n",
            "robert fulton  robert fulton,\n",
            "robert fulton  [CLS]\n",
            "courtship  courtship courts\n",
            "courtship  courtship miles\n",
            "sikhism  sikhism difference\n",
            "sikhism  \n",
            "x files  x files analysis\n",
            "x files  \n",
            "egyptians  [CLS]\n",
            "egyptians  \n",
            "pullman  pullman palace car\n",
            "pullman  george mortimer pullman builder\n",
            "parsnip  \n",
            "parsnip  [CLS]\n",
            "punctuation  robin watson br\n",
            "punctuation  bears,\n",
            "cleopatra  \n",
            "cleopatra  cleopatra source\n",
            "sally field  sally field like\n",
            "sally field  sally field 1985\n",
            "clowns  cirque pin\n",
            "clowns  clown portrait learn nc students become familiar artists pablo picasso red\n",
            "paris  les misrables closed\n",
            "paris  oklahoma city\n",
            "catherine great  \n",
            "catherine great  catherine great er\n",
            "jack palance  jack palance push\n",
            "jack palance  jack palance one\n",
            "pocahontas  pocahontas search\n",
            "pocahontas  \n",
            "hudson river  \n",
            "hudson river  hudson river school\n",
            "cyberpunk  science fiction genre\n",
            "cyberpunk  science fiction new\n",
            "benazir bhutto  benazir bhutto facts\n",
            "benazir bhutto  benazir bhutto 1st\n",
            "snow white  snow white '\n",
            "snow white  snow white played eileen bowman r\n",
            "disobedience  [CLS]\n",
            "disobedience  [CLS]\n",
            "lucrezia borgia  lucrezia borgia w\n",
            "lucrezia borgia  lucrezia borgia al\n",
            "annette bening  annette bening facts\n",
            "annette bening  tito jackson,\n",
            "hadrian 's wall  carlisle z\n",
            "hadrian 's wall  hadrian's wall,\n",
            "odysseus  odyssey 1\n",
            "odysseus  odysseys men\n",
            "stevie nicks  ray vaughan,\n",
            "stevie nicks  steve miller,\n",
            "ralph lauren  ralph lauren perfume\n",
            "ralph lauren  ralph lauren shirts\n",
            "naiad  [CLS]\n",
            "naiad  kyane c\n",
            "hard knock life  willow smith '\n",
            "hard knock life  \n",
            "robin givens  liquisearch robin cook american novelist born 1940, american doctor novelist robin robin givens born 1964, american actress robin goad born\n",
            "robin givens  [CLS] famous robins list famous people named robin ranker robin\n",
            "grommet  grommets matter\n",
            "grommet  [CLS]\n",
            "pat nixon  [CLS]\n",
            "pat nixon  [CLS]\n",
            "fish  fish oils\n",
            "fish  [CLS]\n",
            "gloves  evening glove w\n",
            "gloves  [CLS]\n",
            "po  po pet\n",
            "po  po red\n",
            "achilles  [CLS]\n",
            "achilles  [CLS]\n",
            "kim campbell  [CLS]\n",
            "kim campbell  oxford guide k\n",
            "ivory  [CLS]\n",
            "ivory  [CLS] ivory birds\n",
            "catsuit  catsuit open\n",
            "catsuit  catsuit world\n",
            "pygmalion  pygmalion mythology\n",
            "pygmalion  pygmalion galatea,\n",
            "razor clam  digging clams razor\n",
            "razor clam  geoducks catching\n",
            "charlotte corday  charlotte corday murdered\n",
            "charlotte corday  charlotte corday w\n",
            "ta  [CLS]\n",
            "ta  cockney rhyming slang\n",
            "indira gandhi  [CLS]\n",
            "indira gandhi  indira gandhi son\n",
            "elvis presley  elvis pressley evi films elvis presley star\n",
            "elvis presley  elvis presley 75\n",
            "ming  ming dynasty 136\n",
            "ming  ming dynasty\n",
            "afghanistan  afghanistan may\n",
            "afghanistan  afghanistan three\n",
            "burgundy  [CLS] wine demystified daily kos oct 24, 2015 evenn't drink, may want bring bottle dinner party also come white ros range dry sweet walk french wines,'ll called bordeaux burgundy red blends see wine california says\n",
            "burgundy  burgundy wine w\n",
            "mao  mao great\n",
            "mao  [CLS] great leap forward association asian studies great leap 1958, mao launched second five year plan, dubbed great leap forward movement bore characteristic faith china '\n",
            "stagecoach  march classic\n",
            "stagecoach  \n",
            "raphael  [CLS]\n",
            "raphael  raphael 148\n",
            "iceland  \n",
            "iceland  iceland greenland s\n",
            "bubonic plague  bubonic plague,\n",
            "bubonic plague  [CLS] 369 notes history maritime quarantine pose preventing spread infection deadly form day two arrival 1348 overseers public health venice first maritime quarantine station record established 1403 island santa fact\n",
            "alberto fujimori  alberto fujimori w\n",
            "alberto fujimori  alberto fujimori rise\n",
            "clint eastwood  clint eastwood '\n",
            "clint eastwood  clint eastwood screenplay\n",
            "gigabyte  [CLS] electronic discovery definitions uses computer e mail, web pages, word processing files, computer text document search retrieval, lotus 123 spreadsheet megabyte one million bytes eight million bits 1 terabyte 1\n",
            "gigabyte  kilobytes me\n",
            "helmut kohl  [CLS]\n",
            "helmut kohl  victoria post\n",
            "little big man  little big man 1970\n",
            "little big man  little big man film\n",
            "input output  efi bio\n",
            "input output  rom chip comes computer often called rom bios bioses always implemented flash memory rather rom java basic\n",
            "business  [CLS]\n",
            "business  business university pen\n",
            "haile selassie  haile selassie emperor\n",
            "haile selassie  haile selassie emperor\n",
            "bolivia  bolivia,\n",
            "bolivia  bolivia modern\n",
            "bucolic  drover adj arc\n",
            "bucolic  bucolic u\n",
            "cher  [CLS]\n",
            "cher  cher believe\n",
            "beijing  beijing shanghai trip\n",
            "beijing  beijing,\n"
          ]
        },
        {
          "output_type": "error",
          "ename": "KeyboardInterrupt",
          "evalue": "ignored",
          "traceback": [
            "\u001b[0;31m---------------------------------------------------------------------------\u001b[0m",
            "\u001b[0;31mKeyboardInterrupt\u001b[0m                         Traceback (most recent call last)",
            "\u001b[0;32m<ipython-input-52-a6b415095806>\u001b[0m in \u001b[0;36m<module>\u001b[0;34m\u001b[0m\n\u001b[1;32m      2\u001b[0m \u001b[0;32mfor\u001b[0m \u001b[0mi\u001b[0m \u001b[0;32min\u001b[0m \u001b[0mrange\u001b[0m\u001b[0;34m(\u001b[0m\u001b[0mvalid_df\u001b[0m\u001b[0;34m.\u001b[0m\u001b[0mshape\u001b[0m\u001b[0;34m[\u001b[0m\u001b[0;36m0\u001b[0m\u001b[0;34m]\u001b[0m\u001b[0;34m)\u001b[0m\u001b[0;34m:\u001b[0m\u001b[0;34m\u001b[0m\u001b[0;34m\u001b[0m\u001b[0m\n\u001b[1;32m      3\u001b[0m   \u001b[0mprint\u001b[0m\u001b[0;34m(\u001b[0m\u001b[0mvalid_df\u001b[0m\u001b[0;34m.\u001b[0m\u001b[0miloc\u001b[0m\u001b[0;34m[\u001b[0m\u001b[0mi\u001b[0m\u001b[0;34m]\u001b[0m\u001b[0;34m[\u001b[0m\u001b[0;34m\"answer\"\u001b[0m\u001b[0;34m]\u001b[0m\u001b[0;34m,\u001b[0m \u001b[0mvalid_df\u001b[0m\u001b[0;34m.\u001b[0m\u001b[0miloc\u001b[0m\u001b[0;34m[\u001b[0m\u001b[0mi\u001b[0m\u001b[0;34m]\u001b[0m\u001b[0;34m[\u001b[0m\u001b[0;34m'ans_pred'\u001b[0m\u001b[0;34m]\u001b[0m\u001b[0;34m)\u001b[0m\u001b[0;34m\u001b[0m\u001b[0;34m\u001b[0m\u001b[0m\n\u001b[0;32m----> 4\u001b[0;31m   \u001b[0mf1\u001b[0m \u001b[0;34m+=\u001b[0m \u001b[0mcompute_f1\u001b[0m\u001b[0;34m(\u001b[0m\u001b[0mvalid_df\u001b[0m\u001b[0;34m.\u001b[0m\u001b[0miloc\u001b[0m\u001b[0;34m[\u001b[0m\u001b[0mi\u001b[0m\u001b[0;34m]\u001b[0m\u001b[0;34m[\u001b[0m\u001b[0;34m\"answer\"\u001b[0m\u001b[0;34m]\u001b[0m\u001b[0;34m,\u001b[0m \u001b[0mvalid_df\u001b[0m\u001b[0;34m.\u001b[0m\u001b[0miloc\u001b[0m\u001b[0;34m[\u001b[0m\u001b[0mi\u001b[0m\u001b[0;34m]\u001b[0m\u001b[0;34m[\u001b[0m\u001b[0;34m'ans_pred'\u001b[0m\u001b[0;34m]\u001b[0m\u001b[0;34m)\u001b[0m\u001b[0;34m\u001b[0m\u001b[0;34m\u001b[0m\u001b[0m\n\u001b[0m\u001b[1;32m      5\u001b[0m \u001b[0mprint\u001b[0m\u001b[0;34m(\u001b[0m\u001b[0mf1\u001b[0m\u001b[0;34m)\u001b[0m\u001b[0;34m\u001b[0m\u001b[0;34m\u001b[0m\u001b[0m\n",
            "\u001b[0;32m/usr/local/lib/python3.7/dist-packages/pandas/core/indexing.py\u001b[0m in \u001b[0;36m__getitem__\u001b[0;34m(self, key)\u001b[0m\n\u001b[1;32m    929\u001b[0m \u001b[0;34m\u001b[0m\u001b[0m\n\u001b[1;32m    930\u001b[0m             \u001b[0mmaybe_callable\u001b[0m \u001b[0;34m=\u001b[0m \u001b[0mcom\u001b[0m\u001b[0;34m.\u001b[0m\u001b[0mapply_if_callable\u001b[0m\u001b[0;34m(\u001b[0m\u001b[0mkey\u001b[0m\u001b[0;34m,\u001b[0m \u001b[0mself\u001b[0m\u001b[0;34m.\u001b[0m\u001b[0mobj\u001b[0m\u001b[0;34m)\u001b[0m\u001b[0;34m\u001b[0m\u001b[0;34m\u001b[0m\u001b[0m\n\u001b[0;32m--> 931\u001b[0;31m             \u001b[0;32mreturn\u001b[0m \u001b[0mself\u001b[0m\u001b[0;34m.\u001b[0m\u001b[0m_getitem_axis\u001b[0m\u001b[0;34m(\u001b[0m\u001b[0mmaybe_callable\u001b[0m\u001b[0;34m,\u001b[0m \u001b[0maxis\u001b[0m\u001b[0;34m=\u001b[0m\u001b[0maxis\u001b[0m\u001b[0;34m)\u001b[0m\u001b[0;34m\u001b[0m\u001b[0;34m\u001b[0m\u001b[0m\n\u001b[0m\u001b[1;32m    932\u001b[0m \u001b[0;34m\u001b[0m\u001b[0m\n\u001b[1;32m    933\u001b[0m     \u001b[0;32mdef\u001b[0m \u001b[0m_is_scalar_access\u001b[0m\u001b[0;34m(\u001b[0m\u001b[0mself\u001b[0m\u001b[0;34m,\u001b[0m \u001b[0mkey\u001b[0m\u001b[0;34m:\u001b[0m \u001b[0mtuple\u001b[0m\u001b[0;34m)\u001b[0m\u001b[0;34m:\u001b[0m\u001b[0;34m\u001b[0m\u001b[0;34m\u001b[0m\u001b[0m\n",
            "\u001b[0;32m/usr/local/lib/python3.7/dist-packages/pandas/core/indexing.py\u001b[0m in \u001b[0;36m_getitem_axis\u001b[0;34m(self, key, axis)\u001b[0m\n\u001b[1;32m   1566\u001b[0m             \u001b[0mself\u001b[0m\u001b[0;34m.\u001b[0m\u001b[0m_validate_integer\u001b[0m\u001b[0;34m(\u001b[0m\u001b[0mkey\u001b[0m\u001b[0;34m,\u001b[0m \u001b[0maxis\u001b[0m\u001b[0;34m)\u001b[0m\u001b[0;34m\u001b[0m\u001b[0;34m\u001b[0m\u001b[0m\n\u001b[1;32m   1567\u001b[0m \u001b[0;34m\u001b[0m\u001b[0m\n\u001b[0;32m-> 1568\u001b[0;31m             \u001b[0;32mreturn\u001b[0m \u001b[0mself\u001b[0m\u001b[0;34m.\u001b[0m\u001b[0mobj\u001b[0m\u001b[0;34m.\u001b[0m\u001b[0m_ixs\u001b[0m\u001b[0;34m(\u001b[0m\u001b[0mkey\u001b[0m\u001b[0;34m,\u001b[0m \u001b[0maxis\u001b[0m\u001b[0;34m=\u001b[0m\u001b[0maxis\u001b[0m\u001b[0;34m)\u001b[0m\u001b[0;34m\u001b[0m\u001b[0;34m\u001b[0m\u001b[0m\n\u001b[0m\u001b[1;32m   1569\u001b[0m \u001b[0;34m\u001b[0m\u001b[0m\n\u001b[1;32m   1570\u001b[0m     \u001b[0;32mdef\u001b[0m \u001b[0m_get_slice_axis\u001b[0m\u001b[0;34m(\u001b[0m\u001b[0mself\u001b[0m\u001b[0;34m,\u001b[0m \u001b[0mslice_obj\u001b[0m\u001b[0;34m:\u001b[0m \u001b[0mslice\u001b[0m\u001b[0;34m,\u001b[0m \u001b[0maxis\u001b[0m\u001b[0;34m:\u001b[0m \u001b[0mint\u001b[0m\u001b[0;34m)\u001b[0m\u001b[0;34m:\u001b[0m\u001b[0;34m\u001b[0m\u001b[0;34m\u001b[0m\u001b[0m\n",
            "\u001b[0;32m/usr/local/lib/python3.7/dist-packages/pandas/core/frame.py\u001b[0m in \u001b[0;36m_ixs\u001b[0;34m(self, i, axis)\u001b[0m\n\u001b[1;32m   3384\u001b[0m                 \u001b[0mnew_values\u001b[0m\u001b[0;34m,\u001b[0m\u001b[0;34m\u001b[0m\u001b[0;34m\u001b[0m\u001b[0m\n\u001b[1;32m   3385\u001b[0m                 \u001b[0mindex\u001b[0m\u001b[0;34m=\u001b[0m\u001b[0mself\u001b[0m\u001b[0;34m.\u001b[0m\u001b[0mcolumns\u001b[0m\u001b[0;34m,\u001b[0m\u001b[0;34m\u001b[0m\u001b[0;34m\u001b[0m\u001b[0m\n\u001b[0;32m-> 3386\u001b[0;31m                 \u001b[0mname\u001b[0m\u001b[0;34m=\u001b[0m\u001b[0mself\u001b[0m\u001b[0;34m.\u001b[0m\u001b[0mindex\u001b[0m\u001b[0;34m[\u001b[0m\u001b[0mi\u001b[0m\u001b[0;34m]\u001b[0m\u001b[0;34m,\u001b[0m\u001b[0;34m\u001b[0m\u001b[0;34m\u001b[0m\u001b[0m\n\u001b[0m\u001b[1;32m   3387\u001b[0m                 \u001b[0mdtype\u001b[0m\u001b[0;34m=\u001b[0m\u001b[0mnew_values\u001b[0m\u001b[0;34m.\u001b[0m\u001b[0mdtype\u001b[0m\u001b[0;34m,\u001b[0m\u001b[0;34m\u001b[0m\u001b[0;34m\u001b[0m\u001b[0m\n\u001b[1;32m   3388\u001b[0m             )\n",
            "\u001b[0;32m/usr/local/lib/python3.7/dist-packages/pandas/core/indexes/range.py\u001b[0m in \u001b[0;36m__getitem__\u001b[0;34m(self, key)\u001b[0m\n\u001b[1;32m    824\u001b[0m             \u001b[0mnew_key\u001b[0m \u001b[0;34m=\u001b[0m \u001b[0mint\u001b[0m\u001b[0;34m(\u001b[0m\u001b[0mkey\u001b[0m\u001b[0;34m)\u001b[0m\u001b[0;34m\u001b[0m\u001b[0;34m\u001b[0m\u001b[0m\n\u001b[1;32m    825\u001b[0m             \u001b[0;32mtry\u001b[0m\u001b[0;34m:\u001b[0m\u001b[0;34m\u001b[0m\u001b[0;34m\u001b[0m\u001b[0m\n\u001b[0;32m--> 826\u001b[0;31m                 \u001b[0;32mreturn\u001b[0m \u001b[0mself\u001b[0m\u001b[0;34m.\u001b[0m\u001b[0m_range\u001b[0m\u001b[0;34m[\u001b[0m\u001b[0mnew_key\u001b[0m\u001b[0;34m]\u001b[0m\u001b[0;34m\u001b[0m\u001b[0;34m\u001b[0m\u001b[0m\n\u001b[0m\u001b[1;32m    827\u001b[0m             \u001b[0;32mexcept\u001b[0m \u001b[0mIndexError\u001b[0m \u001b[0;32mas\u001b[0m \u001b[0merr\u001b[0m\u001b[0;34m:\u001b[0m\u001b[0;34m\u001b[0m\u001b[0;34m\u001b[0m\u001b[0m\n\u001b[1;32m    828\u001b[0m                 raise IndexError(\n",
            "\u001b[0;31mKeyboardInterrupt\u001b[0m: "
          ]
        }
      ]
    },
    {
      "cell_type": "code",
      "source": [],
      "metadata": {
        "id": "d7ouhUubsptM"
      },
      "execution_count": null,
      "outputs": []
    }
  ]
}