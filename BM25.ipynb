{
  "nbformat": 4,
  "nbformat_minor": 0,
  "metadata": {
    "colab": {
      "provenance": [],
      "authorship_tag": "ABX9TyMsWyemEFVpUvNATibW2Vpj",
      "include_colab_link": true
    },
    "kernelspec": {
      "name": "python3",
      "display_name": "Python 3"
    },
    "language_info": {
      "name": "python"
    }
  },
  "cells": [
    {
      "cell_type": "markdown",
      "metadata": {
        "id": "view-in-github",
        "colab_type": "text"
      },
      "source": [
        "<a href=\"https://colab.research.google.com/github/siting1206/NLP_HW2/blob/main/BM25.ipynb\" target=\"_parent\"><img src=\"https://colab.research.google.com/assets/colab-badge.svg\" alt=\"Open In Colab\"/></a>"
      ]
    },
    {
      "cell_type": "code",
      "execution_count": 1,
      "metadata": {
        "id": "T3wMscmNomZB"
      },
      "outputs": [],
      "source": [
        "from gensim import corpora\n",
        "from gensim.summarization import bm25\n",
        "from nltk.stem.porter import PorterStemmer  \n",
        "from collections import namedtuple\n",
        "import regex as re\n",
        "import heapq\n",
        "p_stemmer = PorterStemmer()"
      ]
    },
    {
      "cell_type": "code",
      "source": [
        "from google.colab import drive\n",
        "drive.mount('/content/drive')"
      ],
      "metadata": {
        "colab": {
          "base_uri": "https://localhost:8080/"
        },
        "id": "JERs6ZFLphnG",
        "outputId": "6a9f73c2-fe7f-4365-8be0-0ee24c3caacc"
      },
      "execution_count": 2,
      "outputs": [
        {
          "output_type": "stream",
          "name": "stdout",
          "text": [
            "Mounted at /content/drive\n"
          ]
        }
      ]
    },
    {
      "cell_type": "code",
      "source": [
        "Tag = namedtuple(\"Tag\", [\"snippets\", \"question\", \"answer\"])\n",
        "\n",
        "# Load train/validation dataset definition\n",
        "def load_sequences(filename, sep=\"\\t\", notypes=False, test_data=False):\n",
        "    sequences = []\n",
        "    with open(filename) as fp:\n",
        "        seq = []\n",
        "        for line in fp:\n",
        "            line = line.strip()\n",
        "            if line:\n",
        "                line = line.replace(\" ||| \", \"\\t\")\n",
        "                line = line.split(sep)\n",
        "                seq.append(Tag(*line))\n",
        "            else:\n",
        "                sequences.append(seq)\n",
        "                seq = []\n",
        "        if seq:\n",
        "            sequences.append(seq)\n",
        "    return sequences"
      ],
      "metadata": {
        "id": "YlEWP6arqO7-"
      },
      "execution_count": 3,
      "outputs": []
    },
    {
      "cell_type": "code",
      "source": [
        "train_sequences = load_sequences(\"drive/MyDrive/NLP_assignment2/Dataset/train.txt\", sep=\"\\t\", notypes=True)"
      ],
      "metadata": {
        "id": "Mu-cQsi0poBu"
      },
      "execution_count": 4,
      "outputs": []
    },
    {
      "cell_type": "code",
      "source": [
        "train_snippets = [[t[0] for t in seq] for seq in (train_sequences)] # length = 99820\n",
        "train_question = [[t[1] for t in seq] for seq in (train_sequences)]\n",
        "train_answer = [[t[2] for t in seq] for seq in (train_sequences)]"
      ],
      "metadata": {
        "id": "u5BhGDUzDPCB"
      },
      "execution_count": 15,
      "outputs": []
    },
    {
      "cell_type": "code",
      "source": [
        "def sort_index(lst, rev=True):\n",
        "    index = range(len(lst))\n",
        "    s = sorted(index, reverse=rev, key=lambda i: lst[i])\n",
        "    return s"
      ],
      "metadata": {
        "id": "_fr9VOwzPgqK"
      },
      "execution_count": 16,
      "outputs": []
    },
    {
      "cell_type": "code",
      "source": [
        "for i in range(0, len(train_snippets[0])):\n",
        "  train_snippets[0][i] = re.findall('<s> (.*?) </s>', train_snippets[0][i])\n",
        "  train_answer[0][i] = train_answer[0][i].split()"
      ],
      "metadata": {
        "id": "IW_Sel_1DaHR"
      },
      "execution_count": 17,
      "outputs": []
    },
    {
      "cell_type": "code",
      "source": [
        "article_list =[]\n",
        "for a in train_snippets[0][0]:\n",
        "    a_split = a.replace('?',' ').replace('(',' ').replace(')',' ').split(' ')\n",
        "    # 詞干提取(e.g. assignment->assign, words->word)\n",
        "    stemmed_tokens = [p_stemmer.stem(i) for i in a_split]  \n",
        "    article_list.append(stemmed_tokens)\n",
        "\n",
        "print(article_list)\n",
        "query =[train_answer[0][0]]\n",
        "print(query[0])\n",
        "query_stemmed = [p_stemmer.stem(i) for i in query[0]]  \n",
        "print('query_stemmed :',query_stemmed )\n",
        "\n",
        "# bm25模型\n",
        "bm25Model = bm25.BM25(article_list)\n",
        "# 逆文件頻率\n",
        "average_idf = sum(map(lambda k: float(bm25Model.idf[k]), bm25Model.idf.keys())) / len(bm25Model.idf.keys())\n",
        "scores = bm25Model.get_scores(query_stemmed,average_idf)\n",
        "print('scores :',scores)\n",
        "max_index = sort_index(scores)[:3]\n",
        "trn_s = []\n",
        "for i in range(0, len(max_index)):\n",
        "  n = max_index[i]\n",
        "  trn_s.append(train_snippets[0][0][n])\n",
        "# print(trn_s)"
      ],
      "metadata": {
        "colab": {
          "base_uri": "https://localhost:8080/"
        },
        "id": "j7P4COAPG7yd",
        "outputId": "53a97d36-3739-414f-8002-cc3615e57a94"
      },
      "execution_count": 18,
      "outputs": [
        {
          "output_type": "stream",
          "name": "stdout",
          "text": [
            "[['assign', '13', 'nov', '30', ',', '2014', '3', 'letter', 'word', '200', 'question', '1', 'last', '8', 'year', 'life', ',', 'galileo', 'hous', 'arrest', 'espous', 'man', \"'s\", 'theori', '2'], ['galileo', 'affair', 'wikipedia', 'galileo', 'affair', 'sequenc', 'event', ',', 'begin', 'around', '1610', ',', 'culmin', 'trial', '1632', 'galileo', ',', 'old', 'man', ',', 'publish', 'dialogu', 'concern', 'two', 'chief', 'galileo', 'kept', 'hous', 'arrest', 'death', '1642', 'heliocentr', ',', 'theori', 'earth', 'planet', ',', 'along'], ['galileo', 'get', 'troubl', 'right', ',', 'jerk', 'io9', 'sep', '15', ',', '2011', 'galileo', 'face', 'stiff', 'odd', 'publish', 'dialogu', 'concern', 'galileo', 'spend', 'last', 'year', 'life', 'hous', 'arrest', 'fair', 'mind', ',', 'formal', 'grant', 'galileo', 'write', 'theori', 'one', 'espous', 'aristotelian', 'geocentr', 'view', '8', '23', '17', '6k'], ['web', 'navig', 'last', '8', 'year', 'life', ',', 'galileo', 'hous', 'arrest', 'espous', 'man', \"'s\", 'theori', 'winter', '1971', '72', ',', 'record', '1', ',', '122', 'inch', 'snow', 'fell'], ['costco', 'river', 'cree', 'hour', 'jun', '17', ',', '2013', 'histori', 'last', '8', 'year', 'life', ',', 'galileo', 'hous', 'arrest', 'espous', 'man', \"'s\", 'theori', 'copernicu', 'espn', \"'s\", 'top', '10', 'time'], ['age', 'milton', 'encyclopedia', 'major', '17th', 'centuri', 'british', 'googl', 'book', 'result', ''], ['w', 'fowl', 'farm', 'w', 'fowl', 'farm', 'jun', '17', ',', '2013', 'histori', 'last', '8', 'year', 'life', ',', 'galileo', 'hous', 'arrest', 'espous', 'man', \"'s\", 'theori', 'copernicu', 'espn', \"'s\", 'top', '10', 'time'], ['jeremi', 'chandler', 'fowl', 'roundhead', ',', 'sweater', ',', 'hatch', 'jun', '17', ',', '2013', 'histori', 'last', '8', 'year', 'life', ',', 'galileo', 'hous', 'arrest', 'espous', 'man', \"'s\", 'theori', 'copernicu', 'espn', \"'s\", 'top', '10', 'time'], ['lebowski', 'sweater', 'replica', 'jun', '17', ',', '2013', 'histori', 'last', '8', 'year', 'life', ',', 'galileo', 'hous', 'arrest', 'espous', 'man', \"'s\", 'theori', 'copernicu', 'espn', \"'s\", 'top', '10', 'time'], ['galileo', 'controversi', 'strang', 'notion', 'may', '17', ',', '2013', 'ten', 'year', 'prior', 'galileo', ',', 'johann', 'kepler', 'publish', 'heliocentr', 'work', 'expand', \"copernicus'\", 'work', 'copernicu', 'refrain', 'publish', 'heliocentr', 'theori', 'straw', 'man', 'argument', 'repres', 'cathol', 'church', 'put', 'hous', 'arrest', 'remaind', 'life'], ['use', 'ventriloquist', 'doll', 'alberta', 'jun', '17', ',', '2013', 'histori', 'last', '8', 'year', 'life', ',', 'galileo', 'hous', 'arrest', 'espous', 'man', \"'s\", 'theori', 'copernicu', 'espn', \"'s\", 'top', '10', 'time'], ['recip', 'tickl', 'peppermint', 'moonshin', 'result', '1', '10', '3440', 'jun', '17', ',', '2013', 'histori', 'last', '8', 'year', 'life', ',', 'galileo', 'hous', 'arrest', 'espous', 'man', \"'s\", 'theori', 'copernicu', 'espn', \"'s\"], ['imag', 'knickerless', 'women', 'jun', '17', ',', '2013', 'histori', 'last', '8', 'year', 'life', ',', 'galileo', 'hous', 'arrest', 'espous', 'man', \"'s\", 'theori', 'copernicu', 'espn', \"'s\", 'top', '10', 'time'], ['christa', 'mcauliff', 'autopsi', 'jun', '17', ',', '2013', 'histori', 'last', '8', 'year', 'life', ',', 'galileo', 'hous', 'arrest', 'espous', 'man', \"'s\", 'theori', 'copernicu', 'espn', \"'s\", 'top', '10', 'time'], ['avonlea', 'saskatchewan', 'gun', 'shop', 'jun', '17', ',', '2013', 'histori', 'last', '8', 'year', 'life', ',', 'galileo', 'hous', 'arrest', 'espous', 'man', \"'s\", 'theori', 'copernicu', 'espn', \"'s\", 'top', '10', 'time'], ['mari', 'nightingal', 'botox', 'jun', '17', ',', '2013', 'histori', 'last', '8', 'year', 'life', ',', 'galileo', 'hous', 'arrest', 'espous', 'man', \"'s\", 'theori', 'copernicu', 'espn', \"'s\", 'top', '10', 'time'], ['prosper', 'jiggi', 'card', 'compani', 'jun', '17', ',', '2013', 'histori', 'last', '8', 'year', 'life', ',', 'galileo', 'hous', 'arrest', 'espous', 'man', \"'s\", 'theori', 'copernicu', 'espn', \"'s\", 'top', '10', 'time'], ['review', 'dee', 'zee', 'dz91752sb', 'long', 'rectangl', 'skinni', 'jan', '5', ',', '2014', 'histori', 'last', '8', 'year', 'life', ',', 'galileo', 'hous', 'arrest', 'espous', 'man', \"'s\", 'theori', 'copernicu', 'espn', \"'s\", 'top', '10', 'time'], ['pdf', 'arxiv', 'org', 'may', '20', ',', '2016', 'last', '8', 'year', 'life', ',', 'galileo', 'copernicu', 'hous', 'arrest', 'espous', 'man', \"'s\", 'theori', 'winter', '1971', '72', ',', 'record'], ['trace', 'arc', 'galileo', \"'s\", 'life', 'proclaim', 'earth', 'noth', 'sep', '29', ',', '1995', 'trace', 'arc', 'galileo', \"'s\", 'life', 'proclaim', 'earth', 'noth', 'astronom', 'galileo', 'galilei', 'began', 'espous', 'copernican', 'theori', 'year', 'mathemat', 'professor', 'univers', 'live', 'day', 'hous', 'arrest', 'villa', 'outsid', 'florenc', 'jbm', '8', 'believ', 'founder'], ['galileo', 'galilei', 'essay', 'critic', 'essay', 'enot', 'com', 'essay', 'critic', 'galileo', 'galilei', 'critic', 'essay', 'inquisit', 'espous', 'heliocentr', 'world', 'system', ',', 'violat', 'cathol', 'church', 'center', 'univers', ',', 'spent', 'last', 'year', 'life', 'hous', 'arrest', 'theori', 'motion', 'graviti', 'led', 'conflict', 'academ', 'peer', ','], ['galileo', 'galilei', ',', 'galileo', '1564', '1642', 'world', 'david', 'darl', 'galileo', 'galilei', 'great', 'italian', 'astronom', 'physicist', ',', 'among', 'mani', 'age', '69', ',', 'sentenc', 'life', 'imprison', 'commut', 'hous', 'arrest', 'galileo', 'galilei', 'born', 'pisa', '1564', ',', 'year', 'shakespear', ',', 'although', 'theori', 'impetu', ',', 'becam', 'known', ',', 'still', 'flaw'], ['wacki', 'word', 'revisit', 'ernest', 'coutur', 'answer', 'jun', '17', ',', '2013', 'histori', 'last', '8', 'year', 'life', ',', 'galileo', 'hous', 'arrest', 'espous', 'man', \"'s\", 'theori', 'copernicu', 'espn', \"'s\", 'top', '10', 'time'], [\"'da\", 'vinci', \"'s\", \"demons'\", 'dvd', 'review', 'compel', 'lead', 'bog', 'sep', '15', ',', '2013', 'clearli', ',', 'fantasi', 'version', 'man', ',', 'produc', 'fun', ',', 'show', 'shine', 'focus', 'da', 'vinci', 'invent', 'new', 'two', 'great', 'system', ',', 'clear', 'public', '8', 'year', 'trial', 'galileo', 'sentenc', 'life', 'prison', 'serv', 'hous', 'arrest'], ['scienc', ',', 'religion', ',', 'myth', '8', 'galileo', 'goe', 'jail', 'common', 'oct', '19', ',', '2011', 'scienc', ',', 'religion', ',', 'myth', '8', 'galileo', 'goe', 'jail', 'spent', 'last', 'nine', 'year', 'life', 'hous', 'arrest', 'villa', 'outsid', 'florenc', 'perhap', 'especi', 'held', 'respect', 'man', 'galileo', ',', '1616', 'reject', 'holi', 'see', ',', 'espous', 'copernican', 'theori', ','], ['antiqu', 'philadelphia', 'xxx', 'porter', 'ale', 'bottl', 'jun', '17', ',', '2013', 'histori', 'last', '8', 'year', 'life', ',', 'galileo', 'hous', 'arrest', 'espous', 'man', \"'s\", 'theori', 'copernicu', 'espn', \"'s\", 'top', '10', 'time'], ['scienc', 'religion', 'cqr', 'mar', '22', ',', '2013', 'centuri', 'half', 'charl', 'darwin', 'publish', 'theori', '8', 'major', 'american', 'public', '61', 'percent', 'accept', 'man', 'mere', 'random', 'product', 'evolut', 'place', 'requir', 'disavow', 'copernicu', 'spent', 'last', 'nine', 'year', 'life', 'hous', 'arrest', '43'], ['amp', 'w', 'fowl', 'farm', 'amp', 'w', 'fowl', 'farm', 'jun', '17', ',', '2013', 'histori', 'last', '8', 'year', 'life', ',', 'galileo', 'hous', 'arrest', 'espous', 'man', \"'s\", 'theori', 'copernicu', 'espn', \"'s\", 'top', '10', 'time'], ['teacher', 'centric', 'univers', ',', 'galileo', 'would', 'asham', 'dec', '9', ',', '2013', \"'d\", 'last', 'studi', 'subject', '8th', 'grade', ',', 'made', 'fun', 'year', ',', 'fun', 'felt', 'exhaust', ',', 'wild', 'eye', 'relief', 'shipwreck', 'man', 'crawl', 'onto', 'dri', 'land', 'put', 'galileo', 'hous', 'arrest', 'espous', 'heliocentr', 'year', ',', 'book', 'stood', 'definit', 'text', 'planetari', 'astronomi'], ['galileo', 'galilei', 'introduct', 'galileo', 'galilei', '15641642', 'one', 'galileo', 'made', 'import', 'improv', 'telescop', ',', 'enabl', 'make', 'great', 'galileo', \"'s\", 'assert', 'defens', 'copernican', 'heliocentr', 'brought', 'hous', 'arrest', 'rest', 'life', ',', 'although', 'idea', 'circul', 'wide', 'among', 'salviati', 'espous', 'sever', 'galileo', \"'s\", 'theori', 'book'], ['brecht', \"'s\", 'leben', 'de', 'galilei', 'modern', 'scientist', 'voyeur', 'jstor', 'spectat', 'see', 'galileo', 'last', 'time', 'fourteen', 'scene', 'later', 'still', 'eat', 'still', 'engag', 'scientif', 'research', ',', 'hous', 'arrest', ','], ['hors', 'sleazi', 'patternor', 'jun', '17', ',', '2013', 'histori', 'last', '8', 'year', 'life', ',', 'galileo', 'hous', 'arrest', 'espous', 'man', \"'s\", 'theori', 'copernicu', 'espn', \"'s\", 'top', '10', 'time'], ['life', 'time', 'galileo', 'illinoi', 'state', 'univers', 'note', 'written', 'later', 'year', ',', 'galileo', 'indic', 'particularli', 'galileo', ',', 'prone', 'sharpli', 'critic', 'unsubstanti', 'statement', 'theori', 'known', 'nicola', 'copernicu', 'espous', 'champion', 'galileo', 'motion', ',', 'mar', ',', 'defer', 'orbit', 'earth', 'two', 'year'], ['bbc', 'testament', 'galileo', 'realli', 'happen', '', 'jun', '27', ',', '2010', 'church', 'author', 'day', ',', 'galileo', \"'s\", 'claim', ',', 'perhap', 'peopl', 'luxuri', 'hous', 'arrest', 'realli', 'show', 'time', 'inquisit', 'lock', '27', 'year', 'comment', 'number', '8', 'copernicu', \"'s\", 'theori', 'less', ',', 'galileo', \"n't\", 'man', 'let', 'littl'], ['snowboard', 'jacket', 'blacken', 'tuna', 'dec', '12', ',', '2013', 'histori', 'last', '8', 'year', 'life', ',', 'galileo', 'hous', 'arrest', 'espous', 'man', \"'s\", 'theori', 'copernicu', 'espn', \"'s\", 'top', '10', 'time'], ['amazon', 'com', 'graczewski', \"'s\", 'review', 'februari', '1616', 'papaci', 'issu', 'decre', 'denounc', 'galileo', \"'s\", 'theori', ',', 'elect', 'pope', 'urban', 'viii', ',', 'man', 'florenc', 'commit', 'patron', 'scienc', '1633', ',', 'much', 'everyon', \"'s\", 'surpris', ',', 'albeit', 'hous', 'arrest', 'last', 'breath', 'galileo', 'refus', 'conced', 'confess', 'heresi'], ['corrupt', 'scienc', 'institut', 'scienc', 'societi', 'may', '19', ',', '2014', 'galileo', 'excommun', ',', 'book', 'ban', ',', 'place', 'hous', 'arrest', 'life', 'forc', 'recant', 'somehow', 'come', 'place', 'scientif', 'theori', 'data', 'year', 'ddt', 'ban', ',', 'maker', 'present', 'us', 'glyphos', ','], ['galileo', \"'s\", 'retort', 'peter', 'huber', \"'s\", 'junk', 'scholarship', 'digit', 'common', 'sep', '14', ',', '1992', 'year', 'life', 'hous', 'arrest', '3', 'galileo', '8', 'point', 'galileo', \"'s\", 'reveng', 'junk', 'scienc', 'accord', 'huber', ',', 'galileo', 'enjoy', 'last', 'laugh', 'ex', 'huber', 'man', 'clear', 'vision', 'extraordinari', 'talent', 'destin', 'becom', 'major', 'fit', 'theori', 'espous'], ['13', '2', '5', 'galileo', 'msw', '8', 'discuss', 'galileo', \"'s\", 'use', 'platon', 'dialogu', '9', 'argument', 'galileo', 'use', 'earli', 'year', 'much', 'mediev', 'man', 'even', 'wors', 'punish', 'kept', 'confin', 'hous', 'arrest', 'death', 'life', 'henceforth', 'depend', 'accept', 'copernican', 'theori'], ['galileo', 'galilei', '', 'univers', 'today', 'jul', '5', ',', '2016', 'within', 'field', 'astronomi', 'galileo', 'made', 'endur', 'impact', 'uncl', 'muzio', 'tedaldi', 'relat', 'mother', 'marriag', 'two', 'year', 'univers', 'interest', 'astronomi', 'copernican', 'theori', '1634', ',', 'spent', 'remaind', 'life', 'hous', 'arrest'], ['galileo', 'get', 'troubl', 'right', ',', 'free', 'republ', 'sep', '15', ',', '2011', 'galileo', 'face', 'stiff', 'odd', 'publish', 'dialogu', 'concern', 'galileo', 'spend', 'last', 'year', 'life', 'hous', 'arrest', 'perhap', 'fair', 'mind', ',', 'formal', 'grant', 'galileo', 'write', 'theori', 'effort', 'end', 'galileo', \"'s\", 'hous', 'arrest', ',', 'even', 'toward', 'end', 'man', \"'s\", 'life'], ['homosexu', 'may', 'caus', 'chemic', 'modif', 'dna', 'michael', 'balter', 'oct', '8', ',', '2015', ',', '9', '45', 'identif', 'xq28', 'sampl', 'size', '10', 'time', 'larger', 'last', 'year', 'exampl', ',', 'ident', 'twin', 'gay', 'man', ',', 'despit', 'scienc', ',', 'debat', 'theori', 'go', 'grain', 'tortur', ',', 'place', 'hous', 'arrest', 'rest', 'life'], ['trial', 'galileo', '1633', 'ce', 'intern', 'hate', 'sport', 'club', 'kid', 'age', '9', '10', 'year', 'favorit', 'comic', 'book', 'hero', 'like', 'live', 'real', 'life', ',', 'also', 'suffer', 'real', 'pain', 'toward', 'final', 'year', 'life', 'pope', 'urban', 'viii', 'tell', 'galileo', 'discuss', 'copernican', 'theori', 'long', 'galileo', 'allow', 'serv', 'term', 'hous', 'arrest', 'home'], ['26', 'januari', '2011', 'paul', \"'s\", 'voyag', 'discoveri', 'etc', 'jan', '26', ',', '2011', 'leonardo', 'quintessenti', 'renaiss', 'man', 'painter', ',', 'draftsman', ',', 'sculptor', ',', 'galileo', 'galilei', '1564', '1642', 'second', 'great', 'italian', 'list', ',', 'galileo', 'recant', 'spent', 'last', 'seven', 'year', 'life', 'hous', 'arrest', 'nice', '8', 'abraham', 'lincoln', '1809', '1865', 'born', 'log', 'cabin', 'larg'], ['electropaedia', 'histori', 'scienc', 'technolog', ',', 'develop', 'recent', 'year', 'batteri', 'chang', 'recognit', 'egypt', 'also', 'home', 'imhotep', 'first', 'man', 'scienc', 'record', 'histori', 'none', 'pythagora', 'write', 'surviv', 'knowledg', 'life', 'work', 'base', 'urban', 'viii', 'index', 'ban', 'book', 'galileo', 'place', 'hous', 'arrest'], ['compass', 'trial', 'galileo', 'abc', 'tv', 'may', '9', ',', '2010', '8', '31', ',', 'poldark', 'galileo', 'found', 'guilti', 'support', 'copernican', 'theori', 'earth', 'galileo', 'die', 'man', 'faith', ',', 'say', 'priest', 'cath', 'news', 'asia', 'articl', 'age', '68', ',', 'galileo', 'galilei', 'stood', 'lose', 'everyth', 'even', 'life', 'remain', 'hous', 'arrest', 'die', '9', 'year', 'later'], ['galileo', 'galilei', 'citelight', 'galileo', 'galilei', 'italian', 'pronunci', '15', 'februari', '1564', '8', 'januari', '1642', ',', '17th', 'centuri', 'astronom', 'galileo', 'galilei', ',', 'whose', 'scientif', 'theori', 'drew', 'wrath', 'spent', 'last', 'nine', 'year', 'life', 'hous', 'arrest', 'object', 'nine', 'time', 'would', 'forev', 'chang', 'man', \"'s\", 'understand', 'univers'], ['corrupt', 'scienc', 'may', '20', ',', '2014', 'galileo', 'excommun', ',', 'book', 'ban', ',', 'place', 'hous', 'arrest', 'life', 'forc', 'recant', 'somehow', 'come', 'place', 'scientif', 'theori', 'data', 'year', 'ddt', 'ban', ',', 'maker', 'present', 'us', 'may', '30', ',', '2014', '8', '58'], ['scienc', 'technolog', 'difficult', 'birth', 'religi', 'continu', 'claim', 'man', 'earth', 'center', 'copernicu', 'hesit', 'publish', 'theori', 'comput', 'inflam', 'church', 'kept', 'hous', 'arrest', 'last', 'eight', 'year', 'life', 'histori', 'sinc', 'credit', 'galileo', 'founder', 'experiment'], ['galileo', 'galilei', ',', 'erstausgab', 'abebook', 'first', 'part', 'contain', ',', 'galileu', 'galileu', 'system', 'world', 'von', 'year', 'forbidden', 'teach', 'copernican', 'theori', ',', '1632', 'galileo', 'given', 'perman', 'hous', 'arrest', ',', 'print', 'work', 'forbidden', 'second', 'volum', 'contain', 'first', 'book', 'length', 'depict', 'galileo', \"'s\", 'life'], ['galileo', 'project', '', '']]\n",
            "['copernicus']\n",
            "query_stemmed : ['copernicu']\n",
            "scores : [0, 0, 0, 0, 0.21336878027864611, 0, 0.2073532236220386, 0.20166756218397197, 0.21650937385701638, 0.18633920222883005, 0.21336878027864611, 0.2103179962107407, 0.21650937385701638, 0.21650937385701638, 0.21336878027864611, 0.21650937385701638, 0.21336878027864611, 0.2044708756619382, 0.21974380193188606, 0, 0, 0, 0.2073532236220386, 0, 0, 0.2073532236220386, 0.18633920222883005, 0.20166756218397197, 0, 0, 0, 0.21650937385701638, 0.18633920222883005, 0.17317640019383893, 0.21336878027864611, 0, 0, 0, 0, 0, 0, 0, 0, 0, 0, 0, 0, 0, 0.2044708756619382, 0, 0]\n"
          ]
        }
      ]
    }
  ]
}