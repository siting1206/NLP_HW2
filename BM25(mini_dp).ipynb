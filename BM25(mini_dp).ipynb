{
  "nbformat": 4,
  "nbformat_minor": 0,
  "metadata": {
    "colab": {
      "provenance": [],
      "authorship_tag": "ABX9TyNc0BCiip2kCcC8Cr2uiuYd",
      "include_colab_link": true
    },
    "kernelspec": {
      "name": "python3",
      "display_name": "Python 3"
    },
    "language_info": {
      "name": "python"
    }
  },
  "cells": [
    {
      "cell_type": "markdown",
      "metadata": {
        "id": "view-in-github",
        "colab_type": "text"
      },
      "source": [
        "<a href=\"https://colab.research.google.com/github/siting1206/NLP_HW2/blob/main/BM25(mini_dp).ipynb\" target=\"_parent\"><img src=\"https://colab.research.google.com/assets/colab-badge.svg\" alt=\"Open In Colab\"/></a>"
      ]
    },
    {
      "cell_type": "code",
      "execution_count": 10,
      "metadata": {
        "id": "T3wMscmNomZB"
      },
      "outputs": [],
      "source": [
        "from gensim import corpora\n",
        "from gensim.summarization import bm25\n",
        "from nltk.stem.porter import PorterStemmer  \n",
        "from collections import namedtuple\n",
        "import regex as re\n",
        "import heapq\n",
        "p_stemmer = PorterStemmer()"
      ]
    },
    {
      "cell_type": "code",
      "source": [
        "from google.colab import drive\n",
        "drive.mount('/content/drive')"
      ],
      "metadata": {
        "colab": {
          "base_uri": "https://localhost:8080/"
        },
        "id": "JERs6ZFLphnG",
        "outputId": "cb4287a6-77cb-491b-9727-edcf385c62e0"
      },
      "execution_count": 11,
      "outputs": [
        {
          "output_type": "stream",
          "name": "stdout",
          "text": [
            "Drive already mounted at /content/drive; to attempt to forcibly remount, call drive.mount(\"/content/drive\", force_remount=True).\n"
          ]
        }
      ]
    },
    {
      "cell_type": "code",
      "source": [
        "Tag = namedtuple(\"Tag\", [\"snippets\", \"question\", \"answer\"])\n",
        "\n",
        "# Load train/validation dataset definition\n",
        "def load_sequences(filename, sep=\"\\t\", notypes=False, test_data=False):\n",
        "    sequences = []\n",
        "    with open(filename) as fp:\n",
        "        seq = []\n",
        "        for line in fp:\n",
        "            line = line.strip()\n",
        "            if line:\n",
        "                line = line.replace(\" ||| \", \"\\t\")\n",
        "                line = line.split(sep)\n",
        "                seq.append(Tag(*line))\n",
        "            else:\n",
        "                sequences.append(seq)\n",
        "                seq = []\n",
        "        if seq:\n",
        "            sequences.append(seq)\n",
        "    return sequences"
      ],
      "metadata": {
        "id": "YlEWP6arqO7-"
      },
      "execution_count": 12,
      "outputs": []
    },
    {
      "cell_type": "code",
      "source": [
        "train_sequences = load_sequences(\"drive/MyDrive/NLP_assignment2/Dataset/mini.txt\", sep=\"\\t\", notypes=True)"
      ],
      "metadata": {
        "id": "Mu-cQsi0poBu"
      },
      "execution_count": 13,
      "outputs": []
    },
    {
      "cell_type": "code",
      "source": [
        "train_snippets = [[t[0] for t in seq] for seq in (train_sequences)] # length = 99820\n",
        "train_question = [[t[1] for t in seq] for seq in (train_sequences)]\n",
        "train_answer = [[t[2] for t in seq] for seq in (train_sequences)]"
      ],
      "metadata": {
        "id": "u5BhGDUzDPCB"
      },
      "execution_count": 29,
      "outputs": []
    },
    {
      "cell_type": "code",
      "source": [
        "def sort_index(lst, rev=True):\n",
        "    index = range(len(lst))\n",
        "    s = sorted(index, reverse=rev, key=lambda i: lst[i])\n",
        "    return s"
      ],
      "metadata": {
        "id": "_fr9VOwzPgqK"
      },
      "execution_count": 15,
      "outputs": []
    },
    {
      "cell_type": "code",
      "source": [
        "def snippets_filter(snippets, question, trn_s = []):\n",
        "  \n",
        "  for i in range(0, len(snippets)):\n",
        "    snippets[i] = re.findall('<s> (.*?) </s>', snippets[i])\n",
        "    question[i] = question[i].split()\n",
        "    snippets_list =[]\n",
        "    \n",
        "    for a in snippets[i]:\n",
        "      a_split = a.replace('?',' ').replace('(',' ').replace(')',' ').split(' ')\n",
        "      # 詞干提取(e.g. assignment->assign, words->word)\n",
        "      stemmed_tokens = [p_stemmer.stem(i) for i in a_split] \n",
        "      snippets_list.append(stemmed_tokens)\n",
        "    query =[question[i]]\n",
        "    query_stemmed = [p_stemmer.stem(i) for i in query[0]]\n",
        "    # bm25模型\n",
        "    bm25Model = bm25.BM25(snippets_list)\n",
        "    # 計算各個snippets與answer相關性\n",
        "    average_idf = sum(map(lambda k: float(bm25Model.idf[k]), bm25Model.idf.keys())) / len(bm25Model.idf.keys())\n",
        "    scores = bm25Model.get_scores(query_stemmed,average_idf)\n",
        "    max_index = sort_index(scores)[:3]\n",
        "    # print(max_index)\n",
        "    s = []\n",
        "    for m in range(0, len(max_index)):\n",
        "      n = max_index[m]\n",
        "      s.append(snippets[i][n])\n",
        "    trn_s.append(s)\n",
        "  return trn_s, question"
      ],
      "metadata": {
        "id": "IW_Sel_1DaHR"
      },
      "execution_count": 16,
      "outputs": []
    },
    {
      "cell_type": "code",
      "source": [
        "trn_s, trn_q = snippets_filter(train_snippets[0], train_question[0], trn_s = [])\n",
        "print(len(trn_s), len(trn_q))"
      ],
      "metadata": {
        "colab": {
          "base_uri": "https://localhost:8080/"
        },
        "id": "fC_MpuDbXY76",
        "outputId": "b5a119ed-f8b6-42f2-d65e-bd3721540104"
      },
      "execution_count": 30,
      "outputs": [
        {
          "output_type": "stream",
          "name": "stdout",
          "text": [
            "4 4\n"
          ]
        }
      ]
    },
    {
      "cell_type": "code",
      "source": [
        "print(train_question)\n",
        "print(train_answer)"
      ],
      "metadata": {
        "colab": {
          "base_uri": "https://localhost:8080/"
        },
        "id": "TZwK1f3z7S8W",
        "outputId": "41eaab4a-e6f9-4564-a0cd-8f9681649135"
      },
      "execution_count": 25,
      "outputs": [
        {
          "output_type": "stream",
          "name": "stdout",
          "text": [
            "[[['last', '8', 'years', 'life', ',', 'galileo', 'house', 'arrest', 'espousing', 'man', \"'s\", 'theory'], ['2', '1912', 'olympian', 'football', 'star', 'carlisle', 'indian', 'school', '6', 'mlb', 'seasons', 'reds', ',', 'giants', 'braves'], ['city', 'yuma', 'state', 'record', 'average', '4', ',', '055', 'hours', 'sunshine', 'year'], ['signer', 'dec', 'indep', ',', 'framer', 'constitution', 'mass', ',', 'second', 'president', 'united', 'states']]]\n",
            "[['copernicus', 'jim thorpe', 'arizona', 'john adams']]\n"
          ]
        }
      ]
    },
    {
      "cell_type": "code",
      "source": [
        "f = open(\"/content/drive/MyDrive/NLP_assignment2/Dataset/mini_ext.txt\", \"w\")\n",
        "f.write(\"snippet\\tquesion\\tanswer\\n\")\n",
        "for i in range(0, len(trn_s)):\n",
        "  for j in range(0, len(trn_s[i])):\n",
        "    f.write(trn_s[i][j] + \"\\t\")\n",
        "    for k in range(0, len(trn_q[i])):\n",
        "      f.write(trn_q[i][k] + \" \")\n",
        "    f.write(\"\\t\" + train_answer[0][i] + \"\\n\")\n",
        "f.close()"
      ],
      "metadata": {
        "id": "TgnQWKSErasu"
      },
      "execution_count": 33,
      "outputs": []
    }
  ]
}